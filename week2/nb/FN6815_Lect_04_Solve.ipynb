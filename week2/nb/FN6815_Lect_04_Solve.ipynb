{
 "cells": [
  {
   "cell_type": "markdown",
   "metadata": {},
   "source": [
    "# FN6815 Numerical Methods for Financial Instrument Pricing\n",
    "\n",
    "# Lecture 4: Solving Equations (root finding)\n",
    "\n",
    "-   Dr. Yang Ye\n",
    "-   Email: yy@runchee.com\n",
    "-   2023/2024 Mini Term 5\n"
   ]
  },
  {
   "cell_type": "markdown",
   "metadata": {},
   "source": [
    "We will start our first numerical method by solving equations. This is a fundamental problem in numerical analysis and has many applications in finance.\n",
    "\n",
    "Beside directly solving equation for the answer. Solving equation finds its application in many other numerical methods, such as optimization.\n",
    "\n",
    "For example, the maximum or minimum of a function is found by solving the equation of the derivative of the function $F'(x) = 0$, where $F(x)$ is the function to be optimized.\n",
    "\n",
    "For example, consider the function $F(x) = x^2$. To find its minimum, we first compute the derivative $F'(x) = 2x$, then solve $F'(x) = 0$ to get $x = 0$. This indicates that $F(x)$ has a minimum at $x = 0$.\n"
   ]
  },
  {
   "cell_type": "markdown",
   "metadata": {},
   "source": [
    "## 1. Solving Equations\n",
    "\n",
    "The algebraic equation is of such form\n",
    "\n",
    "$$\n",
    "f(x) = 0\n",
    "$$\n"
   ]
  },
  {
   "attachments": {},
   "cell_type": "markdown",
   "metadata": {},
   "source": [
    "### 1.1 Brute-force Method\n",
    "\n",
    "A brute-force algorithm for finding the zero of a function $f(x)$ involves dividing the search range into fine intervals and checking each point on the curve of $f(x)$. If one point is below the x-axis and the next point is above, or vice versa, we know that $f(x)$ has at least one zero point between these two x points. We can then use linear interpolation to estimate the zero point.\n",
    "\n",
    "However, choosing the interval size is a trade-off between speed and accuracy. If the interval is too small, the algorithm becomes slow and may never progress through the range when the interval is less than machine epsilon (mach_e). If the interval is too large, the algorithm may miss the solution. This is a significant limitation of this method.\n"
   ]
  },
  {
   "cell_type": "markdown",
   "metadata": {},
   "source": [
    "#### 1.1.1 Algorithm\n",
    "\n",
    "1. We create the a set of $n+1$ points $(y_0 \\cdots y_n)$ for range $[x_0, x_n]$.\n",
    "\n",
    "$$y_i=f(x_i), \\text{where}$$\n",
    "\n",
    "$$i=0,\\ldots,n,\\:\\text{and}\\:x_0 < \\ldots < x_n$$\n",
    "\n",
    "2. We check if $y_i < 0$ and $y_{i+1} > 0$, or the other way around. A compact expression\n",
    "   for this check is to perform the test $y_i y_{i+1} < 0$.\n",
    "\n",
    "3. If we can find a pair of adjacent $y$ to be of opposite sign, the root of $f(x)=0$ lies in the range of $[x_i, x_{i+1}]$.\n",
    "\n",
    "Assume a linear variation of $f$ between $x_i$ and $x_{i+1}$, we have the approximation\n",
    "\n",
    "$$\n",
    "        f(x)\\approx \\frac{f(x_{i+1})-f(x_i)}{x_{i+1}-x_i}(x-x_i) + f(x_i)\n",
    "        = \\frac{y_{i+1}-y_i}{x_{i+1}-x_i}(x-x_i) + y_i,\n",
    "$$\n",
    "\n",
    "which, when $f(x)$ set equal to zero, gives the root\n",
    "\n",
    "$$\n",
    "\\begin{aligned}\n",
    "x & = x_i - \\frac {x_{i+1}-x_i} {y_{i+1}-y_i} y_i \\\\ &  = x_{i+1} - \\frac {x_{i+1}-x_i} {y_{i+1}-y_i} y_{i+1}\n",
    "\\end{aligned}\n",
    "$$\n"
   ]
  },
  {
   "attachments": {},
   "cell_type": "markdown",
   "metadata": {},
   "source": [
    "#### 1.1.2 Implementation\n"
   ]
  },
  {
   "cell_type": "code",
   "execution_count": 1,
   "metadata": {
    "execution": {
     "iopub.execute_input": "2024-03-01T14:12:09.405335Z",
     "iopub.status.busy": "2024-03-01T14:12:09.404331Z",
     "iopub.status.idle": "2024-03-01T14:12:09.803052Z",
     "shell.execute_reply": "2024-03-01T14:12:09.803052Z"
    },
    "tags": []
   },
   "outputs": [],
   "source": [
    "import matplotlib.pyplot as plt\n",
    "import numpy as np"
   ]
  },
  {
   "cell_type": "code",
   "execution_count": 9,
   "metadata": {
    "execution": {
     "iopub.execute_input": "2024-03-01T14:12:09.806391Z",
     "iopub.status.busy": "2024-03-01T14:12:09.806391Z",
     "iopub.status.idle": "2024-03-01T14:12:10.184204Z",
     "shell.execute_reply": "2024-03-01T14:12:10.184204Z"
    },
    "tags": []
   },
   "outputs": [
    {
     "data": {
      "image/png": "[encoded data removed]",
      "text/plain": [
       "<Figure size 640x480 with 1 Axes>"
      ]
     },
     "metadata": {},
     "output_type": "display_data"
    }
   ],
   "source": [
    "def f(x):\n",
    "    return np.exp(-(x**2)) * np.cos(4 * x)\n",
    "\n",
    "\n",
    "# Set the 3rd argument to different numbers, i.e. 11, 10001\n",
    "x = np.linspace(0, 4, 17)\n",
    "y = f(x)\n",
    "\n",
    "plt.plot(x, y, \"r\")\n",
    "plt.plot(x, y, \"o\")\n",
    "plt.hlines(0, 0, 4, linestyles=\"dashed\")\n",
    "plt.title(label=\"$e^{-2x}*cos(4x)$\")\n",
    "plt.show()"
   ]
  },
  {
   "cell_type": "code",
   "execution_count": 10,
   "metadata": {
    "execution": {
     "iopub.execute_input": "2024-03-01T14:12:10.222004Z",
     "iopub.status.busy": "2024-03-01T14:12:10.222004Z",
     "iopub.status.idle": "2024-03-01T14:12:10.229837Z",
     "shell.execute_reply": "2024-03-01T14:12:10.229837Z"
    },
    "tags": []
   },
   "outputs": [
    {
     "name": "stdout",
     "output_type": "stream",
     "text": [
      "interval is 0.25\n",
      "Find (the first) root as x=0.402576\n"
     ]
    }
   ],
   "source": [
    "# Initialization\n",
    "root = None\n",
    "\n",
    "interval = (x[1:] - x[:-1]).mean()\n",
    "print(f\"interval is {interval}\")\n",
    "\n",
    "for i in range(len(x) - 1):\n",
    "    if y[i] * y[i + 1] < 0:\n",
    "        # Use linear approximation to calculate the root between two points\n",
    "        root = x[i] - (x[i + 1] - x[i]) / (y[i + 1] - y[i]) * y[i]\n",
    "        break  # Jump out of loop\n",
    "\n",
    "if root is None:\n",
    "    print(\"Could not find any root in [%g, %g]\" % (x[0], x[-1]))\n",
    "else:\n",
    "    print(\"Find (the first) root as x=%g\" % root)"
   ]
  },
  {
   "cell_type": "code",
   "execution_count": 11,
   "metadata": {},
   "outputs": [
    {
     "data": {
      "text/plain": [
       "array([0.25, 0.25, 0.25, 0.25, 0.25, 0.25, 0.25, 0.25, 0.25, 0.25, 0.25,\n",
       "       0.25, 0.25, 0.25, 0.25, 0.25])"
      ]
     },
     "execution_count": 11,
     "metadata": {},
     "output_type": "execute_result"
    }
   ],
   "source": [
    "(x[1:] - x[:-1])"
   ]
  },
  {
   "cell_type": "markdown",
   "metadata": {},
   "source": [
    "Above code only returns the first-found root. Let's try to find all possible roots.\n"
   ]
  },
  {
   "cell_type": "code",
   "execution_count": 4,
   "metadata": {
    "execution": {
     "iopub.execute_input": "2024-03-01T14:12:10.233216Z",
     "iopub.status.busy": "2024-03-01T14:12:10.231730Z",
     "iopub.status.idle": "2024-03-01T14:12:10.238325Z",
     "shell.execute_reply": "2024-03-01T14:12:10.238325Z"
    },
    "tags": []
   },
   "outputs": [
    {
     "name": "stdout",
     "output_type": "stream",
     "text": [
      "[0.42456929 1.23527799 1.98240929 3.30718268 3.99338958]\n"
     ]
    }
   ],
   "source": [
    "from numpy import linspace\n",
    "\n",
    "\n",
    "def brute_force_root_finder(f, a, b, n):\n",
    "    x = linspace(a, b, n)\n",
    "    y = f(x)\n",
    "    roots = []\n",
    "\n",
    "    # Solution 1: use for\n",
    "    for i in range(n - 1):\n",
    "        if y[i] * y[i + 1] < 0:\n",
    "            root = x[i] - (x[i + 1] - x[i]) / (y[i + 1] - y[i]) * y[i]\n",
    "            roots.append(root)\n",
    "\n",
    "    # Solution 2: Use numpy's where() and a function for linear interpolation\n",
    "    zero_cross = np.where(y[:-1] * y[1:] < 0)[0]\n",
    "\n",
    "    def linear_interp(x0, x1, y0, y1):\n",
    "        return x0 - (x1 - x0) / (y1 - y0) * y0\n",
    "\n",
    "    roots2 = linear_interp(\n",
    "        x[zero_cross], x[zero_cross + 1], y[zero_cross], y[zero_cross + 1]\n",
    "    )\n",
    "\n",
    "    # Two solutions have the same result\n",
    "    assert np.allclose(roots, roots2)\n",
    "\n",
    "    return roots2\n",
    "\n",
    "\n",
    "def f(x):\n",
    "    return np.exp(-(x**2)) * np.cos(4 * x)\n",
    "\n",
    "\n",
    "roots = brute_force_root_finder(f, 0, 4, 7)\n",
    "\n",
    "if len(roots) > 0:\n",
    "    print(roots)"
   ]
  },
  {
   "attachments": {},
   "cell_type": "markdown",
   "metadata": {},
   "source": [
    "In addition to finding zero points, we can extend the root-finding approach to locate all local maxima and minima. A local maximum or minimum occurs when the value at a point is greater or smaller, respectively, than the values at its adjacent points.\n",
    "\n",
    "This is a brute-force method, and it is not efficient and have a low accuracy but can be effective under some circumstances.\n"
   ]
  },
  {
   "cell_type": "code",
   "execution_count": 5,
   "metadata": {
    "execution": {
     "iopub.execute_input": "2024-03-01T14:12:10.240386Z",
     "iopub.status.busy": "2024-03-01T14:12:10.240386Z",
     "iopub.status.idle": "2024-03-01T14:12:10.244356Z",
     "shell.execute_reply": "2024-03-01T14:12:10.244356Z"
    },
    "tags": []
   },
   "outputs": [],
   "source": [
    "def brute_force_optimizer(f, a, b, n):\n",
    "    x = np.linspace(a, b, n)\n",
    "    y = f(x)\n",
    "\n",
    "    # Let maxima and minima hold the indices corresponding\n",
    "    # to (local) maxima and minima points\n",
    "    minima = []\n",
    "    maxima = []\n",
    "    for i in range(n - 1):\n",
    "        if y[i - 1] < y[i] > y[i + 1]:\n",
    "            maxima.append(i)\n",
    "        if y[i - 1] > y[i] < y[i + 1]:\n",
    "            minima.append(i)\n",
    "\n",
    "    # Return x and y values\n",
    "    return [(x[i], y[i]) for i in minima], [(x[i], y[i]) for i in maxima]"
   ]
  },
  {
   "cell_type": "code",
   "execution_count": 6,
   "metadata": {
    "execution": {
     "iopub.execute_input": "2024-03-01T14:12:10.246362Z",
     "iopub.status.busy": "2024-03-01T14:12:10.246362Z",
     "iopub.status.idle": "2024-03-01T14:12:10.250833Z",
     "shell.execute_reply": "2024-03-01T14:12:10.250315Z"
    },
    "tags": []
   },
   "outputs": [
    {
     "name": "stdout",
     "output_type": "stream",
     "text": [
      "Minima: [(0.7000000000000001, -0.5772302750838405), (2.152, -0.006670480742256502), (3.66, -7.333826733936654e-07)]\n",
      "Maxima: [(0.0, 1.0), (1.416, 0.10965467991643564), (2.9, 0.00012651823896373234)]\n"
     ]
    }
   ],
   "source": [
    "minima, maxima = brute_force_optimizer(\n",
    "    lambda x: np.exp(-(x**2)) * np.cos(4 * x), 0, 4, 1001\n",
    ")\n",
    "\n",
    "print(\"Minima:\", minima)\n",
    "print(\"Maxima:\", maxima)"
   ]
  },
  {
   "attachments": {},
   "cell_type": "markdown",
   "metadata": {},
   "source": [
    "#### 1.1.1 Discussion\n",
    "\n",
    "What's the advantages of a brute-force solver?\n",
    "\n",
    "-   Universality: It can be applied to virtually any problem, without requiring specific knowledge about the problem's structure or properties.\n",
    "\n",
    "-   Ease of Implementation: Brute-force algorithms are typically straightforward to understand and implement. They don't require complex data structures or advanced algorithmic concepts.\n",
    "\n",
    "-   Guaranteed to Find a Solution: If a solution exists and the search space is finite, a brute-force solver is guaranteed to find it, given enough time. <= **This is a very important property.**\n",
    "\n",
    "-   Useful for Small Problems: For small problem sizes, a brute-force solver can be efficient and fast.\n",
    "\n",
    "-   Benchmarking: Brute-force solutions can serve as a baseline for comparing the performance of more sophisticated algorithms.\n"
   ]
  },
  {
   "attachments": {},
   "cell_type": "markdown",
   "metadata": {},
   "source": [
    "### 1.2 Newton-Raphson method\n",
    "\n",
    "The Newton-Raphson method is a powerful technique for finding roots of a function with fewer steps compared to brute-force methods. It works by repeatedly finding where the tangent line at a point on the function crosses the x-axis.\n",
    "\n",
    "We start from $x_n$ and reach the next point $x_{n+1}$ by the following formula:\n",
    "\n",
    "$$\n",
    "x_{n+1} = x_n - \\frac{f(x_n)}{f'(x_n)},\\quad n=0,1,2,\\ldots, \\text{where }\n",
    "$$\n",
    "\n",
    "$$\n",
    "f'(x_n) = \\frac {f(x_n)} {(x_n - x_{n+1})}\n",
    "$$\n",
    "\n",
    "![Newton-Raphson method](img/04/newton_raph.png)\n"
   ]
  },
  {
   "cell_type": "code",
   "execution_count": 13,
   "metadata": {
    "execution": {
     "iopub.execute_input": "2024-03-01T14:12:10.252358Z",
     "iopub.status.busy": "2024-03-01T14:12:10.252358Z",
     "iopub.status.idle": "2024-03-01T14:12:10.255939Z",
     "shell.execute_reply": "2024-03-01T14:12:10.255939Z"
    },
    "tags": []
   },
   "outputs": [
    {
     "name": "stdout",
     "output_type": "stream",
     "text": [
      "3.0000276392750296\n"
     ]
    }
   ],
   "source": [
    "def naive_Newton(f, dfdx, x, eps):\n",
    "    while abs(f(x)) > eps:\n",
    "        x = x - float(f(x)) / dfdx(x)\n",
    "    return x\n",
    "\n",
    "\n",
    "def f(x):\n",
    "    return x**2 - 9\n",
    "\n",
    "\n",
    "def dfdx(x):\n",
    "    return 2 * x\n",
    "\n",
    "\n",
    "print(naive_Newton(f, dfdx, 1000, 0.001))"
   ]
  },
  {
   "attachments": {},
   "cell_type": "markdown",
   "metadata": {},
   "source": [
    "The Newton-Raphson method's convergence depends on the initial guess and the nature of the function. For the function $f(x) = tanh(x)$, which has a root at $x = 0$.\n",
    "\n",
    "When starting position $\\left | x \\right | \\le 1.08$, we can get a good answer. However, the method fails to converge for initial guesses with $\\left | x \\right | \\gt 1.09$.\n",
    "\n",
    "This is because the derivative of $tanh(x)$, which is $1 - tanh(x)^2$, approaches zero as $|x|$ increases. When $|x| > 1.09$, the derivative is so close to zero that the Newton-Raphson update step, $x - f(x) / df(x)$, results in a large jump, leading the method away from the root instead of towards it.\n",
    "\n",
    "Back to the 1st sentence of this paragraph, the Newton-Raphson method's convergence depends on the **initial guess** and the **nature of the function**. This is a significant characteristics/limitation of the Newton-Raphson method.\n"
   ]
  },
  {
   "cell_type": "code",
   "execution_count": 14,
   "metadata": {
    "execution": {
     "iopub.execute_input": "2024-03-01T14:12:10.258314Z",
     "iopub.status.busy": "2024-03-01T14:12:10.258314Z",
     "iopub.status.idle": "2024-03-01T14:12:10.262986Z",
     "shell.execute_reply": "2024-03-01T14:12:10.262986Z"
    },
    "tags": []
   },
   "outputs": [
    {
     "name": "stdout",
     "output_type": "stream",
     "text": [
      "7.060280364457744e-05\n",
      "2.3995252668003453e-05\n",
      "-2.3995252668003453e-05\n",
      "nan\n",
      "nan\n",
      "nan\n"
     ]
    },
    {
     "name": "stderr",
     "output_type": "stream",
     "text": [
      "/var/folders/l2/g62nwg6n517g5516gcjv7mh80000gn/T/ipykernel_29059/2493755483.py:3: RuntimeWarning: divide by zero encountered in scalar divide\n",
      "  x = x - float(f(x)) / dfdx(x)\n",
      "/var/folders/l2/g62nwg6n517g5516gcjv7mh80000gn/T/ipykernel_29059/2493755483.py:3: RuntimeWarning: invalid value encountered in scalar subtract\n",
      "  x = x - float(f(x)) / dfdx(x)\n"
     ]
    }
   ],
   "source": [
    "import numpy as np\n",
    "\n",
    "\n",
    "def f(x):\n",
    "    return np.tanh(x)\n",
    "\n",
    "\n",
    "def dfdx(x):\n",
    "    return 1 - np.tanh(x) ** 2\n",
    "\n",
    "\n",
    "def test_naive_newton(f, dfdx, x, eps):\n",
    "    try:\n",
    "        result = naive_Newton(f, dfdx, x, eps)\n",
    "        return result\n",
    "    except FloatingPointError as err:\n",
    "        print(f\"caught {err} with {x, eps}\")\n",
    "\n",
    "\n",
    "print(test_naive_newton(f, dfdx, 1.0, 0.001))\n",
    "print(test_naive_newton(f, dfdx, 1.08, 0.001))\n",
    "print(test_naive_newton(f, dfdx, -1.08, 0.001))\n",
    "print(test_naive_newton(f, dfdx, 1.09, 0.001))\n",
    "print(test_naive_newton(f, dfdx, -1.09, 0.001))\n",
    "print(test_naive_newton(f, dfdx, -1.1, 0.001))"
   ]
  },
  {
   "attachments": {},
   "cell_type": "markdown",
   "metadata": {},
   "source": [
    "To visualize the Newton-Raphson method, we can plot the function $f(x)$ and its tangent lines at each step.\n",
    "\n",
    "The tangent line at a point `(x, f(x))` has a slope of `dfdx(x)`, and it intersects the y-axis at `f(x) - dfdx(x) * x`. We can define a function `tangent_line(x)` that takes `x` as input and returns this line as a function of x.\n",
    "\n",
    "$$\n",
    "f(x) = ax + b \\\\\n",
    "b = f(x) - a * x\n",
    "$$\n"
   ]
  },
  {
   "cell_type": "code",
   "execution_count": 16,
   "metadata": {
    "execution": {
     "iopub.execute_input": "2024-03-01T14:12:10.265271Z",
     "iopub.status.busy": "2024-03-01T14:12:10.265271Z",
     "iopub.status.idle": "2024-03-01T14:12:10.267778Z",
     "shell.execute_reply": "2024-03-01T14:12:10.267778Z"
    },
    "tags": []
   },
   "outputs": [],
   "source": [
    "def intercept(x, fx):\n",
    "    return fx(x) - dfdx(x) * x\n",
    "\n",
    "\n",
    "def tangent_line(x, fx, dfdx):\n",
    "    def tangent_func(xs, dfdx=dfdx, x=x):\n",
    "        return dfdx(x) * xs + intercept(x, fx)\n",
    "\n",
    "    return tangent_func"
   ]
  },
  {
   "cell_type": "code",
   "execution_count": 17,
   "metadata": {
    "execution": {
     "iopub.execute_input": "2024-03-01T14:12:10.270074Z",
     "iopub.status.busy": "2024-03-01T14:12:10.270074Z",
     "iopub.status.idle": "2024-03-01T14:12:10.273303Z",
     "shell.execute_reply": "2024-03-01T14:12:10.273303Z"
    },
    "tags": []
   },
   "outputs": [],
   "source": [
    "def naive_Newton_with_plot(f, dfdx, x, eps, n_limit=None):\n",
    "    n = 1\n",
    "    while abs(f(x)) > eps:\n",
    "        x = x - float(f(x)) / dfdx(x)\n",
    "        plt.scatter([x], [f(x)])\n",
    "        # plot the tangent line for range of [0, x]\n",
    "        xs = np.array([0, x])\n",
    "        ys = tangent_line(x, f, dfdx)(xs)\n",
    "        plt.plot(xs, ys)\n",
    "        # add label for n-th point\n",
    "        plt.text(x, f(x) + 0.05, f\"{n}\")\n",
    "        print((n, x, dfdx(x)))\n",
    "        n += 1\n",
    "        if n_limit is not None and n >= n_limit:\n",
    "            break\n",
    "    return x"
   ]
  },
  {
   "cell_type": "markdown",
   "metadata": {},
   "source": [
    "-   For the case of 1.08\n"
   ]
  },
  {
   "cell_type": "code",
   "execution_count": 19,
   "metadata": {
    "execution": {
     "iopub.execute_input": "2024-03-01T14:12:10.275314Z",
     "iopub.status.busy": "2024-03-01T14:12:10.275314Z",
     "iopub.status.idle": "2024-03-01T14:12:10.386298Z",
     "shell.execute_reply": "2024-03-01T14:12:10.386298Z"
    },
    "tags": []
   },
   "outputs": [
    {
     "name": "stdout",
     "output_type": "stream",
     "text": [
      "(1, -1.058953134356349, 0.38336224060761714)\n",
      "(2, 0.9894042072982381, 0.42678723076557945)\n",
      "(3, -0.7845667730857784, 0.5705555577821301)\n",
      "(4, 0.3639981611100067, 0.8783867937357202)\n",
      "(5, -0.033014696137195654, 0.9989108213733546)\n",
      "(6, 2.3995252668003453e-05, 0.9999999994242279)\n",
      "2.3995252668003453e-05\n"
     ]
    },
    {
     "data": {
      "image/png": "[encoded data removed]",
      "text/plain": [
       "<Figure size 640x480 with 1 Axes>"
      ]
     },
     "metadata": {},
     "output_type": "display_data"
    }
   ],
   "source": [
    "def f(x):\n",
    "    return np.tanh(x)\n",
    "\n",
    "\n",
    "def dfdx(x):\n",
    "    return 1 - np.tanh(x) ** 2\n",
    "\n",
    "\n",
    "all_xs = np.linspace(-2.5, 2.5, 1000)\n",
    "plt.plot(all_xs, f(all_xs))\n",
    "print(naive_Newton_with_plot(f, dfdx, 1.08, 0.001))\n",
    "plt.show()"
   ]
  },
  {
   "attachments": {},
   "cell_type": "markdown",
   "metadata": {},
   "source": [
    "-   For the case of 1.09, we got numerical instability.\n",
    "\n",
    "Instead of converging to the zero point, it diverges to the outside. At point 6, the slope becomes close to zero. It causes the next point to be far away from the zero point from a large jump.\n"
   ]
  },
  {
   "cell_type": "code",
   "execution_count": 20,
   "metadata": {
    "execution": {
     "iopub.execute_input": "2024-03-01T14:12:10.388535Z",
     "iopub.status.busy": "2024-03-01T14:12:10.388535Z",
     "iopub.status.idle": "2024-03-01T14:12:10.630067Z",
     "shell.execute_reply": "2024-03-01T14:12:10.629554Z"
    },
    "tags": []
   },
   "outputs": [
    {
     "name": "stdout",
     "output_type": "stream",
     "text": [
      "(1, -1.0933161820201083, 0.3630598424724377)\n",
      "(2, 1.104903543244409, 0.3563893535985908)\n",
      "(3, -1.1461555078811896, 0.3333661723511766)\n",
      "(4, 1.3030326182332865, 0.25609061277449485)\n",
      "(5, -2.064923002377556, 0.06232040629641289)\n",
      "(6, 13.473142800576014, 7.932987600156594e-12)\n",
      "13.473142800576014\n"
     ]
    },
    {
     "data": {
      "image/png": "[encoded data removed]",
      "text/plain": [
       "<Figure size 640x480 with 1 Axes>"
      ]
     },
     "metadata": {},
     "output_type": "display_data"
    },
    {
     "name": "stdout",
     "output_type": "stream",
     "text": [
      "(1, -1.0933161820201083, 0.3630598424724377)\n",
      "(2, 1.104903543244409, 0.3563893535985908)\n",
      "(3, -1.1461555078811896, 0.3333661723511766)\n",
      "(4, 1.3030326182332865, 0.25609061277449485)\n",
      "(5, -2.064923002377556, 0.06232040629641289)\n",
      "(6, 13.473142800576014, 7.932987600156594e-12)\n",
      "(7, -126055913647.13739, 0.0)\n",
      "-126055913647.13739\n"
     ]
    },
    {
     "data": {
      "image/png": "[encoded data removed]",
      "text/plain": [
       "<Figure size 640x480 with 1 Axes>"
      ]
     },
     "metadata": {},
     "output_type": "display_data"
    }
   ],
   "source": [
    "all_xs = np.linspace(-2.5, 2.5, 1000)\n",
    "plt.plot(all_xs, f(all_xs))\n",
    "# set n_limit\n",
    "print(naive_Newton_with_plot(f, dfdx, 1.09, 0.001, n_limit=7))\n",
    "plt.show()\n",
    "\n",
    "print(naive_Newton_with_plot(f, dfdx, 1.09, 0.001, n_limit=8))\n",
    "plt.show()"
   ]
  },
  {
   "attachments": {},
   "cell_type": "markdown",
   "metadata": {},
   "source": [
    "`dfdx(x)` could be close to zero so we can prevent the exception of division of zero by adding a check.\n"
   ]
  },
  {
   "cell_type": "code",
   "execution_count": 13,
   "metadata": {
    "execution": {
     "iopub.execute_input": "2024-03-01T14:12:10.632582Z",
     "iopub.status.busy": "2024-03-01T14:12:10.632582Z",
     "iopub.status.idle": "2024-03-01T14:12:10.636426Z",
     "shell.execute_reply": "2024-03-01T14:12:10.636426Z"
    }
   },
   "outputs": [
    {
     "name": "stdout",
     "output_type": "stream",
     "text": [
      "None\n",
      "2.3995252668003453e-05\n"
     ]
    }
   ],
   "source": [
    "def robust_Newton(f, dfdx, x, eps):\n",
    "    np.seterr(all=\"raise\")\n",
    "    while abs(f(x)) > eps:\n",
    "        if np.abs(dfdx(x)) > np.sqrt(np.finfo(float).eps):\n",
    "            x = x - float(f(x)) / dfdx(x)\n",
    "        else:\n",
    "            return None\n",
    "    return x\n",
    "\n",
    "\n",
    "print(robust_Newton(f, dfdx, 1.09, 0.001))\n",
    "print(robust_Newton(f, dfdx, 1.08, 0.001))"
   ]
  },
  {
   "attachments": {},
   "cell_type": "markdown",
   "metadata": {},
   "source": [
    "#### 1.2.1 Newton's Method Pitfalls (some if not all are shared with Secant method)\n",
    "\n",
    "While Newton's method can be highly efficient, it's sensitive to the initial guess. Here are some potential issues with a \"bad start\":\n",
    "\n",
    "1. **Non-Convergence**: The sequence ${x_n}$ may wander around without converging. This can occur when there are only complex roots to the equation.\n",
    "\n",
    "2. **Divergence**: The sequence ${x_n}$ may diverge to $\\infty$. This can happen when f is positive and monotonically decreasing on an unbounded interval.\n",
    "\n",
    "3. **Cycling**: The sequence ${x_n}$ may enter a cycle, repeating the same values over and over.\n",
    "\n",
    "4. **Convergence to Wrong Root**: If the initial approximation $x_0$ is too far from the desired root, ${x_n}$ may converge to a different root. This typically happens when $f_0 = f(x_0)$ is small.\n",
    "\n",
    "For example, the following call to a robust version of the Newton's method enters an infinite loop because the function f(x) = x^2 + 2 has no real roots:\n",
    "\n",
    "```python\n",
    "# infinite loop\n",
    "robust_Newton(lambda x: x*x + 2, lambda x: 2*x, 3, 0.0000001)\n",
    "```\n"
   ]
  },
  {
   "attachments": {},
   "cell_type": "markdown",
   "metadata": {},
   "source": [
    "#### 1.2.2 Exercise\n",
    "\n",
    "Here are some enhancements we can make to our implementation of Newton's method:\n",
    "\n",
    "-   **Avoid Division by Zero**: If the derivative `dfdx(x)` is zero, the Newton-Raphson update step will involve division by zero. We should check for this condition and exit the function if it occurs.\n",
    "\n",
    "-   **Save Time by Avoiding Extra Function Evaluations**: Each evaluation of `f(x)` can be computationally expensive. We should structure our code to minimize the number of times `f(x)` is evaluated.\n"
   ]
  },
  {
   "cell_type": "markdown",
   "metadata": {},
   "source": [
    "### 1.3 Secant method\n"
   ]
  },
  {
   "attachments": {},
   "cell_type": "markdown",
   "metadata": {},
   "source": [
    "When the derivative `f'(x)` is challenging to compute or computationally expensive, we can modify Newton's method to avoid using the derivative. This leads to the Secant method, which uses secant lines instead of tangent lines.\n"
   ]
  },
  {
   "attachments": {},
   "cell_type": "markdown",
   "metadata": {},
   "source": [
    "The derivation of the Secant method.\n",
    "\n",
    "We start from the equation of the secant line passing through the points $(x_{n-1}, f(x_{n-1}))$ and $(x_n, f(x_n))$:\n",
    "$$\\frac {f(x_{n-1})} {x_{n-1} - x_{n + 1}} = \\frac {f(x_{n})} {x_{n} - x_{n + 1}}$$\n",
    "\n",
    "Solving for $x_{n+1}$, we get:\n",
    "\n",
    "$${f(x_{n-1})} x_n - {f(x_{n-1})} x_{n+1} = {f(x_{n})} x_{n-1} - {f(x_{n})} x_{n + 1}$$\n",
    "\n",
    "$${f(x_{n-1})} x_n - {f(x_{n})} x_{n-1} = {f(x_{n-1})} x_{n+1} - {f(x_{n})} x_{n + 1}$$\n",
    "\n",
    "$$ x*{n + 1} = \\frac { {f(x*{n-1})} x*n - {f(x*{n})} x*{n-1} } { {f(x*{n-1})} - {f(x\\_{n})} } $$\n",
    "\n",
    "$$\n",
    "x_{n+1} = x_n - f(x_n) \\frac{x_n - x_{n-1}}{f(x_n)-f(x_{n-1})}\n",
    "$$\n",
    "\n",
    "![Secant method](img/04/secant.png)\n"
   ]
  },
  {
   "attachments": {},
   "cell_type": "markdown",
   "metadata": {},
   "source": [
    "#### 1.3.1 Discussion\n",
    "\n",
    "When choosing between Newton's method and the Secant method, consider whether the analytical form of the derivative is known:\n",
    "\n",
    "**If the derivative is known analytically**, use Newton's method. The analytical form provides a direct and accurate calculation of the derivative, which makes Newton's method efficient and precise.\n",
    "\n",
    "**If the derivative is not known analytically**, use the Secant method. If we use numerical differentiation, which approximates the derivative, can introduce accuracy problems. The Secant method avoids this issue by using a finite difference approximation based on two successive points.\n",
    "\n",
    "The trade-off of the Secant method is that we need to decide the initial two points. The initial two points are crucial to the convergence of the Secant method. If the initial two points are too close, the Secant method may not converge. If the initial two points are too far away, the Secant method may converge slowly.\n"
   ]
  },
  {
   "cell_type": "markdown",
   "metadata": {},
   "source": [
    "#### 1.3.2 Exercise\n",
    "\n",
    "-   Update the code of Newton's method for the Secant method.\n",
    "-   Identify the case for the scenarios described above\n"
   ]
  },
  {
   "attachments": {},
   "cell_type": "markdown",
   "metadata": {},
   "source": [
    "### 1.4 Bisection method\n",
    "\n",
    "While Newton's and Secant methods are conditionally reliable and depend on the starting position, the Bisection method guarantees finding a solution. However, like the Newton's method and Secant method, it only finds one solution if multiple exist. The Bisection method trades speed for reliability, typically being slower than the other two methods.\n",
    "\n",
    "Steps of the Bisection Method:\n",
    "\n",
    "1. **Input**: An interval $[a, b]$.\n",
    "2. **Test**: Evaluate the function at the midpoint $M$ of the current interval.\n",
    "    - If $f(M) \\approx 0$, then $M$ is the root.\n",
    "    - If not, but the sub-interval too small, then we may consider no root. Otherwise, proceed to the next step.\n",
    "3. **Update**: Choose the sub-interval where the function changes sign (i.e., $f(a) \\cdot f (M) < 0$. or $f(M) \\cdot f (b) < 0$. This new sub-interval is half the size of the previous interval.\n",
    "4. **Repeat**: Go back to Step 2 with the new sub-interval.\n"
   ]
  },
  {
   "cell_type": "code",
   "execution_count": 14,
   "metadata": {
    "execution": {
     "iopub.execute_input": "2024-03-01T14:12:10.638438Z",
     "iopub.status.busy": "2024-03-01T14:12:10.638438Z",
     "iopub.status.idle": "2024-03-01T14:12:10.644542Z",
     "shell.execute_reply": "2024-03-01T14:12:10.644542Z"
    }
   },
   "outputs": [],
   "source": [
    "from typing import Callable\n",
    "\n",
    "\n",
    "def bisection(\n",
    "    f: Callable[float, float],\n",
    "    x_L: float,\n",
    "    x_R: float,\n",
    "    eps: float,\n",
    "    return_x_list: bool = False,\n",
    "    do_plot: bool = False,\n",
    "):\n",
    "    if do_plot:\n",
    "        xs = np.linspace(x_L, x_R, 1000)\n",
    "        ys = f(xs)\n",
    "        plt.plot(xs, ys)\n",
    "        # use by later plots\n",
    "        ys_min = ys.min()\n",
    "        ys_max = ys.max()\n",
    "        ys = [ys_min, ys_max]\n",
    "\n",
    "    f_L = f(x_L)\n",
    "\n",
    "    x_M = float(x_L + x_R) / 2.0\n",
    "    f_M = f(x_M)\n",
    "    if do_plot:\n",
    "        xs = [x_M, x_M]\n",
    "        plt.plot(xs, ys, \"--\")\n",
    "        plt.text(xs[0], max(ys), \"1\")\n",
    "\n",
    "    if return_x_list:\n",
    "        x_list = []\n",
    "\n",
    "    iter = 2\n",
    "\n",
    "    while abs(f_M) > eps and (x_M - x_L) > eps / 1000:\n",
    "        if f_L * f_M > 0:  # i.e. same sign\n",
    "            x_L = x_M\n",
    "            f_L = f_M\n",
    "        else:\n",
    "            x_R = x_M\n",
    "            _f_R = f_M\n",
    "\n",
    "        x_M = float(x_L + x_R) / 2\n",
    "        f_M = f(x_M)\n",
    "\n",
    "        if do_plot:\n",
    "            xs = [x_M, x_M]\n",
    "            plt.plot(xs, ys, \"--\")\n",
    "            plt.text(xs[0], max(ys), f\"{iter}\")\n",
    "\n",
    "        if return_x_list:\n",
    "            x_list.append(x_M)\n",
    "\n",
    "        iter += 1\n",
    "\n",
    "    if do_plot:\n",
    "        plt.show()\n",
    "\n",
    "    if abs(f_M) < eps:\n",
    "        if return_x_list:\n",
    "            return x_M, x_list\n",
    "        return x_M, []\n",
    "    return None, []"
   ]
  },
  {
   "cell_type": "code",
   "execution_count": 15,
   "metadata": {
    "execution": {
     "iopub.execute_input": "2024-03-01T14:12:10.646862Z",
     "iopub.status.busy": "2024-03-01T14:12:10.645854Z",
     "iopub.status.idle": "2024-03-01T14:12:10.754477Z",
     "shell.execute_reply": "2024-03-01T14:12:10.754477Z"
    }
   },
   "outputs": [
    {
     "data": {
      "image/png": "[encoded data removed]",
      "text/plain": [
       "<Figure size 640x480 with 1 Axes>"
      ]
     },
     "metadata": {},
     "output_type": "display_data"
    },
    {
     "name": "stdout",
     "output_type": "stream",
     "text": [
      "A solution is: 3.0000000004656613, 30, 3.0000000004656613\n",
      "A solution is: 3.0000000004656613, 31, 3.0000000004656613\n",
      "A solution is: 3.000000001520675, 40, 3.000000001520675\n"
     ]
    }
   ],
   "source": [
    "def f(x):\n",
    "    return x**2 - 9\n",
    "\n",
    "\n",
    "def test_bisect(a, b, do_plot=False):\n",
    "    solution, x_list = bisection(\n",
    "        f, a, b, eps=1.0e-8, return_x_list=True, do_plot=do_plot\n",
    "    )\n",
    "    if solution is None:\n",
    "        print(\"No solution found\")\n",
    "    else:\n",
    "        print(\n",
    "            f\"A solution is: {solution}, {len(x_list)}, {x_list[-1] if len(x_list) > 0 else []}\"\n",
    "        )\n",
    "\n",
    "\n",
    "test_bisect(a=0, b=5, do_plot=True)\n",
    "test_bisect(a=0, b=10)\n",
    "test_bisect(a=0, b=10000)"
   ]
  },
  {
   "cell_type": "code",
   "execution_count": 16,
   "metadata": {
    "execution": {
     "iopub.execute_input": "2024-03-01T14:12:10.756502Z",
     "iopub.status.busy": "2024-03-01T14:12:10.756502Z",
     "iopub.status.idle": "2024-03-01T14:12:11.062734Z",
     "shell.execute_reply": "2024-03-01T14:12:11.062734Z"
    }
   },
   "outputs": [
    {
     "data": {
      "image/png": "[encoded data removed]",
      "text/plain": [
       "<Figure size 640x480 with 1 Axes>"
      ]
     },
     "metadata": {},
     "output_type": "display_data"
    },
    {
     "name": "stdout",
     "output_type": "stream",
     "text": [
      "No solution found\n",
      "No solution found\n"
     ]
    },
    {
     "data": {
      "image/png": "[encoded data removed]",
      "text/plain": [
       "<Figure size 640x480 with 1 Axes>"
      ]
     },
     "metadata": {},
     "output_type": "display_data"
    },
    {
     "name": "stdout",
     "output_type": "stream",
     "text": [
      "No solution found\n"
     ]
    }
   ],
   "source": [
    "def f(x):\n",
    "    return x**2 + 3\n",
    "\n",
    "\n",
    "def test_bisect(a, b, do_plot=False):\n",
    "    solution, x_list = bisection(\n",
    "        f, a, b, eps=1.0e-8, return_x_list=True, do_plot=do_plot\n",
    "    )\n",
    "    if solution is None:\n",
    "        print(\"No solution found\")\n",
    "    else:\n",
    "        print(\n",
    "            f\"A solution is: {solution}, {len(x_list)}, {x_list[-1] if len(x_list) > 0 else []}\"\n",
    "        )\n",
    "\n",
    "\n",
    "test_bisect(a=0, b=5, do_plot=True)\n",
    "test_bisect(a=0, b=10)\n",
    "test_bisect(a=0, b=10000, do_plot=True)"
   ]
  },
  {
   "cell_type": "code",
   "execution_count": 17,
   "metadata": {
    "execution": {
     "iopub.execute_input": "2024-03-01T14:12:11.063739Z",
     "iopub.status.busy": "2024-03-01T14:12:11.063739Z",
     "iopub.status.idle": "2024-03-01T14:12:11.173955Z",
     "shell.execute_reply": "2024-03-01T14:12:11.173955Z"
    }
   },
   "outputs": [
    {
     "data": {
      "image/png": "[encoded data removed]",
      "text/plain": [
       "<Figure size 640x480 with 1 Axes>"
      ]
     },
     "metadata": {},
     "output_type": "display_data"
    },
    {
     "name": "stdout",
     "output_type": "stream",
     "text": [
      "A solution is: 3.141592650299634, 24, 3.141592650299634\n",
      "A solution is: 3.1415926562622194, 28, 3.1415926562622194\n",
      "A solution is: 91.10618695987684, 37, 91.10618695987684\n"
     ]
    }
   ],
   "source": [
    "def f(x):\n",
    "    return np.sin(x)\n",
    "\n",
    "\n",
    "def test_bisect(a: float, b: float, do_plot=False):\n",
    "    solution, x_list = bisection(\n",
    "        f, a, b, eps=1.0e-8, return_x_list=True, do_plot=do_plot\n",
    "    )\n",
    "    if solution is None:\n",
    "        print(\"No solution found\")\n",
    "    else:\n",
    "        print(\n",
    "            f\"A solution is: {solution}, {len(x_list)}, {x_list[-1] if len(x_list) > 0 else []}\"\n",
    "        )\n",
    "\n",
    "\n",
    "test_bisect(a=0.3, b=np.pi * 1.78, do_plot=True)\n",
    "test_bisect(a=0.3, b=10)\n",
    "test_bisect(a=0.3, b=10000)"
   ]
  },
  {
   "attachments": {},
   "cell_type": "markdown",
   "metadata": {},
   "source": [
    "#### 1.4.1 Exercise: Enhancing the Bisection Method\n",
    "\n",
    "The Bisection method may run indefinitely for some cases, such as `x**2 + 3`, which has no real solutions. To address this, we can enhance the method as follows:\n",
    "\n",
    "-   **Track Iterations**: Modify the function to return the number of iterations performed.\n",
    "-   **Limit Iterations**: Add an optional `max_iter` argument. If provided, the function should not exceed this number of iterations.\n",
    "-   **Terminate on Small Interval**: If the interval size `x_M - x_L` is less than a certain tolerance (eps), terminate the loop.\n",
    "-   **Custom Division Ratio**: Add an optional argument to use a different ratio for dividing the interval. Set the default ratio to 0.618 (the golden ratio).\n",
    "-   **Test and Compare**: Test the enhanced Bisection method and the Newton's method on a linear equation and a non-linear equation. Compare the two methods in terms of accuracy and number of iterations, using the same tolerance eps = 1e-4.\n",
    "\n",
    "You can obtain the derivatives for the Newton's method by hand or use an online tool like Wolfram Alpha (https://www.wolframalpha.com/). For example, search for \"derivative of sin x + cos x\".\n"
   ]
  },
  {
   "attachments": {},
   "cell_type": "markdown",
   "metadata": {},
   "source": [
    "### 1.5 Convergence Test\n",
    "\n",
    "The rate of convergence, which is closely related to the number of iterations needed to find a solution, can be measured using the successive difference $\\it{e}_n=\\left | x_{n+1} − x_n \\right |$. As we approach the solution, $e_n$ is expected to decrease.\n",
    "\n",
    "We define the convergence rate q using the relation $\\it{e}_{n+1}=Ce_n^q$, where $C$ is a constant. The exponent $q$ indicates how quickly the error reduces from one iteration to the next. A larger q means faster convergence and fewer iterations needed to meet the stopping criterion $\\left |f(x) \\right | \\lt \\epsilon$.\n",
    "\n",
    "The convergence rate $q$ can be calculated as:\n",
    "\n",
    "$$\n",
    "q = \\frac {\\ln {(e_{n+1}/e_n)}} {\\ln(e_n/e_{n−1})}\n",
    "$$\n"
   ]
  },
  {
   "cell_type": "markdown",
   "metadata": {},
   "source": [
    "Note: To calculate one value of `q`, we need three $e({n-1,n,n+1})$ and four adjacent result $x({n-2, n-1, n, n+1})$.\n"
   ]
  },
  {
   "cell_type": "code",
   "execution_count": 18,
   "metadata": {
    "execution": {
     "iopub.execute_input": "2024-03-01T14:12:11.176436Z",
     "iopub.status.busy": "2024-03-01T14:12:11.176436Z",
     "iopub.status.idle": "2024-03-01T14:12:11.179731Z",
     "shell.execute_reply": "2024-03-01T14:12:11.179731Z"
    },
    "tags": []
   },
   "outputs": [],
   "source": [
    "import numpy as np\n",
    "\n",
    "\n",
    "def rate(xs):\n",
    "    errors = np.abs([a - b for a, b in zip(xs[:-1], xs[1:])])\n",
    "    # q = [\n",
    "    #     np.log(e[n + 1] / e[n]) / np.log(e[n] / e[n - 1])\n",
    "    #     for n in range(1, len(e) - 1, 1)\n",
    "    # ]\n",
    "    ratios = np.divide(errors[1:], errors[:-1])\n",
    "    q = np.divide(np.log(ratios[1:]), np.log(ratios[:-1]))\n",
    "    return q\n",
    "\n",
    "\n",
    "def print_rates(method, xs):\n",
    "    print(method + \":\")\n",
    "    for q_ in rate(xs):\n",
    "        print(f\"{q_:.4f}\")"
   ]
  },
  {
   "cell_type": "code",
   "execution_count": 19,
   "metadata": {
    "execution": {
     "iopub.execute_input": "2024-03-01T14:12:11.181497Z",
     "iopub.status.busy": "2024-03-01T14:12:11.181497Z",
     "iopub.status.idle": "2024-03-01T14:12:11.185711Z",
     "shell.execute_reply": "2024-03-01T14:12:11.185711Z"
    }
   },
   "outputs": [
    {
     "name": "stdout",
     "output_type": "stream",
     "text": [
      "1.709511291351453\n",
      "0.9999999999999984\n",
      "3.2034265038149265e-15\n",
      "This method:\n",
      "1.7095\n",
      "1.0000\n",
      "0.0000\n"
     ]
    }
   ],
   "source": [
    "# For example as we approach to the solution with following values\n",
    "# [1.5,1.2,1.0,0.9,0.85,0.8]\n",
    "\n",
    "import numpy as np\n",
    "\n",
    "print(np.log((1.0 - 0.9) / (1.2 - 1.0)) / np.log((1.2 - 1.0) / (1.5 - 1.2)))\n",
    "print(np.log((0.9 - 0.85) / (1.0 - 0.9)) / np.log((1.0 - 0.9) / (1.2 - 1.0)))\n",
    "print(np.log((0.85 - 0.8) / (0.9 - 0.85)) / np.log((0.9 - 0.85) / (1.0 - 0.9)))\n",
    "\n",
    "# Replicated above with print_rate() function.\n",
    "print_rates(\"This method\", [1.5, 1.2, 1.0, 0.9, 0.85, 0.8])"
   ]
  },
  {
   "cell_type": "code",
   "execution_count": null,
   "metadata": {},
   "outputs": [],
   "source": []
  },
  {
   "attachments": {},
   "cell_type": "markdown",
   "metadata": {},
   "source": [
    "#### 1.5.1 Exercise\n",
    "\n",
    "Update the code for the Newton's method to allow the measurement of convergence rate while solving the equation\n",
    "\n",
    "Hint:\n",
    "\n",
    "-   The solver function shall return the list of values that it went through. This shall be controlled by a new argument `return_list=True or False`\n",
    "-   return the list of `x` instead of final `x`, when `return_list` is True\n"
   ]
  },
  {
   "attachments": {},
   "cell_type": "markdown",
   "metadata": {},
   "source": [
    "### 1.6 Summary\n",
    "\n",
    "In this section, we explored three distinct methods for solving the equation `f(x) = 0`:\n",
    "\n",
    "-   **Newton-Raphson Method**: This method uses the derivative `f'(x)` to find the root. It's efficient and precise when the derivative is known analytically.\n",
    "\n",
    "-   **Secant Method**: This method is useful when the derivative `f'(x)` is unknown or hard to compute. It approximates the derivative using two successive points.\n",
    "\n",
    "-   **Bisection Method**: This method guarantees finding a solution by repeatedly bisecting an interval where `f(x)` changes sign. It's slower but more reliable than the other two methods.\n"
   ]
  },
  {
   "attachments": {},
   "cell_type": "markdown",
   "metadata": {},
   "source": [
    "## 2. Assignment\n",
    "\n",
    "Use 1-D data with newton_system to solve below questions.\n",
    "\n",
    "1. **Find IRR for a Bond**: Given a bond with current price $C_0 = 95$, an annual coupon of 3%, and exactly 4 years to maturity, find the Internal Rate of Return (IRR) that satisfies the Net Present Value (NPV) equation:\n",
    "\n",
    "$$\n",
    "\\mathrm{NPV} = \\sum_{i=1}^{n} {\\frac {\\mathrm{CF}} {(1+\\mathrm{IRR})^i}} - C_0 = 0\n",
    "$$\n",
    "\n",
    "2. To find implied volatility for B-S model. The price of an option is a function of volatility, . Solve $\\sigma$ for a given V.\n",
    "\n",
    "**Find Implied Volatility for Black-Scholes Model**: Given the price of an option value as a function of volatility, $V = f(\\sigma)$, solve for $\\sigma$ that matches a given $V$. The derivative of $V$ with respect to $\\sigma$ is known as Vega:\n",
    "\n",
    "$$\n",
    "\\text{Vega} = \\frac {\\mathrm{d} V} {\\mathrm{d} \\sigma}\n",
    "$$\n",
    "\n",
    "1. Verify that Vega formula is numerically close to the derivative of V with respect to a small change in sigma.\n",
    "\n",
    "```python\n",
    "def bsprices(S0, K, T, r, sigma):\n",
    "    # Calculate call and put prices using Black-Scholes formula\n",
    "    # ...\n",
    "\n",
    "def bsvega(S0, K, T, r, sigma):\n",
    "    # Calculate Vega using Black-Scholes formula\n",
    "    # ...\n",
    "\n",
    "# Verify Vega formula\n",
    "call, put = bsprices(S0, K, T, r, sigma)\n",
    "call2, put2 = bsprices(S0, K, T, r, sigma + 0.01)\n",
    "print((call2 - call) / 0.01, (put2 - put) / 0.01)  # Should be close to bsvega\n",
    "```\n",
    "\n",
    "2.  Use the Newton's method to calculate the implied volatility when `call = 2.5` or `put = 2.5`. For put options, there's a caveat that you should comment on.\n",
    "\n",
    "3.  Finally, Plot $\\sigma$ vs $\\it{Call Price}$ and $\\sigma$ vs $\\it{Put Price}$ in range of $(0, 10]$\n",
    "\n",
    "Below is the source code to calculate BS price (output tuple [0] is call, [1] for put) and BS Vega (same for call and put) from market input\n"
   ]
  },
  {
   "cell_type": "code",
   "execution_count": 2,
   "metadata": {},
   "outputs": [
    {
     "data": {
      "text/plain": [
       "0.04390137479727136"
      ]
     },
     "execution_count": 2,
     "metadata": {},
     "output_type": "execute_result"
    }
   ],
   "source": [
    "import numpy as np\n",
    "def newton_method(f, df, x0, tol=1e-10, max_iter=100):\n",
    "    \"\"\"\n",
    "    Implement the Newton-Raphson method for finding roots of a real-valued function.\n",
    "    \n",
    "    :param f: The function for which we are trying to find a root.\n",
    "    :param df: The derivative of the function f.\n",
    "    :param x0: Initial guess for the root.\n",
    "    :param tol: The tolerance for the error of the solution.\n",
    "    :param max_iter: The maximum number of iterations to perform.\n",
    "    :return: The estimated root of the function and the number of iterations used.\n",
    "    \"\"\"\n",
    "    xn = x0\n",
    "    for n in range(0, max_iter):\n",
    "        fxn = f(xn)\n",
    "        if abs(fxn) < tol:\n",
    "            # Found a root within tolerance\n",
    "            return xn\n",
    "        dfxn = df(xn)\n",
    "        if dfxn == 0:\n",
    "            # Derivative is zero, stop iteration to avoid division by zero\n",
    "            raise ValueError('Derivative is zero. No solution found.')\n",
    "        xn = xn - fxn/dfxn\n",
    "    # If max iteration reached and root not found\n",
    "    raise ValueError('Exceeded maximum iterations. No solution found.')\n",
    "\n",
    "# Define the cash flow for the bond\n",
    "cash_flows = np.array([-95, 3, 3, 3, 103])  # Initial outflow of 95, then 3 per year, and 103 in the last year\n",
    "\n",
    "# Define the function to calculate NPV\n",
    "def npv(irr):\n",
    "    years = np.arange(len(cash_flows))\n",
    "    return np.sum(cash_flows / ((1 + irr) ** years))\n",
    "\n",
    "# Define the derivative of the NPV function\n",
    "def dnpv(irr):\n",
    "    years = np.arange(len(cash_flows))\n",
    "    return np.sum(-years * cash_flows / ((1 + irr) ** (years + 1)))\n",
    "\n",
    "# Initial guess for the IRR\n",
    "initial_guess = 0.03  # Start with the coupon rate\n",
    "\n",
    "# Apply Newton's method\n",
    "irr_estimated = newton_method(npv, dnpv, initial_guess)\n",
    "\n",
    "irr_estimated\n"
   ]
  },
  {
   "cell_type": "code",
   "execution_count": 4,
   "metadata": {
    "execution": {
     "iopub.execute_input": "2024-03-01T14:12:11.189143Z",
     "iopub.status.busy": "2024-03-01T14:12:11.188135Z",
     "iopub.status.idle": "2024-03-01T14:12:13.317746Z",
     "shell.execute_reply": "2024-03-01T14:12:13.317746Z"
    }
   },
   "outputs": [
    {
     "name": "stdout",
     "output_type": "stream",
     "text": [
      "Call and Put Prices: 3.985, 8.880\n",
      "4.89505248250439 4.895052482504383 True\n",
      "19.393859993088114 19.393859993088824 4.178870302287301 9.073922784791698\n"
     ]
    }
   ],
   "source": [
    "import numpy as np\n",
    "import scipy.stats as sps\n",
    "\n",
    "\n",
    "def bsprices(S0, K, T, r, sigma):\n",
    "    \"\"\"Black-Scholes call and put option pricing\n",
    "    Parameters\n",
    "    ----------\n",
    "    S0 : Current price of the underlying stock\n",
    "    K : Strike price of the option\n",
    "    T : Time to maturity of the option\n",
    "    r : Risk-free rate of return (continuously-compounded)\n",
    "    sigma : Stock price volatility\n",
    "\n",
    "    Returns\n",
    "    -------\n",
    "    c : Call option price\n",
    "    p : Put option price\n",
    "\n",
    "    Notes\n",
    "    -----\n",
    "    r, T, and sigma must be expressed in consistent units of time\n",
    "    \"\"\"\n",
    "\n",
    "    x0 = sigma * np.sqrt(T)\n",
    "    erT = np.exp(-r * T)\n",
    "    d1 = (np.log(S0 / K) + (r + sigma**2 / 2) * T) / x0\n",
    "    d2 = d1 - x0\n",
    "    Nd1 = sps.norm.cdf(d1)\n",
    "    Nd2 = sps.norm.cdf(d2)\n",
    "    c = S0 * Nd1 - K * erT * Nd2\n",
    "    p = K * erT * (1 - Nd2) - S0 * (1 - Nd1)\n",
    "    return c, p\n",
    "\n",
    "\n",
    "if __name__ == \"__main__\":\n",
    "    S0 = 100  # $100 stock price\n",
    "    K = 105  # $105 strike price\n",
    "    T = 3 / 12  # 3 month period\n",
    "    r = 0.004  # 3 month T-bill\n",
    "    sigma = 0.3  # 30% per annum\n",
    "    call, put = bsprices(S0, K, T, r, sigma)\n",
    "    print(f\"Call and Put Prices: {call:3.3f}, {put:3.3f}\")\n",
    "    print(\n",
    "        put - call,\n",
    "        K * np.exp(-r * T) - S0,\n",
    "        np.isclose(put - call, K * np.exp(-r * T) - S0),\n",
    "    )\n",
    "\n",
    "    call2, put2 = bsprices(S0, K, T, r, sigma + 0.01)\n",
    "    print((call2 - call) / 0.01, (put2 - put) / 0.01, call2, put2)"
   ]
  },
  {
   "cell_type": "code",
   "execution_count": 5,
   "metadata": {
    "execution": {
     "iopub.execute_input": "2024-03-01T14:12:13.319903Z",
     "iopub.status.busy": "2024-03-01T14:12:13.319903Z",
     "iopub.status.idle": "2024-03-01T14:12:13.323852Z",
     "shell.execute_reply": "2024-03-01T14:12:13.323852Z"
    }
   },
   "outputs": [],
   "source": [
    "def bsvega(S0, K, T, r, sigma):\n",
    "    x0 = sigma * np.sqrt(T)\n",
    "    erT = np.exp(-r * T)\n",
    "    d1 = (np.log(S0 / K) + (r + sigma**2 / 2) * T) / x0\n",
    "    vega = S0 * sps.norm.pdf(d1) * np.sqrt(T)\n",
    "    return vega"
   ]
  },
  {
   "cell_type": "code",
   "execution_count": 39,
   "metadata": {},
   "outputs": [
    {
     "name": "stdout",
     "output_type": "stream",
     "text": [
      "Implied Volatility: 0.3000\n"
     ]
    }
   ],
   "source": [
    "# To find implied volatility for B-S model using the Newton method\n",
    "def find_implied_volatility(type, S, K, T, r, market_price, sigma_estimate=0.2, tolerance=1e-5, max_iterations=100):\n",
    "    sigma = sigma_estimate\n",
    "    for i in range(max_iterations):\n",
    "        if type == 'c':\n",
    "            price = bsprices(S, K, T, r, sigma)[0]\n",
    "        elif type == 'p':\n",
    "            price = bsprices(S, K, T, r, sigma)[1]\n",
    "        else:\n",
    "            raise ValueError('Please type c for call and type p for put.')\n",
    "\n",
    "        v = bsvega(S, K, T, r, sigma)\n",
    "        \n",
    "        price_diff = market_price - price\n",
    "        if abs(price_diff) < tolerance:\n",
    "            return sigma\n",
    "        \n",
    "        sigma = sigma + price_diff / v\n",
    "        \n",
    "        if sigma < 0: # Ensure sigma stays positive\n",
    "            sigma = tolerance\n",
    "            \n",
    "    return sigma\n",
    "\n",
    "# Example parameters\n",
    "S0 = 100  # $100 stock price\n",
    "K = 105  # $105 strike price\n",
    "T = 3 / 12  # 3 month period\n",
    "r = 0.004  # 3 month T-bill\n",
    "# sigma = 0.3  # 30% per annum\n",
    "market_price = 3.985  # Market price of the option\n",
    "\n",
    "implied_volatility = find_implied_volatility('c', S0, K, T, r, market_price)\n",
    "print(f\"Implied Volatility: {implied_volatility:.4f}\")"
   ]
  },
  {
   "cell_type": "code",
   "execution_count": 40,
   "metadata": {},
   "outputs": [
    {
     "name": "stdout",
     "output_type": "stream",
     "text": [
      "19.393859993088114 19.393859993088824 19.363962308674264\n"
     ]
    }
   ],
   "source": [
    "# Verify that Vega formula is numerically close to the derivative of V with respect to a small change in sigma.\n",
    "call, put = bsprices(S0, K, T, r, sigma)\n",
    "call2, put2 = bsprices(S0, K, T, r, sigma + 0.01)\n",
    "\n",
    "realvega = bsvega(S0, K, T, r, sigma)\n",
    "print((call2 - call) / 0.01, (put2 - put) / 0.01, realvega)  # Should be close to bsvega"
   ]
  },
  {
   "cell_type": "code",
   "execution_count": 58,
   "metadata": {},
   "outputs": [
    {
     "name": "stdout",
     "output_type": "stream",
     "text": [
      "0.22199214830506495 1e-05\n"
     ]
    },
    {
     "name": "stderr",
     "output_type": "stream",
     "text": [
      "/var/folders/l2/g62nwg6n517g5516gcjv7mh80000gn/T/ipykernel_30454/3887117031.py:18: RuntimeWarning: divide by zero encountered in scalar divide\n",
      "  sigma = sigma + price_diff / v\n"
     ]
    }
   ],
   "source": [
    "# Use the Newton's method to calculate the implied volatility when `call = 2.5` or `put = 2.5`. For put options, there's a caveat that you should comment on.\n",
    "call_iv = find_implied_volatility('c', S0, K, T, r, 2.5)\n",
    "put_iv = find_implied_volatility('p', S0, K, T, r, 2.5)\n",
    "print(call_iv, put_iv)\n",
    "\n",
    "# The vega of an option can become very flat for deep in-the-money or deep out-of-the-money options. \n",
    "# This is particularly true for put options, where the price might change very little with volatility in these scenarios. \n",
    "# Since Newton's method uses the reciprocal of the derivative (vega, in this case) to find the next estimate, a flat vega can lead to large, unstable jumps in the estimated volatility.\n",
    "#"
   ]
  },
  {
   "cell_type": "code",
   "execution_count": 49,
   "metadata": {},
   "outputs": [],
   "source": [
    "import matplotlib.pyplot as plt"
   ]
  },
  {
   "cell_type": "code",
   "execution_count": 45,
   "metadata": {},
   "outputs": [],
   "source": [
    "premium = np.linspace(0.1, 10, 101)\n",
    "\n",
    "call_ivs = [find_implied_volatility('c', S0, K, T, r, i) for i in premium]\n",
    "put_ivs = [find_implied_volatility('p', S0, K, T, r, i) for i in premium]"
   ]
  },
  {
   "cell_type": "code",
   "execution_count": 57,
   "metadata": {},
   "outputs": [
    {
     "data": {
      "text/plain": [
       "Text(0.5, 1.0, 'Relationship between sigma and options prices')"
      ]
     },
     "execution_count": 57,
     "metadata": {},
     "output_type": "execute_result"
    },
    {
     "data": {
      "image/png": "[encoded data removed]",
      "text/plain": [
       "<Figure size 640x480 with 1 Axes>"
      ]
     },
     "metadata": {},
     "output_type": "display_data"
    }
   ],
   "source": [
    "plt.plot(premium, call_ivs)\n",
    "plt.plot(premium, put_ivs)\n",
    "plt.xlabel('prices')\n",
    "plt.ylabel('Implied Vol')\n",
    "plt.legend(['Call','Pul'])\n",
    "plt.grid(alpha = 0.3)\n",
    "plt.title('Relationship between sigma and options prices')"
   ]
  },
  {
   "cell_type": "markdown",
   "metadata": {},
   "source": [
    "##### Appendix: timestamp\n"
   ]
  },
  {
   "cell_type": "code",
   "execution_count": 42,
   "metadata": {
    "execution": {
     "iopub.execute_input": "2024-03-01T14:12:13.326367Z",
     "iopub.status.busy": "2024-03-01T14:12:13.324861Z",
     "iopub.status.idle": "2024-03-01T14:12:13.328983Z",
     "shell.execute_reply": "2024-03-01T14:12:13.328468Z"
    }
   },
   "outputs": [
    {
     "name": "stdout",
     "output_type": "stream",
     "text": [
      "Generated on 2024-03-12 10:08:09.424971\n"
     ]
    }
   ],
   "source": [
    "from datetime import datetime\n",
    "\n",
    "print(f\"Generated on {datetime.now()}\")"
   ]
  },
  {
   "cell_type": "code",
   "execution_count": null,
   "metadata": {},
   "outputs": [],
   "source": []
  }
 ],
 "metadata": {
  "kernelspec": {
   "display_name": "cmk310",
   "language": "python",
   "name": "python3"
  },
  "language_info": {
   "codemirror_mode": {
    "name": "ipython",
    "version": 3
   },
   "file_extension": ".py",
   "mimetype": "text/x-python",
   "name": "python",
   "nbconvert_exporter": "python",
   "pygments_lexer": "ipython3",
   "version": "3.9.18"
  },
  "vscode": {
   "interpreter": {
    "hash": "ef3060a66f05e685ce670116a67026aba95afdffb2461d829b3351d07ec51c58"
   }
  }
 },
 "nbformat": 4,
 "nbformat_minor": 4
}
