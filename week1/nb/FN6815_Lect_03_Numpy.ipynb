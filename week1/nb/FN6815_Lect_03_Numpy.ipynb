{
 "cells": [
  {
   "cell_type": "markdown",
   "metadata": {},
   "source": [
    "# FN6815 Numerical Methods for Financial Instrument Pricing\n",
    "\n",
    "## Lecture 3: Python numeric programming\n",
    "\n",
    "-   Dr. Yang Ye\n",
    "-   Email: yy@runchee.com\n",
    "-   2023/2024 Mini Term 5\n"
   ]
  },
  {
   "cell_type": "markdown",
   "metadata": {},
   "source": [
    "## 1. Numpy\n"
   ]
  },
  {
   "attachments": {},
   "cell_type": "markdown",
   "metadata": {},
   "source": [
    "### 1.1 Why Numpy?\n",
    "\n",
    "The base data type in Python is list. It is not efficient for numerical programming and it lacks of mathematical tools.\n",
    "\n",
    "The NumPy library has equipped Python as a powerful tool for numerical programming.\n",
    "\n",
    "It is a library consisting of multidimensional array objects and a collection of routines for processing those arrays. Using NumPy, mathematical and logical operations on arrays can be performed.\n",
    "\n",
    "-   **n-D Arrays**: NumPy's core feature is the n-dimensional array (`np.array`). This data type supports vector and matrix operations. For example, adding two arrays is as simple as `np.array([1, 2]) + np.array([1, 2])`, which results in `array([2, 4])`.\n",
    "\n",
    "-   **Mathematical Functions**: NumPy provides a host of mathematical functions for operations like exponentiation, logarithms, random number generation, averages, and statistical distributions. These functions are designed to work with n-D arrays.\n",
    "\n",
    "-   **Performance**: NumPy leverages C for numerical computations, which significantly improves performance.\n"
   ]
  },
  {
   "cell_type": "markdown",
   "metadata": {},
   "source": [
    "### 1.2 Numpy/Scipy/Matplotlib setup\n",
    "\n",
    "1. Use `conda install numpy scipy matplotlib`, if haven't done so.\n",
    "\n",
    "2. import in Python. Write following lines on top of each Jupyter notebook for `numpy and friends`.\n"
   ]
  },
  {
   "cell_type": "code",
   "execution_count": 1,
   "metadata": {
    "execution": {
     "iopub.execute_input": "2024-02-27T13:11:33.837350Z",
     "iopub.status.busy": "2024-02-27T13:11:33.837350Z",
     "iopub.status.idle": "2024-02-27T13:11:34.263666Z",
     "shell.execute_reply": "2024-02-27T13:11:34.263666Z"
    }
   },
   "outputs": [],
   "source": [
    "import matplotlib.pyplot as plt  # plotting\n",
    "import numpy as np\n",
    "import scipy as sp  # additional numerical tools"
   ]
  },
  {
   "cell_type": "markdown",
   "metadata": {},
   "source": [
    "if you saw something prompt like below, use `conda install missing package`.\n",
    "\n",
    "<div class=\"alert alert-block alert-danger\">\n",
    "<pre>\n",
    "---------------------------------------------------------------------------\n",
    "ModuleNotFoundError                       Traceback (most recent call last)\n",
    "Cell In[4], line 2\n",
    "      1 import numpy as np\n",
    "----> 2 import scipy as sp # additional numerical tools\n",
    "      3 import matplotlib.pyplot as plt # plotting\n",
    "\n",
    "ModuleNotFoundError: No module named 'scipy'\n",
    "\n",
    "</pre>\n",
    "</div>\n"
   ]
  },
  {
   "cell_type": "markdown",
   "metadata": {},
   "source": [
    "Usually, we import the numpy library with the alias `np`. Every time we use a function/object from numpy, we will use `np.function_name`.\n"
   ]
  },
  {
   "cell_type": "code",
   "execution_count": 2,
   "metadata": {
    "execution": {
     "iopub.execute_input": "2024-02-27T13:11:34.267698Z",
     "iopub.status.busy": "2024-02-27T13:11:34.266684Z",
     "iopub.status.idle": "2024-02-27T13:11:34.272404Z",
     "shell.execute_reply": "2024-02-27T13:11:34.272404Z"
    }
   },
   "outputs": [
    {
     "data": {
      "text/plain": [
       "array([2, 4])"
      ]
     },
     "execution_count": 2,
     "metadata": {},
     "output_type": "execute_result"
    }
   ],
   "source": [
    "import numpy as np\n",
    "\n",
    "np.array([1, 2]) + np.array([1, 2])"
   ]
  },
  {
   "cell_type": "markdown",
   "metadata": {},
   "source": [
    "### 1.3 Comparison NumPy v.s. Python\n",
    "\n",
    "Let's use the following example to compare the performance of NumPy and Python.\n",
    "\n",
    "The example is a program of random walker. A walker starts at 0 and at each step, it moves 1 step to the left or right with equal probability. The program simulates the walker's position after `n` steps.\n"
   ]
  },
  {
   "cell_type": "markdown",
   "metadata": {},
   "source": [
    "1. Python Native\n"
   ]
  },
  {
   "cell_type": "code",
   "execution_count": 3,
   "metadata": {
    "execution": {
     "iopub.execute_input": "2024-02-27T13:11:34.309034Z",
     "iopub.status.busy": "2024-02-27T13:11:34.308019Z",
     "iopub.status.idle": "2024-02-27T13:11:34.745529Z",
     "shell.execute_reply": "2024-02-27T13:11:34.745529Z"
    }
   },
   "outputs": [
    {
     "name": "stdout",
     "output_type": "stream",
     "text": [
      "4.3 ms ± 55 µs per loop (mean ± std. dev. of 10 runs, 10 loops each)\n"
     ]
    }
   ],
   "source": [
    "import random\n",
    "\n",
    "\n",
    "class RandomWalker:\n",
    "    def __init__(self):\n",
    "        self.position = 0\n",
    "\n",
    "    def walk(self, n):\n",
    "        self.position = 0\n",
    "        for i in range(n):\n",
    "            yield self.position\n",
    "            self.position += 2 * random.randint(0, 1) - 1\n",
    "\n",
    "\n",
    "walker = RandomWalker()\n",
    "%timeit -n10 -r10 walk = [position for position in walker.walk(10000)]"
   ]
  },
  {
   "cell_type": "markdown",
   "metadata": {},
   "source": [
    "2. Full vectorization via numpy\n"
   ]
  },
  {
   "cell_type": "code",
   "execution_count": 4,
   "metadata": {
    "execution": {
     "iopub.execute_input": "2024-02-27T13:11:34.748054Z",
     "iopub.status.busy": "2024-02-27T13:11:34.748054Z",
     "iopub.status.idle": "2024-02-27T13:11:34.759412Z",
     "shell.execute_reply": "2024-02-27T13:11:34.759412Z"
    }
   },
   "outputs": [
    {
     "name": "stdout",
     "output_type": "stream",
     "text": [
      "65.6 µs ± 6.55 µs per loop (mean ± std. dev. of 10 runs, 10 loops each)\n"
     ]
    }
   ],
   "source": [
    "import numpy as np\n",
    "\n",
    "\n",
    "def random_walk_fastest(n):\n",
    "    # No 's' in numpy choice (Python offers choice & choices)\n",
    "    steps = np.random.choice([-1, +1], n)\n",
    "    return np.cumsum(steps)\n",
    "\n",
    "\n",
    "%timeit -n10 -r10 walk = random_walk_fastest(10000)"
   ]
  },
  {
   "cell_type": "markdown",
   "metadata": {},
   "source": [
    "The return of function `random_walk_fastest(10000)` is an `nd-array` of 10000 elements. The nd-array is an object with many mathematical methods. For example, we can calculate the mean and standard deviation of the nd-array using `np.mean` and `np.std`. This avoid the use of for loop and is much faster than the Python native version.\n",
    "\n",
    "Using numpy means that we use `nd-array` as the basic data type for numbers (though nd-array can store other data types, too). When we write code to deal with numbers, we shall make nd-array as the input and output as much as possible.\n",
    "\n",
    "This is the key to achieve high performance in numerical programming.\n"
   ]
  },
  {
   "cell_type": "markdown",
   "metadata": {},
   "source": [
    "<div class=\"alert alert-block alert-info\">\n",
    "Note\n",
    "</div>\n",
    "\n",
    "We shall see numpy's gain in performance as space exchange for efficiency. The nd-array is a data type that is not as flexible as Python's list. For example, we cannot append an element to an nd-array. We have to create a new nd-array with the appended element. This is a trade-off between performance and flexibility.\n",
    "\n",
    "The **flat** memory model of nd-array makes the performance gain possible. The flat memory model means that the elements of an nd-array are stored in a continuous memory block.\n"
   ]
  },
  {
   "attachments": {},
   "cell_type": "markdown",
   "metadata": {},
   "source": [
    "### 1.4 Numpy's ndarray Class and Array Creation Functions\n",
    "\n",
    "Numpy's core component is the N-dimensional array, or ndarray. This data structure allows efficient operations on large datasets. You can refer to the Numpy documentation for more details.\n",
    "\n",
    "Bookmark the help page of Numpy: https://numpy.org/doc/stable/reference/index.html\n",
    "\n",
    "Here are several ways to create ndarray:\n",
    "\n",
    "1. `np.array([])`: This function creates an array from a list or tuple.\n",
    "\n",
    "```\n",
    "# Create vector\n",
    "a = np.array([0, 0.5, 1.0, 1.5, 2.0, 3.5])\n",
    "\n",
    "# Create 2-d array\n",
    "a = np.array([[4, 3, 5], [1, 2, 1]])\n",
    "\n",
    "# Create 2-d array from one-d\n",
    "b = a.reshape(6, 1) # (2, 3) (1, 6)\n",
    "```\n",
    "\n",
    "2.  `np.arange(start, stop, step)` and `np.linspace(start, stop, num)`: These functions generate sequences of numbers in an array. arange uses a step value, while linspace uses the total number of items.\n",
    "\n",
    "```\n",
    "a = np.arange(0, 10, 2) # array([0, 2, 4, 6, 8])\n",
    "b = np.linspace(0, 10, 3) # array([0., 5., 10.]) of 3 elements\n",
    "```\n",
    "\n",
    "3.  `np.ones(shape)`, `np.zeros(shape)`: These functions create arrays filled with ones or zeros, respectively.\n",
    "\n",
    "```\n",
    "a = np.ones((3, 3)) # 3x3 array of ones\n",
    "b = np.zeros((2, 2)) # 2x2 array of zeros\n",
    "```\n",
    "\n",
    "4.  `.reshape(newshape)`: Be aware of how reshape() works. Numpy usually takes the row-major order. So `.reshape()` breaks the array to the new rows.\n",
    "\n",
    "```\n",
    "a = np.arange(6)\n",
    "b = a.reshape(2, 3) # array([[0, 1, 2], [3, 4, 5]])\n",
    "```\n"
   ]
  },
  {
   "cell_type": "code",
   "execution_count": 5,
   "metadata": {
    "execution": {
     "iopub.execute_input": "2024-02-27T13:11:34.762199Z",
     "iopub.status.busy": "2024-02-27T13:11:34.761192Z",
     "iopub.status.idle": "2024-02-27T13:11:34.765744Z",
     "shell.execute_reply": "2024-02-27T13:11:34.765744Z"
    }
   },
   "outputs": [
    {
     "data": {
      "text/plain": [
       "(array([[1],\n",
       "        [2],\n",
       "        [3],\n",
       "        [4]]),\n",
       " array([[1, 2, 3, 4]]),\n",
       " array([[1, 2],\n",
       "        [3, 4]]))"
      ]
     },
     "execution_count": 5,
     "metadata": {},
     "output_type": "execute_result"
    }
   ],
   "source": [
    "(\n",
    "    np.array(range(1, 5)).reshape(4, 1),\n",
    "    np.array(range(1, 5)).reshape(1, 4),\n",
    "    np.array(range(1, 5)).reshape(2, 2),\n",
    ")"
   ]
  },
  {
   "attachments": {},
   "cell_type": "markdown",
   "metadata": {},
   "source": [
    "### 1.5 Numpy Mini-reference\n",
    "\n",
    "1. `np_array.size == 0`\n",
    "\n",
    "2. `.ndim`, `.shape`\n",
    "\n",
    "```\n",
    "array2x3 = np.array(\n",
    "    [\n",
    "        [1, 2, 3],\n",
    "        [9, 8, 7],\n",
    "    ]\n",
    ")\n",
    "\n",
    "array2x3.ndim # 2\n",
    "array2x3.shape # (2,3)\n",
    "```\n",
    "\n",
    "3. sort: `b = np.sort(a, axis=1)`\n",
    "\n",
    "```\n",
    "np.sort([2,1])\n",
    "```\n",
    "\n",
    "4.  `np.sum`, `max()`, `sum()`, `cumsum()`, `std()`\n",
    "\n",
    "        np.sum([1, 2, 3]) # 6\n",
    "        np.sum([[1, 2, 3], [1, 2, 3]]) # 12\n",
    "        np.sum([[1, 2, 3], [1, 2, 3], [1, 2, 3],], axis=0)\n",
    "\n",
    "        # these functions are also ndarray's method. call it with the variable.\n",
    "        a = np.array([1, 2, 3])\n",
    "        a.sum()\n",
    "\n",
    "5.  Mathematical operations, `+, -, *, **, /, >, <` are overloaded to apply them to np.ndarray.\n",
    "\n",
    "        y = x ** 2\n",
    "\n",
    "6.  Mathematical functions, `np.exp/np.log`\n",
    "\n",
    "7.  Slicing:\n",
    "\n",
    "        # This is derivatives' numeric form.\n",
    "\n",
    "        dy_dx = (y[1:]-y[:-1])/(x[1:]-x[:-1])\n",
    "        dy_dx_c = (y[2:]-y[:-2])/(x[2:]-x[:-2])\n",
    "\n",
    "8.  random:\n",
    "\n",
    "        import numpy.random as npr\n",
    "        points = npr.random((100000, 3))\n",
    "        npr.uniform((1, 3))\n",
    "        N = 10\n",
    "        p = npr.choice(N, N)\n",
    "\n",
    "As you shall see, many common mathematical operations are overloaded to apply to np.ndarray. Other functions are re-created in the numpy, instead of math, for `sin`, `log`, etc. This makes the code to take nd-array as input and output naturally.\n"
   ]
  },
  {
   "cell_type": "markdown",
   "metadata": {},
   "source": [
    "### Additional example of combining \\*(melting), slicing and recursion together\n",
    "\n",
    "Let's illustrate how to convert a tuple of dimensions obtained from `np.shape` into a single number representing the total number of elements, similar to `np.size`.\n",
    "\n",
    "Here's a Python function that uses tuple unpacking (also known as \"melting\"), slicing, and recursion to achieve this:\n",
    "\n",
    "In this example, multiply_dimensions recursively multiplies all the dimensions together. It starts with the first dimension and multiplies it by the result of the function called on the rest of the tuple, effectively \"melting\" the tuple down to a single number.\n",
    "\n",
    "The base case for the recursion is an empty tuple, which signifies that all dimensions have been processed. \"\"\"\n"
   ]
  },
  {
   "cell_type": "code",
   "execution_count": 6,
   "metadata": {
    "execution": {
     "iopub.execute_input": "2024-02-27T13:11:34.767795Z",
     "iopub.status.busy": "2024-02-27T13:11:34.767795Z",
     "iopub.status.idle": "2024-02-27T13:11:34.771638Z",
     "shell.execute_reply": "2024-02-27T13:11:34.771638Z"
    }
   },
   "outputs": [
    {
     "name": "stdout",
     "output_type": "stream",
     "text": [
      "6\n"
     ]
    }
   ],
   "source": [
    "import numpy as np\n",
    "\n",
    "\n",
    "def multiply_dimensions(nd):\n",
    "    def _internal(*a):\n",
    "        # print(\"_internal:\", a)\n",
    "        if len(a) == 0:\n",
    "            return 1\n",
    "        return a[0] * _internal(*a[1:])\n",
    "\n",
    "    return _internal(*nd.shape)\n",
    "\n",
    "\n",
    "mat = np.array([[1, 2, 3], [2, 3, 4]])\n",
    "print(multiply_dimensions(mat))"
   ]
  },
  {
   "attachments": {},
   "cell_type": "markdown",
   "metadata": {},
   "source": [
    "### 1.6 Caution: Passing data between functions\n",
    "\n",
    "In Python, objects such as lists, dictionaries, Numpy arrays (np.ndarray), and Pandas DataFrames are passed by _reference_.\n",
    "\n",
    "Objects can be thought of as containers for data. As a beginner, it's advisable to adopt a style where a function takes an object as input and returns a new object, rather than modifying the original object. This should be your default approach. Such function that has no side effect (i.e. do not modify the existing object) is called _pure function_.\n",
    "\n",
    "Here are some key points to remember:\n",
    "\n",
    "1. Avoid modifying variables passed into a function. If you need to alter the data, create a copy first to prevent side effects outside the function. This may introduce some performance overhead, but it's crucial to prioritize correct results before optimization.\n"
   ]
  },
  {
   "cell_type": "code",
   "execution_count": 7,
   "metadata": {
    "execution": {
     "iopub.execute_input": "2024-02-27T13:11:34.773954Z",
     "iopub.status.busy": "2024-02-27T13:11:34.772944Z",
     "iopub.status.idle": "2024-02-27T13:11:34.778687Z",
     "shell.execute_reply": "2024-02-27T13:11:34.778687Z"
    }
   },
   "outputs": [
    {
     "name": "stdout",
     "output_type": "stream",
     "text": [
      "This n_attacks_impure() changed the input: 2.0 [0. 0. 0. 1. 0. 0. 1. 0.]\n",
      "This n_attacks() pure version does not change the input: (2.0, 2.0) [7. 7. 0. 1. 7. 2. 1. 3.]\n"
     ]
    }
   ],
   "source": [
    "# impure function\n",
    "def n_attacks_impure(p):\n",
    "    p[p > 1] = 0  # This updates p.\n",
    "    return p.sum()\n",
    "\n",
    "\n",
    "input_data = np.array([7.0, 7.0, 0.0, 1.0, 7.0, 2.0, 1.0, 3.0])\n",
    "print(\n",
    "    \"This n_attacks_impure() changed the input:\",\n",
    "    n_attacks_impure(input_data),\n",
    "    input_data,\n",
    ")\n",
    "\n",
    "\n",
    "# pure function\n",
    "def n_attacks(p):\n",
    "    pv = p.copy()  # make a copy here\n",
    "    pv[pv > 1] = 0  # change the copy not the original.\n",
    "    return pv.sum()\n",
    "\n",
    "\n",
    "# For some cases, we can avoid copying the array\n",
    "def n_attacks_better(p):\n",
    "    return p[p <= 1].sum()\n",
    "\n",
    "\n",
    "input_data = np.array([7.0, 7.0, 0.0, 1.0, 7.0, 2.0, 1.0, 3.0])\n",
    "print(\n",
    "    \"This n_attacks() pure version does not change the input:\",\n",
    "    (n_attacks(input_data), n_attacks_better(input_data)),\n",
    "    input_data,\n",
    ")"
   ]
  },
  {
   "attachments": {},
   "cell_type": "markdown",
   "metadata": {},
   "source": [
    "2. In certain scenarios, you might want to modify the input object directly within a function. This approach is contrary to the previously discussed style of returning a new object. To achieve this, you can use `.update` or similar methods provided by many Python objects.\n"
   ]
  },
  {
   "cell_type": "code",
   "execution_count": 8,
   "metadata": {
    "execution": {
     "iopub.execute_input": "2024-02-27T13:11:34.780715Z",
     "iopub.status.busy": "2024-02-27T13:11:34.780715Z",
     "iopub.status.idle": "2024-02-27T13:11:34.785552Z",
     "shell.execute_reply": "2024-02-27T13:11:34.785552Z"
    }
   },
   "outputs": [
    {
     "name": "stdout",
     "output_type": "stream",
     "text": [
      "This update_it_bad() *did not* update the input: 5 [1, 2, 3]\n",
      "This update_it() version changes the input: 5 [-1, 1, 2, 3]\n"
     ]
    }
   ],
   "source": [
    "def update_it_bad(ll):\n",
    "    ll = (\n",
    "        [-1] + ll\n",
    "    )  # This will not update the original object because this is an assignment to a local variable `ll`. It's of the same name but different object.\n",
    "    return sum(ll)\n",
    "\n",
    "\n",
    "input_data = [1, 2, 3]\n",
    "print(\n",
    "    \"This update_it_bad() *did not* update the input:\",\n",
    "    update_it_bad(input_data),\n",
    "    input_data,\n",
    ")\n",
    "\n",
    "\n",
    "def update_it(ll):\n",
    "    ll.insert(0, -1)  # this is an update method.\n",
    "    return sum(ll)\n",
    "\n",
    "\n",
    "input_data = [1, 2, 3]\n",
    "print(\"This update_it() version changes the input:\", update_it(input_data), input_data)"
   ]
  },
  {
   "cell_type": "markdown",
   "metadata": {},
   "source": [
    "## 2. Numpy Examples\n",
    "\n",
    "### 2.1 Black-Scholes Formula\n"
   ]
  },
  {
   "attachments": {},
   "cell_type": "markdown",
   "metadata": {},
   "source": [
    "##### Numpy: Efficient Array Operations\n",
    "\n",
    "Numpy is designed to work with array data, enabling efficient operations on all elements of an array in parallel. This feature is often referred to as \"vectorization\".\n",
    "\n",
    "Here's an example:\n"
   ]
  },
  {
   "cell_type": "code",
   "execution_count": 9,
   "metadata": {
    "execution": {
     "iopub.execute_input": "2024-02-27T13:11:34.787526Z",
     "iopub.status.busy": "2024-02-27T13:11:34.787526Z",
     "iopub.status.idle": "2024-02-27T13:11:34.791141Z",
     "shell.execute_reply": "2024-02-27T13:11:34.791141Z"
    }
   },
   "outputs": [
    {
     "data": {
      "text/plain": [
       "array([100, 101, 102, 103, 104, 105, 106, 107, 108, 109])"
      ]
     },
     "execution_count": 9,
     "metadata": {},
     "output_type": "execute_result"
    }
   ],
   "source": [
    "np.array(range(10)) + 100"
   ]
  },
  {
   "cell_type": "code",
   "execution_count": 10,
   "metadata": {
    "execution": {
     "iopub.execute_input": "2024-02-27T13:11:34.793321Z",
     "iopub.status.busy": "2024-02-27T13:11:34.792313Z",
     "iopub.status.idle": "2024-02-27T13:11:35.181817Z",
     "shell.execute_reply": "2024-02-27T13:11:35.181817Z"
    }
   },
   "outputs": [
    {
     "name": "stdout",
     "output_type": "stream",
     "text": [
      "1.556578806289311\n",
      "0.28443591964924586\n",
      "[1.55657881 0.28443592]\n",
      "[array([40, 40]), array([42, 43]), array([0.5, 0.5]), array([0.015, 0.015]), array([0.2, 0.1])]\n",
      "[1.55657881 0.28443592]\n"
     ]
    }
   ],
   "source": [
    "from scipy.stats import norm\n",
    "\n",
    "\n",
    "def bs_call(S, X, T, r, sigma):\n",
    "    d1 = (np.log(S / X) + (r + sigma * sigma / 2.0) * T) / (sigma * np.sqrt(T))\n",
    "    d2 = d1 - sigma * np.sqrt(T)\n",
    "    return S * norm.cdf(d1) - X * np.exp(-r * T) * norm.cdf(d2)\n",
    "\n",
    "\n",
    "c = bs_call(40, 42, 0.5, 0.015, 0.2)\n",
    "print(c)\n",
    "\n",
    "c1 = bs_call(40, 43, 0.5, 0.015, 0.1)\n",
    "print(c1)\n",
    "\n",
    "# Numpy can apply to vector\n",
    "print(\n",
    "    bs_call(\n",
    "        np.array([40, 40]),\n",
    "        np.array([42, 43]),\n",
    "        np.array([0.5, 0.5]),\n",
    "        np.array([0.015, 0.015]),\n",
    "        np.array([0.2, 0.1]),\n",
    "    )\n",
    ")\n",
    "\n",
    "# map is to apply the function to all elements.\n",
    "print(list(map(np.asarray, zip([40, 42, 0.5, 0.015, 0.2], [40, 43, 0.5, 0.015, 0.1]))))\n",
    "\n",
    "# Use the * to expand list, equivalent to [np.asarray(x) for x in [...]]\n",
    "print(\n",
    "    bs_call(*map(np.asarray, zip([40, 42, 0.5, 0.015, 0.2], [40, 43, 0.5, 0.015, 0.1])))\n",
    ")"
   ]
  },
  {
   "cell_type": "markdown",
   "metadata": {},
   "source": [
    "### 2.2 Broadcasting\n"
   ]
  },
  {
   "attachments": {},
   "cell_type": "markdown",
   "metadata": {},
   "source": [
    "#### Broadcasting: Expanding Dimensions of Input Data\n",
    "\n",
    "Broadcasting is a powerful mechanism in Numpy that allows mathematical operations to be performed between arrays of different shapes.\n",
    "\n",
    "Consider the following example that calculates the inter-milepost distances:\n",
    "\n",
    "In this example, `mileposts[:, np.newaxis]` adds an extra dimension to the mileposts array, transforming it from a 1D array into a 2D array. This allows the subtraction operation to be broadcasted across all combinations of milepost locations, resulting in a matrix of inter-milepost distances.\n"
   ]
  },
  {
   "cell_type": "code",
   "execution_count": 11,
   "metadata": {
    "execution": {
     "iopub.execute_input": "2024-02-27T13:11:35.184951Z",
     "iopub.status.busy": "2024-02-27T13:11:35.184951Z",
     "iopub.status.idle": "2024-02-27T13:11:35.188765Z",
     "shell.execute_reply": "2024-02-27T13:11:35.188765Z"
    }
   },
   "outputs": [
    {
     "name": "stdout",
     "output_type": "stream",
     "text": [
      "[   0  198  303  736  871 1175 1475 1544]\n",
      "[[   0]\n",
      " [ 198]\n",
      " [ 303]\n",
      " [ 736]\n",
      " [ 871]\n",
      " [1175]\n",
      " [1475]\n",
      " [1544]]\n",
      "[[   0  198  303  736  871 1175 1475 1544]\n",
      " [ 198    0  105  538  673  977 1277 1346]\n",
      " [ 303  105    0  433  568  872 1172 1241]\n",
      " [ 736  538  433    0  135  439  739  808]\n",
      " [ 871  673  568  135    0  304  604  673]\n",
      " [1175  977  872  439  304    0  300  369]\n",
      " [1475 1277 1172  739  604  300    0   69]\n",
      " [1544 1346 1241  808  673  369   69    0]]\n"
     ]
    }
   ],
   "source": [
    "mileposts = np.array([0, 198, 303, 736, 871, 1175, 1475, 1544])\n",
    "\n",
    "print(mileposts)\n",
    "print(mileposts[:, np.newaxis])  # to create column-vector\n",
    "\n",
    "inter_distance = np.abs(mileposts - mileposts[:, np.newaxis])\n",
    "print(inter_distance)"
   ]
  },
  {
   "cell_type": "code",
   "execution_count": 12,
   "metadata": {
    "execution": {
     "iopub.execute_input": "2024-02-27T13:11:35.190770Z",
     "iopub.status.busy": "2024-02-27T13:11:35.190770Z",
     "iopub.status.idle": "2024-02-27T13:11:35.194260Z",
     "shell.execute_reply": "2024-02-27T13:11:35.194260Z"
    }
   },
   "outputs": [
    {
     "data": {
      "text/plain": [
       "array([[ 1,  2,  3,  4,  5,  6,  7,  8,  9],\n",
       "       [ 2,  4,  6,  8, 10, 12, 14, 16, 18],\n",
       "       [ 3,  6,  9, 12, 15, 18, 21, 24, 27],\n",
       "       [ 4,  8, 12, 16, 20, 24, 28, 32, 36],\n",
       "       [ 5, 10, 15, 20, 25, 30, 35, 40, 45],\n",
       "       [ 6, 12, 18, 24, 30, 36, 42, 48, 54],\n",
       "       [ 7, 14, 21, 28, 35, 42, 49, 56, 63],\n",
       "       [ 8, 16, 24, 32, 40, 48, 56, 64, 72],\n",
       "       [ 9, 18, 27, 36, 45, 54, 63, 72, 81]])"
      ]
     },
     "execution_count": 12,
     "metadata": {},
     "output_type": "execute_result"
    }
   ],
   "source": [
    "np.arange(1, 10) * np.arange(1, 10)[:, np.newaxis]"
   ]
  },
  {
   "cell_type": "code",
   "execution_count": 13,
   "metadata": {
    "execution": {
     "iopub.execute_input": "2024-02-27T13:11:35.195265Z",
     "iopub.status.busy": "2024-02-27T13:11:35.195265Z",
     "iopub.status.idle": "2024-02-27T13:11:35.199082Z",
     "shell.execute_reply": "2024-02-27T13:11:35.199082Z"
    }
   },
   "outputs": [
    {
     "name": "stdout",
     "output_type": "stream",
     "text": [
      "[[0.         1.         2.         3.         4.        ]\n",
      " [1.         1.41421356 2.23606798 3.16227766 4.12310563]\n",
      " [2.         2.23606798 2.82842712 3.60555128 4.47213595]\n",
      " [3.         3.16227766 3.60555128 4.24264069 5.        ]\n",
      " [4.         4.12310563 4.47213595 5.         5.65685425]]\n"
     ]
    }
   ],
   "source": [
    "x, y = np.arange(5), np.arange(5)[:, np.newaxis]\n",
    "distance = np.sqrt(x**2 + y**2)\n",
    "print(distance)"
   ]
  },
  {
   "attachments": {},
   "cell_type": "markdown",
   "metadata": {},
   "source": [
    "## 3. Assignment\n",
    "\n",
    "### 1. Pi in wallis algorithm\n",
    "\n",
    "The Wallis formula is an infinite product that converges to Pi/2. We can use it to compute the value of Pi. The calculation stops when the difference between successive approximations is less than 1e-9.\n",
    "\n",
    "Implement it with Python and Numpy. Compare the performance of the two implementations.\n",
    "\n",
    "Reference [](https://en.wikipedia.org/wiki/Wallis_product)\n",
    "\n",
    "### 2. Quicksort\n",
    "\n",
    "Quicksort is a popular sorting algorithm. Here's a Python implementation based on the pseudo-code provided:\n",
    "\n",
    "    function quicksort(array)\n",
    "        var list less, greater\n",
    "        if length(array) < 2\n",
    "            return array\n",
    "        select and remove a pivot value pivot from array\n",
    "        for each x in array\n",
    "            if x < pivot + 1 then append x to less\n",
    "            else append x to greater\n",
    "        return concatenate(quicksort(less), pivot, quicksort(greater))\n",
    "\n",
    "### 3. Exercise: crude integration\n",
    "\n",
    "We'll write a function $f(a, b, c)$ that returns $a^b - c$, and use it to approximate a 3D integral over the parameter ranges [0, 1] x [0, 1] x [0, 1].\n",
    "\n",
    "We can approximate the integral by forming a 24x12x6 grid over the parameter ranges and averaging the function values at the grid points.\n",
    "\n",
    "This is to approximate the 3-d integral\n",
    "$\\int_{0}^{1} \\int_{0}^{1} \\int_{0}^{1} {(a^b - c)} {\\mathrm{d} a} {\\mathrm{d} b} {\\mathrm{d} c}$\n",
    "cover this volume with the mean.\n",
    "\n",
    "The exact answer is: $ln 2−\\frac {1} {2} \\approx 0.1931$ . . . — what is your relative error and time spent?\n",
    "\n",
    "Implement it the base Python and Numpy.\n",
    "\n",
    "#### Note\n",
    "\n",
    "There are at least two ways to solve this kind of problem: the conventional for loop, or numpy broadcasting.\n",
    "\n",
    "It’s good to be familiar with both approaches because some interviewer may ask “could you do it from scratch, without numpy?”\n",
    "\n",
    "#### Hint: for broadcasting method\n",
    "\n",
    "1a. You can make a 1-D grid with `np.linspace(start,end,grids)`, apply `[:, np.newaxis]` to obtain the 2nd axis, apply `[:, np.newaxis][:, np.newaxis]` to obtain the 3rd axis.\n",
    "\n",
    "1b. Alternative to 1a, `i,j,k = np.ogrid[0:1:24j, 0:1:12j, 0:1:6j]` is a shortcut to step 1a.\n",
    "\n",
    "2. Run $f(a, b, c)$ with $a, b, c$ on different axis would use broadcasting to obtain results for all combinations of $a, b, c$\n"
   ]
  },
  {
   "cell_type": "markdown",
   "metadata": {},
   "source": [
    "##### Appendix: timestamp\n"
   ]
  },
  {
   "cell_type": "code",
   "execution_count": 1,
   "metadata": {},
   "outputs": [
    {
     "data": {
      "text/plain": [
       "((3.141553022293776, 19817, 0.013207674026489258),\n",
       " (3.141564629302692, 28025, 0.04766392707824707))"
      ]
     },
     "execution_count": 1,
     "metadata": {},
     "output_type": "execute_result"
    }
   ],
   "source": [
    "# 3.1\n",
    "import numpy as np\n",
    "import time\n",
    "\n",
    "# Implementing Wallis formula to calculate Pi using pure Python\n",
    "def calculate_pi_python(epsilon=1e-9):\n",
    "    pi_approx = 1.0\n",
    "    i = 1\n",
    "    while True:\n",
    "        term = (4 * i**2) / ((4 * i**2) - 1)\n",
    "        new_pi_approx = pi_approx * term\n",
    "        if abs(new_pi_approx - pi_approx) < epsilon:\n",
    "            return 2 * new_pi_approx, i\n",
    "        pi_approx = new_pi_approx\n",
    "        i += 1\n",
    "\n",
    "# Implementing Wallis formula to calculate Pi using Numpy\n",
    "def calculate_pi_numpy(epsilon=1e-9):\n",
    "    pi_approx = 2.0\n",
    "    i = 1\n",
    "    while True:\n",
    "        term = (4 * i**2) / ((4 * i**2) - 1)\n",
    "        new_pi_approx = pi_approx * term\n",
    "        if np.abs(new_pi_approx - pi_approx) < epsilon:\n",
    "            return new_pi_approx, i\n",
    "        pi_approx = new_pi_approx\n",
    "        i += 1\n",
    "\n",
    "# Measure the performance of Python implementation\n",
    "start_time_python = time.time()\n",
    "pi_python, iterations_python = calculate_pi_python()\n",
    "end_time_python = time.time()\n",
    "\n",
    "# Measure the performance of Numpy implementation\n",
    "start_time_numpy = time.time()\n",
    "pi_numpy, iterations_numpy = calculate_pi_numpy()\n",
    "end_time_numpy = time.time()\n",
    "\n",
    "python_time = end_time_python - start_time_python\n",
    "numpy_time = end_time_numpy - start_time_numpy\n",
    "\n",
    "(pi_python, iterations_python, python_time), (pi_numpy, iterations_numpy, numpy_time)\n"
   ]
  },
  {
   "cell_type": "code",
   "execution_count": 2,
   "metadata": {},
   "outputs": [
    {
     "data": {
      "text/plain": [
       "(0.0008859634399414062, 0.1888423460296792, 0.022287845557911405)"
      ]
     },
     "execution_count": 2,
     "metadata": {},
     "output_type": "execute_result"
    }
   ],
   "source": [
    "# 3.3\n",
    "import numpy as np\n",
    "import time\n",
    "\n",
    "# Defining the function f(a, b, c) = a**b - c\n",
    "def f(a, b, c):\n",
    "    return a**b - c\n",
    "\n",
    "# Setting up the grid\n",
    "a_vals = np.linspace(0, 1, 24)\n",
    "b_vals = np.linspace(0, 1, 12)\n",
    "c_vals = np.linspace(0, 1, 6)\n",
    "\n",
    "# Broadcasting approach\n",
    "A, B, C = np.meshgrid(a_vals, b_vals, c_vals, indexing='ij', sparse=True)\n",
    "\n",
    "# Starting the timer for the broadcasting method\n",
    "start_time_broadcast = time.time()\n",
    "\n",
    "# Computing the integral using broadcasting\n",
    "integral_broadcast = f(A, B, C).mean()\n",
    "\n",
    "# Calculating the volume of the parameter space\n",
    "volume = (1 - 0) * (1 - 0) * (1 - 0)\n",
    "\n",
    "# Multiplying the average by the volume\n",
    "integral_result_broadcast = integral_broadcast * volume\n",
    "\n",
    "# Ending the timer for the broadcasting method\n",
    "end_time_broadcast = time.time()\n",
    "\n",
    "# Calculate the time taken for the broadcasting method\n",
    "time_taken_broadcast = end_time_broadcast - start_time_broadcast\n",
    "\n",
    "# Calculate the exact answer\n",
    "exact_answer = np.log(2) - 0.5\n",
    "\n",
    "# Calculate the relative error for the broadcasting method\n",
    "relative_error_broadcast = abs((integral_result_broadcast - exact_answer) / exact_answer)\n",
    "\n",
    "time_taken_broadcast, integral_result_broadcast, relative_error_broadcast\n"
   ]
  },
  {
   "cell_type": "code",
   "execution_count": 3,
   "metadata": {},
   "outputs": [
    {
     "data": {
      "text/plain": [
       "(0.0007491111755371094, 0.18884234602967925, 0.022287845557911117)"
      ]
     },
     "execution_count": 3,
     "metadata": {},
     "output_type": "execute_result"
    }
   ],
   "source": [
    "# Now let's implement the integral calculation using base Python, i.e., without Numpy\n",
    "\n",
    "# Defining the function f(a, b, c) = a**b - c\n",
    "def f(a, b, c):\n",
    "    return a**b - c\n",
    "\n",
    "# Setting up the grid using base Python\n",
    "a_vals = [i/23 for i in range(24)]\n",
    "b_vals = [i/11 for i in range(12)]\n",
    "c_vals = [i/5 for i in range(6)]\n",
    "\n",
    "# Starting the timer for the base Python method\n",
    "start_time_base = time.time()\n",
    "\n",
    "# Initialize sum for the integral calculation\n",
    "integral_sum_base = 0\n",
    "\n",
    "# Loop over each value in the grid and sum the function values\n",
    "for a in a_vals:\n",
    "    for b in b_vals:\n",
    "        for c in c_vals:\n",
    "            integral_sum_base += f(a, b, c)\n",
    "\n",
    "# Average the sum by the number of points\n",
    "integral_average_base = integral_sum_base / (24 * 12 * 6)\n",
    "\n",
    "# Multiplying the average by the volume\n",
    "integral_result_base = integral_average_base * volume\n",
    "\n",
    "# Ending the timer for the base Python method\n",
    "end_time_base = time.time()\n",
    "\n",
    "# Calculate the time taken for the base Python method\n",
    "time_taken_base = end_time_base - start_time_base\n",
    "\n",
    "# Calculate the relative error for the base Python method\n",
    "relative_error_base = abs((integral_result_base - exact_answer) / exact_answer)\n",
    "\n",
    "time_taken_base, integral_result_base, relative_error_base\n"
   ]
  },
  {
   "cell_type": "code",
   "execution_count": 5,
   "metadata": {},
   "outputs": [
    {
     "data": {
      "text/plain": [
       "False"
      ]
     },
     "execution_count": 5,
     "metadata": {},
     "output_type": "execute_result"
    }
   ],
   "source": [
    "'.'.isalnum()"
   ]
  },
  {
   "cell_type": "code",
   "execution_count": 14,
   "metadata": {
    "execution": {
     "iopub.execute_input": "2024-02-27T13:11:35.202132Z",
     "iopub.status.busy": "2024-02-27T13:11:35.202132Z",
     "iopub.status.idle": "2024-02-27T13:11:35.205447Z",
     "shell.execute_reply": "2024-02-27T13:11:35.205447Z"
    },
    "tags": []
   },
   "outputs": [
    {
     "name": "stdout",
     "output_type": "stream",
     "text": [
      "Generated on 2024-02-27 21:11:35.203636\n"
     ]
    }
   ],
   "source": [
    "from datetime import datetime\n",
    "\n",
    "print(f\"Generated on {datetime.now()}\")"
   ]
  }
 ],
 "metadata": {
  "kernelspec": {
   "display_name": "cmk310",
   "language": "python",
   "name": "python3"
  },
  "language_info": {
   "codemirror_mode": {
    "name": "ipython",
    "version": 3
   },
   "file_extension": ".py",
   "mimetype": "text/x-python",
   "name": "python",
   "nbconvert_exporter": "python",
   "pygments_lexer": "ipython3",
   "version": "3.9.18"
  },
  "vscode": {
   "interpreter": {
    "hash": "ef3060a66f05e685ce670116a67026aba95afdffb2461d829b3351d07ec51c58"
   }
  }
 },
 "nbformat": 4,
 "nbformat_minor": 4
}
