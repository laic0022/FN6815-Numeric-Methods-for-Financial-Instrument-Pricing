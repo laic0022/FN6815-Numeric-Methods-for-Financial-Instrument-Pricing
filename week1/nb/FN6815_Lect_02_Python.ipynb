{
 "cells": [
  {
   "cell_type": "markdown",
   "metadata": {
    "tags": []
   },
   "source": [
    "# FN6815 Numerical Methods for Financial Instrument Pricing\n",
    "\n",
    "# Lecture 2: Python programming\n",
    "\n",
    "-   Dr. Yang Ye\n",
    "-   Email: yy@runchee.com\n",
    "-   2023/2024 Mini Term 5\n"
   ]
  },
  {
   "cell_type": "markdown",
   "metadata": {
    "tags": []
   },
   "source": [
    "## 1. Setting up\n"
   ]
  },
  {
   "attachments": {},
   "cell_type": "markdown",
   "metadata": {
    "jp-MarkdownHeadingCollapsed": true,
    "tags": []
   },
   "source": [
    "### 1.1 Installation\n",
    "\n",
    "To use Python, we need to install Python distribution and (optionally) an IDE.\n",
    "\n",
    "#### Python distribution: Miniconda\n",
    "\n",
    "Note: Miniconda is a slim version than Anaconda. I prefer Mini-version because it offers some learning to use the packaging system.\n",
    "\n",
    "#### Installation steps:\n",
    "\n",
    "-   Download Miniconda for your OS (Operation System): https://docs.conda.io/en/latest/miniconda.html\n",
    "-   (Windows) run the EXE installer\n",
    "-   (Mac) Open terminal and run command: `bash Miniconda3-latest-MacOSX-x86_64.sh`\n",
    "\n",
    "#### (Optional) IDE like Visual Studio Code / PyCharm\n",
    "\n",
    "-   We can use Jupyter notebook as our IDE\n",
    "-   Or, we use VS Code or PyCharm. VS Code is preferred with good support for Jupyter notebook and many add-ons: https://code.visualstudio.com/\n",
    "\n",
    "You could ask for my help for installation problem during class intervals.\n"
   ]
  },
  {
   "attachments": {},
   "cell_type": "markdown",
   "metadata": {},
   "source": [
    "### 1.2 Setting up Miniconda\n",
    "\n",
    "-   (Windows) Start Menu -> Anaconda Prompt\n",
    "-   (Mac) Open Terminal\n"
   ]
  },
  {
   "attachments": {},
   "cell_type": "markdown",
   "metadata": {},
   "source": [
    "### 1.3 Python Package Installation\n",
    "\n",
    "There are two package management system: `pip` and `conda`.\n",
    "\n",
    "-   `pip` is from wider Python package repository (pypi.org), anyone can submit a package there.\n",
    "-   `conda` is a curated version by Python developer community and Anaconda, Inc.\n",
    "\n",
    "Under the conda environment, `conda` is preferred to do installation.\n",
    "\n",
    "1. Use `conda search package_to_install` first.\n",
    "2. If not found, `pip install package`.\n"
   ]
  },
  {
   "attachments": {},
   "cell_type": "markdown",
   "metadata": {},
   "source": [
    "### 1.3 Setup environment\n",
    "\n",
    "Conda provides multiple environments - one environment can contains a set of packages at their versions. We can have as many environment as possible.\n",
    "\n",
    "Python's packages are built by its community and provide extension to the base Python. We mostly rely on the packages for our work.\n",
    "\n",
    "Different environment provides separation of packages and their versions. This is useful for two reasons:\n",
    "\n",
    "1. For one project, we may use a set of packages at their versions. We are fine with them for their usage and result. We would like to keep the packages unchanged as long as the project is running.\n",
    "\n",
    "For another project, we may use another set of packages at their versions. We don't want to mess up with the packages and their versions.\n",
    "\n",
    "2. Package may change over versions and packages depends on each other. Dependency may have conflict: package_A requires package_B > 1.0 while package_C requires package_B < 1.0. For a small set of packages, we can manually resolve the conflict. But for a large set of packages, it is hard to do so. This would happen if we use one environment for all projects.\n",
    "\n",
    "Below is an example we create an environment called `dyson`, choose your own name.\n",
    "\n",
    "I have added python=3.11.8 to specify the version of Python. Although the latest version is 3.12, we may not want to use the latest version because some packages may not support the latest version. Use the 2nd latest major version is a good choice.\n",
    "\n",
    "        conda create --name dyson python=3.11.8\n",
    "        activate dyson\n",
    "        # once we have activated the environment, we can install packages\n",
    "        pip ...\n",
    "        # after using the environment, we can deactivate it\n",
    "        deactivate\n"
   ]
  },
  {
   "attachments": {},
   "cell_type": "markdown",
   "metadata": {},
   "source": [
    "### 1.4 Install the packages\n",
    "\n",
    "After you have created the environment, you can install the packages by the following command:\n",
    "Type below commands one-by-one in the command prompt/Terminal\n",
    "\n",
    "        conda update --all\n",
    "        conda clean --all\n",
    "        cd .../fn6815\n",
    "        # I have provided a requirements.txt file for you to install the packages nee\n",
    "        pip install -r requirements.txt\n"
   ]
  },
  {
   "attachments": {},
   "cell_type": "markdown",
   "metadata": {},
   "source": [
    "### 1.5 Setup the Development Environment\n",
    "\n",
    "You could choose one of the two ways:\n",
    "\n",
    "1. Jupyter Lab, which is an upgraded version of earlier Jupyter Notebook server.\n",
    "2. Visual Studio Code or PyCharm also supports to open Jupyter notebook.\n"
   ]
  },
  {
   "attachments": {},
   "cell_type": "markdown",
   "metadata": {},
   "source": [
    "### 1.6 Start Jupyter Lab\n",
    "\n",
    "-   Under Anaconda prompt, activate of your environment if any.\n",
    "\n",
    "<div class=\"alert alert-block\">\n",
    "<pre>\n",
    "cd to your working directory\n",
    "jupyter lab\n",
    "</pre>\n",
    "</div>\n",
    "\n",
    "You shall see browser to open the jupyter page.\n",
    "\n",
    "-   Create a new console or notebook.\n",
    "-   Shortcut keys:\n",
    "    -   `Enter` to edit a cell\n",
    "    -   `Esc` to quit edit\n",
    "    -   `Up/Down` to move around\n",
    "    -   `Ctrl+Enter` to run a cell\n",
    "    -   `a` is to create a cell above\n",
    "    -   `b` is to create a cell below\n",
    "    -   `m` is to turn a cell to markdown text\n",
    "    -   `c` is to turn a cell to code\n",
    "    -   `dd` or `x`/`z` is to delete/un-delete a cell\n"
   ]
  },
  {
   "attachments": {},
   "cell_type": "markdown",
   "metadata": {},
   "source": [
    "### 1.7 Start Visual Studio\n",
    "\n",
    "1. Install Extensions: **Python, Pylance, Jupyter**\n",
    "\n",
    "![](img/02/vscode-0.png)\n",
    "\n",
    "2. Go to settings (left-bottom 'Gear'-icon), type conda. Fill in conda's location (get it from command: where conda)\n",
    "\n",
    "![](img/02/vscode-1.png)\n",
    "\n",
    "3. Setting up Python\n",
    "\n",
    "Open the Command Palette (Ctrl+Shift+P) and select the **Python: Select Interpreter command**.\n",
    "\n",
    "4. Open a Jupyter notebook\n",
    "\n",
    "5. (Optional) Setting Up Linters in VS Code\n",
    "\n",
    "Linter scans code to prompt for improvements. They are good helpers. You could install Add-on like \"pylint\" or \"ruff\".\n",
    "\n",
    "Setup in JSON\n",
    "\n",
    "```\n",
    "\"notebook.formatOnSave.enabled\": true,\n",
    "\"notebook.codeActionsOnSave\": {\n",
    "    \"source.fixAll\": \"explicit\",\n",
    "    \"source.organizeImports\": \"explicit\"\n",
    "}\n",
    "```\n"
   ]
  },
  {
   "cell_type": "markdown",
   "metadata": {},
   "source": [
    "## 2. Python\n"
   ]
  },
  {
   "attachments": {},
   "cell_type": "markdown",
   "metadata": {},
   "source": [
    "Let's do a quick introduction / review!\n"
   ]
  },
  {
   "cell_type": "markdown",
   "metadata": {},
   "source": [
    "### 2.1 Basic types\n"
   ]
  },
  {
   "cell_type": "code",
   "execution_count": null,
   "metadata": {
    "execution": {
     "iopub.execute_input": "2024-02-27T13:11:20.648364Z",
     "iopub.status.busy": "2024-02-27T13:11:20.647364Z",
     "iopub.status.idle": "2024-02-27T13:11:20.657130Z",
     "shell.execute_reply": "2024-02-27T13:11:20.657130Z"
    },
    "tags": []
   },
   "outputs": [
    {
     "data": {
      "text/plain": [
       "int"
      ]
     },
     "execution_count": 1,
     "metadata": {},
     "output_type": "execute_result"
    }
   ],
   "source": [
    "a = 10\n",
    "type(a)  # int"
   ]
  },
  {
   "cell_type": "code",
   "execution_count": 2,
   "metadata": {
    "execution": {
     "iopub.execute_input": "2024-02-27T13:11:20.704160Z",
     "iopub.status.busy": "2024-02-27T13:11:20.704160Z",
     "iopub.status.idle": "2024-02-27T13:11:20.707356Z",
     "shell.execute_reply": "2024-02-27T13:11:20.707356Z"
    }
   },
   "outputs": [
    {
     "data": {
      "text/plain": [
       "float"
      ]
     },
     "execution_count": 2,
     "metadata": {},
     "output_type": "execute_result"
    }
   ],
   "source": [
    "a = 10.0\n",
    "type(a)  # float"
   ]
  },
  {
   "cell_type": "code",
   "execution_count": 3,
   "metadata": {
    "execution": {
     "iopub.execute_input": "2024-02-27T13:11:20.709362Z",
     "iopub.status.busy": "2024-02-27T13:11:20.709362Z",
     "iopub.status.idle": "2024-02-27T13:11:20.714222Z",
     "shell.execute_reply": "2024-02-27T13:11:20.713716Z"
    }
   },
   "outputs": [
    {
     "name": "stdout",
     "output_type": "stream",
     "text": [
      "<class 'str'>\n",
      "True\n",
      "True\n"
     ]
    }
   ],
   "source": [
    "print(type(\"astr\"))\n",
    "print(type(\"astr\") is str)  # not so preferred\n",
    "print(isinstance(\"astr\", str))  # preferred"
   ]
  },
  {
   "cell_type": "code",
   "execution_count": 4,
   "metadata": {
    "execution": {
     "iopub.execute_input": "2024-02-27T13:11:20.716227Z",
     "iopub.status.busy": "2024-02-27T13:11:20.715227Z",
     "iopub.status.idle": "2024-02-27T13:11:20.719543Z",
     "shell.execute_reply": "2024-02-27T13:11:20.719543Z"
    }
   },
   "outputs": [
    {
     "data": {
      "text/plain": [
       "(True, False, False, True, False)"
      ]
     },
     "execution_count": 4,
     "metadata": {},
     "output_type": "execute_result"
    }
   ],
   "source": [
    "True, False, True and False, True or False, not True"
   ]
  },
  {
   "attachments": {},
   "cell_type": "markdown",
   "metadata": {},
   "source": [
    "`float`, `int`, `str` and `bool` are basic types in Python.\n",
    "\n",
    "Because there is no declaration for the variable in Python, you can check whether a variable is of a certain type with `isinstance()` function.\n",
    "\n",
    "    isinstance(a, float)\n",
    "    isinstance(d, dict)\n",
    "    isinstance(date, datetime.datetime)\n"
   ]
  },
  {
   "cell_type": "markdown",
   "metadata": {},
   "source": [
    "We have a special value `None` which is used to represent the absence of a value.\n",
    "\n",
    "    a = None\n",
    "    type(a) # NoneType\n",
    "\n",
    "    a is None # True\n"
   ]
  },
  {
   "attachments": {},
   "cell_type": "markdown",
   "metadata": {},
   "source": [
    "#### 2.1.1 Type Hint\n",
    "\n",
    "Type hint (also known as Type annotation) has been introduced from v3.5.\n",
    "\n",
    "Annotation means it is not enforced during run time but there are tools use them to check your code and notify you for the discrepancy.\n",
    "This is known as \"static type checking\".\n",
    "\n",
    "    a: str = \"int\"\n",
    "    b: int = 3\n",
    "\n",
    "    c: float = \"a\" # wrong annotation but still runnable.\n",
    "\n",
    "    def add(a: int, b: int) -> int:\n",
    "        return a + b\n"
   ]
  },
  {
   "cell_type": "markdown",
   "metadata": {},
   "source": [
    "### 2.2 Operators\n"
   ]
  },
  {
   "attachments": {},
   "cell_type": "markdown",
   "metadata": {},
   "source": [
    "-   numeric operators: `+, - , * , /, //, %, **`\n",
    "-   logical operators: `and, or`\n",
    "\n",
    "Common functions:\n",
    "\n",
    "-   `len()`\n",
    "-   `print()`\n",
    "-   `repr()`, `eval()`\n"
   ]
  },
  {
   "cell_type": "code",
   "execution_count": 1,
   "metadata": {},
   "outputs": [],
   "source": [
    "def add(a: int, b: int):\n",
    "    return a+b"
   ]
  },
  {
   "cell_type": "code",
   "execution_count": 3,
   "metadata": {},
   "outputs": [
    {
     "data": {
      "text/plain": [
       "0.6"
      ]
     },
     "execution_count": 3,
     "metadata": {},
     "output_type": "execute_result"
    }
   ],
   "source": [
    "add(0.1,0.5)"
   ]
  },
  {
   "cell_type": "code",
   "execution_count": 5,
   "metadata": {
    "execution": {
     "iopub.execute_input": "2024-02-27T13:11:20.722557Z",
     "iopub.status.busy": "2024-02-27T13:11:20.721548Z",
     "iopub.status.idle": "2024-02-27T13:11:20.725574Z",
     "shell.execute_reply": "2024-02-27T13:11:20.725574Z"
    }
   },
   "outputs": [
    {
     "data": {
      "text/plain": [
       "2"
      ]
     },
     "execution_count": 5,
     "metadata": {},
     "output_type": "execute_result"
    }
   ],
   "source": [
    "a = \"1\"\n",
    "eval(\"1 + \" + a)"
   ]
  },
  {
   "cell_type": "code",
   "execution_count": 6,
   "metadata": {
    "execution": {
     "iopub.execute_input": "2024-02-27T13:11:20.727086Z",
     "iopub.status.busy": "2024-02-27T13:11:20.727086Z",
     "iopub.status.idle": "2024-02-27T13:11:20.730666Z",
     "shell.execute_reply": "2024-02-27T13:11:20.730666Z"
    }
   },
   "outputs": [
    {
     "data": {
      "text/plain": [
       "1"
      ]
     },
     "execution_count": 6,
     "metadata": {},
     "output_type": "execute_result"
    }
   ],
   "source": [
    "\"abc\".count(\"a\")"
   ]
  },
  {
   "attachments": {},
   "cell_type": "markdown",
   "metadata": {},
   "source": [
    "### 2.3 String operations\n",
    "\n",
    "-   Both single and double quotes are used for string. `\"abc\" == 'abc'`\n",
    "\n",
    "-   String is an object in Python. There are many methods for it.\n",
    "\n",
    "          \"a\".find(\"a\") # 0\n",
    "          \"a\".find(\"z\") # -1 not found\n",
    "          print(\"\\n\".join([\"a\",\"b\"]) # a and b in two lines\n",
    "          \"abc\".count('a')\n",
    "\n",
    "-   slicing reference: `[::]`,\n",
    "    -   `[:3]` means first three characters\n",
    "    -   `[3:]` means after first three characters\n",
    "    -   `[::2]` means every two characters\n",
    "    -   `[::-1]` means reversing the order\n",
    "    -   `[1:-1]` means remove first and last character\n"
   ]
  },
  {
   "cell_type": "code",
   "execution_count": 7,
   "metadata": {
    "execution": {
     "iopub.execute_input": "2024-02-27T13:11:20.732690Z",
     "iopub.status.busy": "2024-02-27T13:11:20.732690Z",
     "iopub.status.idle": "2024-02-27T13:11:20.736836Z",
     "shell.execute_reply": "2024-02-27T13:11:20.736836Z"
    }
   },
   "outputs": [
    {
     "data": {
      "text/plain": [
       "'abbc'"
      ]
     },
     "execution_count": 7,
     "metadata": {},
     "output_type": "execute_result"
    }
   ],
   "source": [
    "\"aaa\".count(\"a\")\n",
    "\"abc\"[::-1]\n",
    "\"aabbcc\"[1:-1]"
   ]
  },
  {
   "attachments": {},
   "cell_type": "markdown",
   "metadata": {},
   "source": [
    "### 2.4 String formatting: Anything to String conversion (succeeded by f-string)\n"
   ]
  },
  {
   "cell_type": "code",
   "execution_count": 8,
   "metadata": {
    "execution": {
     "iopub.execute_input": "2024-02-27T13:11:20.739843Z",
     "iopub.status.busy": "2024-02-27T13:11:20.738845Z",
     "iopub.status.idle": "2024-02-27T13:11:20.742608Z",
     "shell.execute_reply": "2024-02-27T13:11:20.742608Z"
    }
   },
   "outputs": [
    {
     "name": "stdout",
     "output_type": "stream",
     "text": [
      "a1\n",
      "a1\n",
      "a1 and a2\n"
     ]
    }
   ],
   "source": [
    "print(\"a{}\".format(1))\n",
    "\n",
    "print(\"a{a}\".format(a=1))\n",
    "\n",
    "print(\"a{a} and a{b}\".format(a=1, b=2))"
   ]
  },
  {
   "attachments": {},
   "cell_type": "markdown",
   "metadata": {},
   "source": [
    "### 2.5 f-string Construction, since Python 3.6\n"
   ]
  },
  {
   "cell_type": "code",
   "execution_count": 9,
   "metadata": {
    "execution": {
     "iopub.execute_input": "2024-02-27T13:11:20.744614Z",
     "iopub.status.busy": "2024-02-27T13:11:20.744614Z",
     "iopub.status.idle": "2024-02-27T13:11:20.747621Z",
     "shell.execute_reply": "2024-02-27T13:11:20.747621Z"
    },
    "tags": []
   },
   "outputs": [
    {
     "data": {
      "text/plain": [
       "'2.00_3_2020-Jan-01'"
      ]
     },
     "execution_count": 9,
     "metadata": {},
     "output_type": "execute_result"
    }
   ],
   "source": [
    "# f-string: since Python 3.6\n",
    "from datetime import date\n",
    "\n",
    "f\"{1+1:.2f}_{3}_{date(2020, 1, 1):%Y-%b-%d}\""
   ]
  },
  {
   "cell_type": "code",
   "execution_count": 10,
   "metadata": {
    "execution": {
     "iopub.execute_input": "2024-02-27T13:11:20.749640Z",
     "iopub.status.busy": "2024-02-27T13:11:20.749640Z",
     "iopub.status.idle": "2024-02-27T13:11:20.753128Z",
     "shell.execute_reply": "2024-02-27T13:11:20.752617Z"
    }
   },
   "outputs": [
    {
     "name": "stdout",
     "output_type": "stream",
     "text": [
      "MFE FE8828\n",
      "a_str='MFE' FE8828\n",
      "002\n",
      "3.142\n"
     ]
    }
   ],
   "source": [
    "a_str = \"MFE\"\n",
    "\n",
    "print(f\"{a_str} FE8828\")  # equivalent to : print(a_str + ' FE8828')\n",
    "\n",
    "print(f\"{a_str=} FE8828\")  # add = will print the name of the variable\n",
    "\n",
    "# print with formatting and calculation\n",
    "print(f\"{1+1:03d}\")\n",
    "\n",
    "print(f\"{3.1415926:.3f}\")"
   ]
  },
  {
   "cell_type": "markdown",
   "metadata": {},
   "source": [
    "### 2.6 Regular expression (did you remember this from `R`?)\n"
   ]
  },
  {
   "cell_type": "code",
   "execution_count": 11,
   "metadata": {
    "execution": {
     "iopub.execute_input": "2024-02-27T13:11:20.754989Z",
     "iopub.status.busy": "2024-02-27T13:11:20.754989Z",
     "iopub.status.idle": "2024-02-27T13:11:20.757528Z",
     "shell.execute_reply": "2024-02-27T13:11:20.757528Z"
    }
   },
   "outputs": [
    {
     "name": "stdout",
     "output_type": "stream",
     "text": [
      "Found A\n",
      "Not Found A\n",
      "We have {number} apples.\n"
     ]
    }
   ],
   "source": [
    "import re\n",
    "\n",
    "if re.match(\"^A\", \"A\"):\n",
    "    print(\"Found A\")\n",
    "if not re.match(\"^A\", \"B\"):\n",
    "    print(\"Not Found A\")\n",
    "\n",
    "print(re.sub(\"[0-9]+\", \"{number}\", \"We have 3 apples.\"))"
   ]
  },
  {
   "attachments": {},
   "cell_type": "markdown",
   "metadata": {},
   "source": [
    "### 2.7 Composite Data types\n",
    "\n",
    "-   tuple: `(,)`\n",
    "-   list: `[]`\n",
    "-   dict: `{'a': 'a'}`\n",
    "-   set: `{'a', 'b'}`\n"
   ]
  },
  {
   "cell_type": "markdown",
   "metadata": {},
   "source": [
    "### 2.8 Tuples\n",
    "\n",
    "A tuple is a data structure, yet it’s still quite simple and widely used to combine a few types of data together. It is defined by providing objects in parentheses:\n",
    "\n",
    "For tuple, you can even drop the parentheses and provide multiple objects, just separated by commas:\n"
   ]
  },
  {
   "cell_type": "code",
   "execution_count": 12,
   "metadata": {
    "execution": {
     "iopub.execute_input": "2024-02-27T13:11:20.759546Z",
     "iopub.status.busy": "2024-02-27T13:11:20.759546Z",
     "iopub.status.idle": "2024-02-27T13:11:20.762223Z",
     "shell.execute_reply": "2024-02-27T13:11:20.762223Z"
    },
    "tags": []
   },
   "outputs": [
    {
     "name": "stdout",
     "output_type": "stream",
     "text": [
      "(1, 2.5, 'data')\n",
      "(1, 2.5, 'data')\n"
     ]
    }
   ],
   "source": [
    "t = (1, 2.5, \"data\")\n",
    "print(t)\n",
    "\n",
    "t = 1, 2.5, \"data\"\n",
    "print(t)"
   ]
  },
  {
   "cell_type": "code",
   "execution_count": 13,
   "metadata": {
    "execution": {
     "iopub.execute_input": "2024-02-27T13:11:20.764229Z",
     "iopub.status.busy": "2024-02-27T13:11:20.764229Z",
     "iopub.status.idle": "2024-02-27T13:11:20.767122Z",
     "shell.execute_reply": "2024-02-27T13:11:20.767122Z"
    },
    "tags": []
   },
   "outputs": [
    {
     "data": {
      "text/plain": [
       "True"
      ]
     },
     "execution_count": 13,
     "metadata": {},
     "output_type": "execute_result"
    }
   ],
   "source": [
    "isinstance(t, tuple)"
   ]
  },
  {
   "cell_type": "code",
   "execution_count": 14,
   "metadata": {
    "execution": {
     "iopub.execute_input": "2024-02-27T13:11:20.769208Z",
     "iopub.status.busy": "2024-02-27T13:11:20.769208Z",
     "iopub.status.idle": "2024-02-27T13:11:20.772890Z",
     "shell.execute_reply": "2024-02-27T13:11:20.772890Z"
    },
    "tags": []
   },
   "outputs": [
    {
     "data": {
      "text/plain": [
       "'data'"
      ]
     },
     "execution_count": 14,
     "metadata": {},
     "output_type": "execute_result"
    }
   ],
   "source": [
    "# tuple indexing: zero-based\n",
    "t[2]"
   ]
  },
  {
   "attachments": {},
   "cell_type": "markdown",
   "metadata": {},
   "source": [
    "Items in tuple is accessible by index.\n"
   ]
  },
  {
   "cell_type": "code",
   "execution_count": 15,
   "metadata": {
    "execution": {
     "iopub.execute_input": "2024-02-27T13:11:20.773895Z",
     "iopub.status.busy": "2024-02-27T13:11:20.773895Z",
     "iopub.status.idle": "2024-02-27T13:11:20.777406Z",
     "shell.execute_reply": "2024-02-27T13:11:20.777406Z"
    },
    "tags": []
   },
   "outputs": [
    {
     "name": "stdout",
     "output_type": "stream",
     "text": [
      "1\n",
      "0\n"
     ]
    }
   ],
   "source": [
    "print(t.count(\"data\"))\n",
    "print(t.index(1))"
   ]
  },
  {
   "attachments": {},
   "cell_type": "markdown",
   "metadata": {},
   "source": [
    "Tuple is read-only. Once created, you cannot append or update existing values\n",
    "\n",
    "        ---------------------------------------------------------------------------\n",
    "        TypeError                                 Traceback (most recent call last)\n",
    "        Input In [21], in <module>\n",
    "        ----> 1 t[3] = 'data'\n",
    "\n",
    "        TypeError: 'tuple' object does not support item assignment\n"
   ]
  },
  {
   "attachments": {},
   "cell_type": "markdown",
   "metadata": {},
   "source": [
    "##### Usage of Tuple\n"
   ]
  },
  {
   "cell_type": "code",
   "execution_count": 16,
   "metadata": {
    "execution": {
     "iopub.execute_input": "2024-02-27T13:11:20.779690Z",
     "iopub.status.busy": "2024-02-27T13:11:20.779690Z",
     "iopub.status.idle": "2024-02-27T13:11:20.782699Z",
     "shell.execute_reply": "2024-02-27T13:11:20.782699Z"
    }
   },
   "outputs": [
    {
     "data": {
      "text/plain": [
       "(1, 2.5, 'data', 'data')"
      ]
     },
     "execution_count": 16,
     "metadata": {},
     "output_type": "execute_result"
    }
   ],
   "source": [
    "# Use * to melt the tuple to merge into the new tuple\n",
    "t2 = (*t, \"data\")\n",
    "t2"
   ]
  },
  {
   "cell_type": "code",
   "execution_count": 17,
   "metadata": {
    "execution": {
     "iopub.execute_input": "2024-02-27T13:11:20.785723Z",
     "iopub.status.busy": "2024-02-27T13:11:20.785218Z",
     "iopub.status.idle": "2024-02-27T13:11:20.788024Z",
     "shell.execute_reply": "2024-02-27T13:11:20.788024Z"
    },
    "tags": []
   },
   "outputs": [
    {
     "name": "stdout",
     "output_type": "stream",
     "text": [
      "1 2\n",
      "2 1\n"
     ]
    }
   ],
   "source": [
    "# Use tuple to assign values\n",
    "a, b = 1, 2\n",
    "print(a, b)\n",
    "a, b = b, a  # sw\n",
    "print(a, b)"
   ]
  },
  {
   "cell_type": "code",
   "execution_count": 18,
   "metadata": {
    "execution": {
     "iopub.execute_input": "2024-02-27T13:11:20.790030Z",
     "iopub.status.busy": "2024-02-27T13:11:20.790030Z",
     "iopub.status.idle": "2024-02-27T13:11:20.793055Z",
     "shell.execute_reply": "2024-02-27T13:11:20.793055Z"
    },
    "tags": []
   },
   "outputs": [
    {
     "data": {
      "text/plain": [
       "(1, 2, 3)"
      ]
     },
     "execution_count": 18,
     "metadata": {},
     "output_type": "execute_result"
    }
   ],
   "source": [
    "# return from a function\n",
    "def func1():\n",
    "    return 1, 2, 3\n",
    "\n",
    "\n",
    "func1()"
   ]
  },
  {
   "cell_type": "markdown",
   "metadata": {},
   "source": [
    "### 2.9 List\n"
   ]
  },
  {
   "attachments": {},
   "cell_type": "markdown",
   "metadata": {},
   "source": [
    "List is like C++'s std::vector class. It's expandable and mutable.\n",
    "\n",
    "-   Initialize it with `[]` and use `+` to concatenate them.\n",
    "-   It has methods like `.append()` single-element and `.expand()` for adding another list, `.index()` to find an element.\n"
   ]
  },
  {
   "cell_type": "code",
   "execution_count": 19,
   "metadata": {
    "execution": {
     "iopub.execute_input": "2024-02-27T13:11:20.795061Z",
     "iopub.status.busy": "2024-02-27T13:11:20.795061Z",
     "iopub.status.idle": "2024-02-27T13:11:20.797956Z",
     "shell.execute_reply": "2024-02-27T13:11:20.797956Z"
    }
   },
   "outputs": [
    {
     "name": "stdout",
     "output_type": "stream",
     "text": [
      "[1, 2]\n",
      "2\n"
     ]
    }
   ],
   "source": [
    "a_list = []\n",
    "a_list.append(1)\n",
    "a_list.append(2)\n",
    "print(a_list)\n",
    "print(len(a_list))"
   ]
  },
  {
   "cell_type": "code",
   "execution_count": 20,
   "metadata": {
    "execution": {
     "iopub.execute_input": "2024-02-27T13:11:20.799961Z",
     "iopub.status.busy": "2024-02-27T13:11:20.799961Z",
     "iopub.status.idle": "2024-02-27T13:11:20.803076Z",
     "shell.execute_reply": "2024-02-27T13:11:20.803076Z"
    }
   },
   "outputs": [
    {
     "name": "stdout",
     "output_type": "stream",
     "text": [
      "[0, 0, 0, 0, 0, 0, 0, 0, 0, 0]\n",
      "[1, 0, 0, 0, 0, 0, 0, 0, 0, 0, 0]\n"
     ]
    }
   ],
   "source": [
    "# Create a list with a fixed length\n",
    "a_list = [0] * 10\n",
    "print(a_list)\n",
    "\n",
    "# melt the list to merge into the new list\n",
    "print([1, *a_list])"
   ]
  },
  {
   "attachments": {},
   "cell_type": "markdown",
   "metadata": {},
   "source": [
    "### 2.10 Dict\n",
    "\n",
    "`dict` objects are dictionaries, that allow data retrieval by keys (which can, for example, be str objects). They are so-called key-value stores or hashmaps.\n",
    "\n",
    "The items in a dict will preserve the order of insertion, since Python 3.7.\n",
    "\n",
    "We can utilize `dict` to store and return complex results from a function. Ensure that the keys are unique and free from typo errors.\n",
    "\n",
    "```{python}\n",
    "def a_func():\n",
    "    # second dividend will overwrite the first one\n",
    "    return {'dividend': 0.04, 'rate': 0.04, 'time': 1.3, 'dividend': \"a\"}\n",
    "\n",
    "result = a_func()\n",
    "result['rase'] # KeyError\n",
    "```\n"
   ]
  },
  {
   "cell_type": "markdown",
   "metadata": {},
   "source": [
    "#### Simple example\n"
   ]
  },
  {
   "cell_type": "code",
   "execution_count": 21,
   "metadata": {
    "execution": {
     "iopub.execute_input": "2024-02-27T13:11:20.805273Z",
     "iopub.status.busy": "2024-02-27T13:11:20.805273Z",
     "iopub.status.idle": "2024-02-27T13:11:20.809693Z",
     "shell.execute_reply": "2024-02-27T13:11:20.809693Z"
    }
   },
   "outputs": [
    {
     "name": "stdout",
     "output_type": "stream",
     "text": [
      "dict_keys(['Time Traveler', 'Space and Time'])\n",
      "dict_values([4, 7])\n",
      "dict_items([('Time Traveler', 4), ('Space and Time', 7)])\n",
      "('Time Traveler', 4)\n",
      "('Space and Time', 7)\n",
      "Time Traveler:4\n",
      "Space and Time:7\n"
     ]
    },
    {
     "data": {
      "text/plain": [
       "('Time Traveler', 4)"
      ]
     },
     "execution_count": 21,
     "metadata": {},
     "output_type": "execute_result"
    }
   ],
   "source": [
    "dict_books = {}\n",
    "dict_books[\"Time Traveler\"] = 3\n",
    "dict_books[\"Time Traveler\"] += 1\n",
    "\n",
    "dict_books[\"Space and Time\"] = 7\n",
    "\n",
    "print(dict_books.keys())\n",
    "print(dict_books.values())\n",
    "print(dict_books.items())\n",
    "\n",
    "for k in dict_books:\n",
    "    print(f\"{k, dict_books[k]}\")\n",
    "\n",
    "for k, v in dict_books.items():\n",
    "    print(f\"{k}:{v}\")\n",
    "\n",
    "# convert a dictionary to a list and then get the first element\n",
    "list(dict_books.items())[0]"
   ]
  },
  {
   "attachments": {},
   "cell_type": "markdown",
   "metadata": {},
   "source": [
    "### 2.11 Looping over a Dict\n",
    "\n",
    "There are three ways to loop over a dictionary.\n"
   ]
  },
  {
   "cell_type": "code",
   "execution_count": 22,
   "metadata": {
    "execution": {
     "iopub.execute_input": "2024-02-27T13:11:20.811702Z",
     "iopub.status.busy": "2024-02-27T13:11:20.811702Z",
     "iopub.status.idle": "2024-02-27T13:11:20.814815Z",
     "shell.execute_reply": "2024-02-27T13:11:20.814815Z"
    }
   },
   "outputs": [
    {
     "name": "stdout",
     "output_type": "stream",
     "text": [
      "7\n",
      "9\n",
      "a 7\n",
      "b 9\n"
     ]
    }
   ],
   "source": [
    "users = {\"a\": 3, \"b\": 5}\n",
    "\n",
    "# To update values in a dictionary\n",
    "for k in users:\n",
    "    users[k] += 4\n",
    "\n",
    "# To read the value from a dictionary\n",
    "for v in users.values():\n",
    "    print(v)\n",
    "\n",
    "# To read both the key and value from a dictionary (can update via dd[k])\n",
    "for k, v in users.items():\n",
    "    print(k, v)"
   ]
  },
  {
   "cell_type": "code",
   "execution_count": 23,
   "metadata": {
    "execution": {
     "iopub.execute_input": "2024-02-27T13:11:20.817354Z",
     "iopub.status.busy": "2024-02-27T13:11:20.816327Z",
     "iopub.status.idle": "2024-02-27T13:11:20.820008Z",
     "shell.execute_reply": "2024-02-27T13:11:20.820008Z"
    }
   },
   "outputs": [
    {
     "name": "stdout",
     "output_type": "stream",
     "text": [
      "Got error: dictionary changed size during iteration\n",
      "{'b': 9}\n",
      "{'b': 9}\n"
     ]
    }
   ],
   "source": [
    "# Below is a bad example.\n",
    "# But do not del key from dict in a for loop for a dictionary as below.\n",
    "# The error occurs because users.keys() changes when dict changes.\n",
    "# We used try...except to avoid the crash of the program.\n",
    "\n",
    "try:\n",
    "    for k in users.keys():\n",
    "        del users[k]\n",
    "except Exception as e:\n",
    "    print(f\"Got error: {e}\")\n",
    "    pass\n",
    "\n",
    "print(users)\n",
    "print(users)"
   ]
  },
  {
   "cell_type": "code",
   "execution_count": 24,
   "metadata": {
    "execution": {
     "iopub.execute_input": "2024-02-27T13:11:20.822332Z",
     "iopub.status.busy": "2024-02-27T13:11:20.822332Z",
     "iopub.status.idle": "2024-02-27T13:11:20.824961Z",
     "shell.execute_reply": "2024-02-27T13:11:20.824961Z"
    }
   },
   "outputs": [
    {
     "name": "stdout",
     "output_type": "stream",
     "text": [
      "{'b': 9}\n"
     ]
    }
   ],
   "source": [
    "# This is a good example. list(users.keys()) stores it to a list.\n",
    "\n",
    "kk = list(users.keys())\n",
    "for k in kk:\n",
    "    if k.startswith(\"a\"):\n",
    "        del users[k]\n",
    "print(users)"
   ]
  },
  {
   "cell_type": "markdown",
   "metadata": {},
   "source": [
    "### 2.12 Set\n",
    "\n",
    "Set object has a similar form to dictionary. Because keys in both set and dict are unique.\n"
   ]
  },
  {
   "cell_type": "code",
   "execution_count": 25,
   "metadata": {
    "execution": {
     "iopub.execute_input": "2024-02-27T13:11:20.827490Z",
     "iopub.status.busy": "2024-02-27T13:11:20.826482Z",
     "iopub.status.idle": "2024-02-27T13:11:20.830490Z",
     "shell.execute_reply": "2024-02-27T13:11:20.830490Z"
    }
   },
   "outputs": [
    {
     "name": "stdout",
     "output_type": "stream",
     "text": [
      "set1 {1, 2, 3, 4, 9}\n",
      "set2 {1, 2, 3, 4, 5}\n",
      "set1.union(set2) {1, 2, 3, 4, 5, 9}\n",
      "set1 | set2 {1, 2, 3, 4, 5, 9}\n",
      "set1 & set2 {1, 2, 3, 4}\n",
      "set1 - set2 {9}\n"
     ]
    }
   ],
   "source": [
    "set1 = set([1, 2, 3, 4, 3, 9])\n",
    "set2 = {1, 2, 3, 4, 5}\n",
    "print(\"set1\", set1)\n",
    "print(\"set2\", set2)\n",
    "print(\"set1.union(set2)\", set1.union(set2))\n",
    "print(\"set1 | set2\", set1 | set2)\n",
    "print(\"set1 & set2\", set1 & set2)\n",
    "print(\"set1 - set2\", set1 - set2)\n",
    "# Other methods of set\n",
    "# Calling these methods via .\n",
    "# s.intersection()\n",
    "# s.difference()\n",
    "# s.symmetric_difference(t) # Items in either s or t but not both."
   ]
  },
  {
   "cell_type": "code",
   "execution_count": 26,
   "metadata": {
    "execution": {
     "iopub.execute_input": "2024-02-27T13:11:20.832005Z",
     "iopub.status.busy": "2024-02-27T13:11:20.832005Z",
     "iopub.status.idle": "2024-02-27T13:11:20.837044Z",
     "shell.execute_reply": "2024-02-27T13:11:20.837044Z"
    }
   },
   "outputs": [
    {
     "name": "stdout",
     "output_type": "stream",
     "text": [
      "{'Uncle B', 'Aunty C', 'Grandson E', 'Grandson D', 'Uncle A'}\n",
      "{'Aunty C'}\n"
     ]
    },
    {
     "data": {
      "text/plain": [
       "{'Uncle A', 'Uncle B'}"
      ]
     },
     "execution_count": 26,
     "metadata": {},
     "output_type": "execute_result"
    }
   ],
   "source": [
    "unique_visitors = set([\"Uncle A\", \"Uncle B\", \"Aunty C\"]) | set(\n",
    "    [\"Grandson D\", \"Grandson E\", \"Aunty C\"]\n",
    ")\n",
    "print(unique_visitors)\n",
    "\n",
    "common_visitors = set([\"Uncle A\", \"Uncle B\", \"Aunty C\"]) & set(\n",
    "    [\"Grandson D\", \"Grandson E\", \"Aunty C\"]\n",
    ")\n",
    "print(common_visitors)\n",
    "\n",
    "set([\"Uncle A\", \"Uncle B\", \"Aunty C\"]) - set([\"Grandson D\", \"Grandson E\", \"Aunty C\"])"
   ]
  },
  {
   "attachments": {},
   "cell_type": "markdown",
   "metadata": {},
   "source": [
    "## 3. Datetime\n",
    "\n",
    "`datetime` is a module in Python. Inside it, there is a `datetime` object (of the same name)\n",
    "\n",
    "I usually use `datetime.datetime`, to represent both date and datetime. Usually this is effective to save some typing but also avoids conversion between them.\n",
    "\n",
    "<div class=\"alert alert-block alert-info\">\n",
    "On module Usage\n",
    "</div>\n",
    "\n",
    "-   With `import datetime`, the module name is prefixed for the object, `datetime.datetime`\n",
    "-   Write `from datetime import datetime` before you want to use datetime object. (preferred)\n",
    "\n",
    "-   Other example of `import`:\n",
    "-   math module, `import math`, to use `math.exp`, `math.isclose`, etc.\n",
    "-   Other libraries, `import numpy as np`. `as` adds an alias so you can use `np.exp()`\n"
   ]
  },
  {
   "cell_type": "code",
   "execution_count": 5,
   "metadata": {
    "execution": {
     "iopub.execute_input": "2024-02-27T13:11:20.839445Z",
     "iopub.status.busy": "2024-02-27T13:11:20.839445Z",
     "iopub.status.idle": "2024-02-27T13:11:20.842494Z",
     "shell.execute_reply": "2024-02-27T13:11:20.842494Z"
    }
   },
   "outputs": [
    {
     "data": {
      "text/plain": [
       "(datetime.datetime(2024, 2, 28, 21, 30, 32, 499635),\n",
       " datetime.datetime(2024, 2, 28, 21, 30, 32, 499643))"
      ]
     },
     "execution_count": 5,
     "metadata": {},
     "output_type": "execute_result"
    }
   ],
   "source": [
    "from datetime import datetime\n",
    "\n",
    "isinstance(datetime.now(), datetime)\n",
    "\n",
    "datetime.today(), datetime.now()"
   ]
  },
  {
   "attachments": {},
   "cell_type": "markdown",
   "metadata": {},
   "source": [
    "### 3.1 Examples for Datetime\n",
    "\n",
    "-   `from datetime import datetime`: Usually use datetime for date (with time = 0:0:0) and datetime (with time)\n",
    "-   `datetime.now()` return datetime\n",
    "-   `datetime.today()` same as now()\n",
    "-   `datetime.now().date()`: returns a date from now()\n",
    "\n",
    "Create a date/datetime:\n",
    "\n",
    "-   `datetime.strptime()`: convert from str to time, p for parse\n",
    "-   `dt.strftime()`: convert from time to str\n",
    "-   You will get a \"timedelta\" object when subtraction two dates, use `.days()` to get the number of days.\n"
   ]
  },
  {
   "cell_type": "code",
   "execution_count": 6,
   "metadata": {
    "execution": {
     "iopub.execute_input": "2024-02-27T13:11:20.844506Z",
     "iopub.status.busy": "2024-02-27T13:11:20.844506Z",
     "iopub.status.idle": "2024-02-27T13:11:20.847936Z",
     "shell.execute_reply": "2024-02-27T13:11:20.847936Z"
    },
    "tags": []
   },
   "outputs": [
    {
     "name": "stdout",
     "output_type": "stream",
     "text": [
      "2024-02-28 21:30:35.376784\n",
      "2018-09-05 00:00:00\n",
      "2020-01-01 00:00:00\n",
      "2020-January-01\n"
     ]
    }
   ],
   "source": [
    "from datetime import datetime\n",
    "\n",
    "print(datetime.now())\n",
    "print(datetime(2018, 9, 5))\n",
    "dt = datetime.strptime(\"20200101\", \"%Y%m%d\")\n",
    "print(dt)\n",
    "\n",
    "print(dt.strftime(\"%Y-%B-%d\"))"
   ]
  },
  {
   "cell_type": "code",
   "execution_count": 7,
   "metadata": {
    "execution": {
     "iopub.execute_input": "2024-02-27T13:11:20.849826Z",
     "iopub.status.busy": "2024-02-27T13:11:20.849826Z",
     "iopub.status.idle": "2024-02-27T13:11:20.853331Z",
     "shell.execute_reply": "2024-02-27T13:11:20.853331Z"
    },
    "tags": []
   },
   "outputs": [
    {
     "data": {
      "text/plain": [
       "1097"
      ]
     },
     "execution_count": 7,
     "metadata": {},
     "output_type": "execute_result"
    }
   ],
   "source": [
    "dt1 = datetime(2022, 1, 1)\n",
    "dt2 = datetime(2019, 1, 1)\n",
    "n_days = (dt1 - dt2).days + 1\n",
    "n_days"
   ]
  },
  {
   "cell_type": "markdown",
   "metadata": {},
   "source": [
    "### 3.2 Convert from date to datetime by combine()\n"
   ]
  },
  {
   "cell_type": "code",
   "execution_count": 8,
   "metadata": {
    "execution": {
     "iopub.execute_input": "2024-02-27T13:11:20.855623Z",
     "iopub.status.busy": "2024-02-27T13:11:20.855623Z",
     "iopub.status.idle": "2024-02-27T13:11:20.858036Z",
     "shell.execute_reply": "2024-02-27T13:11:20.858036Z"
    },
    "tags": []
   },
   "outputs": [
    {
     "name": "stdout",
     "output_type": "stream",
     "text": [
      "2024-02-28 00:00:00\n"
     ]
    }
   ],
   "source": [
    "from datetime import date\n",
    "\n",
    "dt = datetime.combine(date.today(), datetime.min.time())\n",
    "print(dt)"
   ]
  },
  {
   "cell_type": "code",
   "execution_count": null,
   "metadata": {},
   "outputs": [],
   "source": []
  },
  {
   "cell_type": "markdown",
   "metadata": {},
   "source": [
    "## 4. Control\n"
   ]
  },
  {
   "attachments": {},
   "cell_type": "markdown",
   "metadata": {},
   "source": [
    "We use statements to control flow to dictate the order in which the code is executed, by condition, loop, etc.\n",
    "\n",
    "To indicate the block of code, we use indentation in Python. This is different from other languages, which use `{}` or `begin/end` to indicate the block.\n",
    "\n",
    "### 4.1 Indention\n",
    "\n",
    "-   Although we can use any number of spaces or tabs. The recommended use is 4 spaces for each level.\n",
    "-   Indentation shall be consistent between different lines in the same block.\n",
    "-   In Jupyter notebook and VS Code, indentation is automatically done after `if` or `for`.\n",
    "-   For manual indentation, you can use `Tab` to indent and `Shift+Tab` to un-indent.\n"
   ]
  },
  {
   "cell_type": "markdown",
   "metadata": {},
   "source": [
    "### 4.2 if\n",
    "\n",
    "-   `if`, `elif`, `else` are used for conditional execution.\n"
   ]
  },
  {
   "cell_type": "code",
   "execution_count": 31,
   "metadata": {
    "execution": {
     "iopub.execute_input": "2024-02-27T13:11:20.861279Z",
     "iopub.status.busy": "2024-02-27T13:11:20.860269Z",
     "iopub.status.idle": "2024-02-27T13:11:20.863312Z",
     "shell.execute_reply": "2024-02-27T13:11:20.863312Z"
    }
   },
   "outputs": [],
   "source": [
    "if 1 > 1 and 0 < 1:\n",
    "    print(\"a\")\n",
    "    print(\"b\")\n",
    "elif 2 > 1:\n",
    "    pass\n",
    "else:\n",
    "    print(\"can't reach here\")"
   ]
  },
  {
   "attachments": {},
   "cell_type": "markdown",
   "metadata": {},
   "source": [
    "### 4.3 for\n",
    "\n",
    "To create a loop, we use `for` statement.\n",
    "\n",
    "-   It is used to iterate over a sequence (list, tuple, string, etc.) or other iterable objects.\n",
    "-   It is used to execute a block of code repeatedly, use `range()`\n"
   ]
  },
  {
   "cell_type": "code",
   "execution_count": 32,
   "metadata": {
    "execution": {
     "iopub.execute_input": "2024-02-27T13:11:20.865552Z",
     "iopub.status.busy": "2024-02-27T13:11:20.865552Z",
     "iopub.status.idle": "2024-02-27T13:11:20.868635Z",
     "shell.execute_reply": "2024-02-27T13:11:20.868635Z"
    }
   },
   "outputs": [
    {
     "name": "stdout",
     "output_type": "stream",
     "text": [
      "2 2\n",
      "('MFE', 3, 2)\n",
      "('FN6815', 6, -1)\n"
     ]
    }
   ],
   "source": [
    "# Example of using for with a sequence\n",
    "\n",
    "seq = \"ATGCATGCGGGCC\"\n",
    "cc = 0\n",
    "for s in seq:\n",
    "    if s == \"A\":\n",
    "        cc += 1\n",
    "\n",
    "# There are many Python built-in functions can save us from using a for loop\n",
    "# Learn them and use them to make your code more readable and efficient.\n",
    "print(cc, seq.count(\"A\"))\n",
    "\n",
    "for a in [\"MFE\", \"FN6815\"]:\n",
    "    print((a, len(a), a.find(\"E\")))"
   ]
  },
  {
   "cell_type": "markdown",
   "metadata": {},
   "source": [
    "Although we can use `for` with a list `[1,2,3]` for iteration, we usually use `range()` to generate a sequence of numbers.\n",
    "`range()` is an object that would return value in the range one-by-one.\n",
    "\n",
    "It can take 1, 2 or 3 integers as arguments.\n",
    "\n",
    "-   1 argument: from 0 up to that number, $[0, a)$\n",
    "-   2 arguments: from the first number to the second number, $[a, b)$\n",
    "-   3 arguments: from the first number to the second number, with the step of the third number, $[a, b)$\n",
    "\n",
    "```{python}\n",
    "range(3) # 0, 1, 2\n",
    "range(1, 3) # 1, 2\n",
    "range(1, 27, 3) # 1, 4, 7, 10, 13, 16, 19, 22, 25\n",
    "```\n",
    "\n",
    "<div class=\"alert alert-block alert-info\">\n",
    "Question on range\n",
    "</div>\n",
    "\n",
    "-   What's the output of `range(-3)`, `range(3, 0)`, `range(1, 27, -3)`?\n",
    "-   Hint: use `list(range())` to realize the range to be a list of values.\n"
   ]
  },
  {
   "cell_type": "code",
   "execution_count": 33,
   "metadata": {
    "execution": {
     "iopub.execute_input": "2024-02-27T13:11:20.871065Z",
     "iopub.status.busy": "2024-02-27T13:11:20.870050Z",
     "iopub.status.idle": "2024-02-27T13:11:20.873567Z",
     "shell.execute_reply": "2024-02-27T13:11:20.873567Z"
    },
    "tags": []
   },
   "outputs": [
    {
     "name": "stdout",
     "output_type": "stream",
     "text": [
      "0\n",
      "1\n",
      "2\n",
      "3\n",
      "3\n",
      "3\n",
      "2\n",
      "2\n",
      "2\n"
     ]
    }
   ],
   "source": [
    "for x in range(3):\n",
    "    print(x)\n",
    "\n",
    "for _ in range(3):\n",
    "    print(3)\n",
    "\n",
    "## Since I don't need x here, use _ to represent throwaway variable.\n",
    "for _ in range(3, 6):\n",
    "    print(2)"
   ]
  },
  {
   "cell_type": "markdown",
   "metadata": {},
   "source": [
    "The advantage of using `range()` is space and time saving. It does not generate the list of numbers in memory. It generates the number one-by-one.\n"
   ]
  },
  {
   "cell_type": "markdown",
   "metadata": {},
   "source": [
    "### 4.4 List comprehension\n"
   ]
  },
  {
   "attachments": {},
   "cell_type": "markdown",
   "metadata": {},
   "source": [
    "List comprehension in Python offers a more concise way to process elements from a list, compared to the traditional for loop. Here are some advantages:\n",
    "\n",
    "-   Brevity: List comprehension provides a shorter and more readable code. Instead of writing multiple lines of code with a for loop, you can achieve the same result in a single line.\n",
    "\n",
    "-   Memory Efficiency: It uses less memory as it generates the output list without needing to store each loop's output.\n"
   ]
  },
  {
   "cell_type": "code",
   "execution_count": 34,
   "metadata": {
    "execution": {
     "iopub.execute_input": "2024-02-27T13:11:20.876211Z",
     "iopub.status.busy": "2024-02-27T13:11:20.874704Z",
     "iopub.status.idle": "2024-02-27T13:11:20.879227Z",
     "shell.execute_reply": "2024-02-27T13:11:20.879227Z"
    }
   },
   "outputs": [
    {
     "name": "stdout",
     "output_type": "stream",
     "text": [
      "[1, 4, 9, 16, 25, 36, 49, 64, 81]\n",
      "[1, 4, 9, 16, 25, 36, 49, 64, 81]\n",
      "[0, 2, 4, 6, 8]\n"
     ]
    }
   ],
   "source": [
    "# use for loop\n",
    "cc = []\n",
    "for i in range(1, 10):\n",
    "    cc.append(i**2)\n",
    "print(cc)\n",
    "\n",
    "# Use list comprehension, we avoid using append in a loop\n",
    "print([i**2 for i in range(1, 10)])\n",
    "\n",
    "# add guard `if`\n",
    "print([i for i in range(10) if i % 2 == 0])"
   ]
  },
  {
   "cell_type": "code",
   "execution_count": 35,
   "metadata": {
    "execution": {
     "iopub.execute_input": "2024-02-27T13:11:20.881493Z",
     "iopub.status.busy": "2024-02-27T13:11:20.881493Z",
     "iopub.status.idle": "2024-02-27T13:11:20.884676Z",
     "shell.execute_reply": "2024-02-27T13:11:20.884676Z"
    }
   },
   "outputs": [
    {
     "name": "stdout",
     "output_type": "stream",
     "text": [
      "[(0, 0), (0, 1), (0, 2), (1, 0), (1, 1), (1, 2), (2, 0), (2, 1), (2, 2)]\n",
      "[(0, 0), (1, 0), (1, 1), (2, 0), (2, 1), (2, 2)]\n"
     ]
    }
   ],
   "source": [
    "# Multi-variable list comprehension, also called nested list comprehension\n",
    "# a matrix's locations\n",
    "print([(x, y) for x in range(3) for y in range(3)])\n",
    "\n",
    "# half-matrix locations\n",
    "print([(x, y) for x in range(3) for y in range(3) if x >= y])"
   ]
  },
  {
   "cell_type": "code",
   "execution_count": 36,
   "metadata": {
    "execution": {
     "iopub.execute_input": "2024-02-27T13:11:20.886702Z",
     "iopub.status.busy": "2024-02-27T13:11:20.886702Z",
     "iopub.status.idle": "2024-02-27T13:11:20.890419Z",
     "shell.execute_reply": "2024-02-27T13:11:20.890419Z"
    }
   },
   "outputs": [
    {
     "name": "stdout",
     "output_type": "stream",
     "text": [
      "[(0, 0), (0, 1), (1, 0), (1, 1), (2, 0), (2, 1)]"
     ]
    },
    {
     "name": "stdout",
     "output_type": "stream",
     "text": [
      " [(0, 0), (0, 1), (0, 2), (1, 0), (1, 1), (1, 2)]\n",
      "(0, 0)\n",
      "(0, 1)\n",
      "(1, 0)\n",
      "(1, 1)\n",
      "(2, 0)\n",
      "(2, 1)\n"
     ]
    }
   ],
   "source": [
    "# For nested list comprehension, it is equivalent to the following for loop\n",
    "print(\n",
    "    [(x, y) for x in range(3) for y in range(2)],  # List 1\n",
    "    [(x, y) for x in range(2) for y in range(3)],  # List 2\n",
    ")\n",
    "\n",
    "# Equivalent to List 1\n",
    "for x in range(3):\n",
    "    for y in range(2):\n",
    "        print((x, y))"
   ]
  },
  {
   "cell_type": "markdown",
   "metadata": {},
   "source": [
    "The list comprehension syntax also extends to create _dictionary_ and _set_.\n"
   ]
  },
  {
   "cell_type": "code",
   "execution_count": 37,
   "metadata": {
    "execution": {
     "iopub.execute_input": "2024-02-27T13:11:20.892436Z",
     "iopub.status.busy": "2024-02-27T13:11:20.892436Z",
     "iopub.status.idle": "2024-02-27T13:11:20.896946Z",
     "shell.execute_reply": "2024-02-27T13:11:20.896436Z"
    }
   },
   "outputs": [
    {
     "data": {
      "text/plain": [
       "True"
      ]
     },
     "execution_count": 37,
     "metadata": {},
     "output_type": "execute_result"
    }
   ],
   "source": [
    "# A set is created when the generator expression is enclosed in curly braces.\n",
    "{i for i in range(3)} == set([0, 1, 2])"
   ]
  },
  {
   "cell_type": "code",
   "execution_count": 38,
   "metadata": {
    "execution": {
     "iopub.execute_input": "2024-02-27T13:11:20.898454Z",
     "iopub.status.busy": "2024-02-27T13:11:20.898454Z",
     "iopub.status.idle": "2024-02-27T13:11:20.901685Z",
     "shell.execute_reply": "2024-02-27T13:11:20.901685Z"
    }
   },
   "outputs": [
    {
     "data": {
      "text/plain": [
       "{'0': 0, '1': 1, '2': 4}"
      ]
     },
     "execution_count": 38,
     "metadata": {},
     "output_type": "execute_result"
    }
   ],
   "source": [
    "# A dict is created when the generator expression contains “pairs” of the form key:value.\n",
    "{str(i): i**2 for i in range(3)}"
   ]
  },
  {
   "attachments": {},
   "cell_type": "markdown",
   "metadata": {},
   "source": [
    "### 4.5 Functions\n",
    "\n",
    "-   Definition: Use the def keyword to define a function. For example, `def my_function():`.\n",
    "\n",
    "-   Inputs: A function can take inputs from its argument list and the environment it runs in. For instance, `def my_function(arg1, arg2):`.\n",
    "\n",
    "-   Default Arguments: You can provide default values for arguments. These should be placed after arguments without default values. For example, `def my_function(arg1, arg2='default'):`, but not `def my_function(arg1, arg2='default', arg3):`\n",
    "\n",
    "-   Return Statement: The `return` keyword is used to exit a function and return a result. If you want to return multiple values, you can use a tuple.\n"
   ]
  },
  {
   "cell_type": "code",
   "execution_count": 39,
   "metadata": {
    "execution": {
     "iopub.execute_input": "2024-02-27T13:11:20.903696Z",
     "iopub.status.busy": "2024-02-27T13:11:20.903696Z",
     "iopub.status.idle": "2024-02-27T13:11:20.908995Z",
     "shell.execute_reply": "2024-02-27T13:11:20.908481Z"
    }
   },
   "outputs": [
    {
     "name": "stdout",
     "output_type": "stream",
     "text": [
      "(6, 3)\n"
     ]
    },
    {
     "data": {
      "text/plain": [
       "True"
      ]
     },
     "execution_count": 39,
     "metadata": {},
     "output_type": "execute_result"
    }
   ],
   "source": [
    "def a_func(c, d=3):\n",
    "    a = 1 + b + d\n",
    "    return a, c\n",
    "\n",
    "\n",
    "b = 2\n",
    "# it uses b from the environment, so the result is 6\n",
    "print(a_func(3))\n",
    "\n",
    "a, c = a_func(3)  # receive tuple-typed result\n",
    "ac = a_func(3)  # or store the tuple into one variable\n",
    "(ac[0], ac[1]) == (a, c)"
   ]
  },
  {
   "attachments": {},
   "cell_type": "markdown",
   "metadata": {},
   "source": [
    "### 4.6 Matching arguments for functions\n",
    "\n",
    "Python provides a flexible mechanism for dealing with variable-length arguments for a function. You can use the following placeholders:\n",
    "\n",
    "-   `*args` is used to scoop up a variable number of non-keyword arguments. These arguments are captured into a tuple.\n",
    "-   `**kwargs` is used to capture an arbitrary number of keyword arguments. These are captured into a dictionary.\n",
    "\n",
    "Note: args and kwargs are conventional names, but you can use any valid identifier like `*myargs` or `**mykwargs`.\n"
   ]
  },
  {
   "cell_type": "code",
   "execution_count": 40,
   "metadata": {
    "execution": {
     "iopub.execute_input": "2024-02-27T13:11:20.911003Z",
     "iopub.status.busy": "2024-02-27T13:11:20.910006Z",
     "iopub.status.idle": "2024-02-27T13:11:20.913516Z",
     "shell.execute_reply": "2024-02-27T13:11:20.913516Z"
    }
   },
   "outputs": [
    {
     "name": "stdout",
     "output_type": "stream",
     "text": [
      "kargs: type:<class 'tuple'> len:3\n",
      "kwargs: type:<class 'dict'> len:3\n",
      "(1, 2, 3)\n",
      "{'a': 3, 'b': 4, 'c': 'a_string'}\n"
     ]
    }
   ],
   "source": [
    "def my_proc(*kargs, **kwargs):\n",
    "    print(f\"kargs: type:{type(kargs)} len:{len(kargs)}\")\n",
    "    print(f\"kwargs: type:{type(kwargs)} len:{len(kwargs)}\")\n",
    "    print(kargs)\n",
    "    print(kwargs)\n",
    "\n",
    "\n",
    "my_proc(1, 2, 3, a=3, b=4, c=\"a_string\")\n",
    "# kargs (tuple) stores 1, 2, 3\n",
    "# kwargs (dict) stores a=3, b=4, c=\"a_string\""
   ]
  },
  {
   "attachments": {},
   "cell_type": "markdown",
   "metadata": {},
   "source": [
    "When a function only has `*kargs`, or `**kwargs`.\n"
   ]
  },
  {
   "cell_type": "code",
   "execution_count": 41,
   "metadata": {
    "execution": {
     "iopub.execute_input": "2024-02-27T13:11:20.914773Z",
     "iopub.status.busy": "2024-02-27T13:11:20.914773Z",
     "iopub.status.idle": "2024-02-27T13:11:20.919792Z",
     "shell.execute_reply": "2024-02-27T13:11:20.919792Z"
    }
   },
   "outputs": [
    {
     "name": "stdout",
     "output_type": "stream",
     "text": [
      "f1: (<class 'dict'>, {'a': 1, 'b': 3})\n",
      "Error: f1() takes 0 positional arguments but 2 were given\n",
      "f2: (<class 'tuple'>, (1, 3))\n",
      "Error: f2() got an unexpected keyword argument 'a'\n"
     ]
    }
   ],
   "source": [
    "# do not allow to pass a non-keyword argument\n",
    "def f1(**kwargs):\n",
    "    print(f\"f1: {type(kwargs), kwargs}\")\n",
    "\n",
    "\n",
    "try:\n",
    "    f1(a=1, b=3)  # Pass\n",
    "    f1(1, 3)  # Error\n",
    "except TypeError as err:\n",
    "    print(f\"Error: {err}\")\n",
    "\n",
    "\n",
    "# do not allow keyword arguments\n",
    "def f2(*args):\n",
    "    print(f\"f2: {type(args), args}\")\n",
    "\n",
    "\n",
    "try:\n",
    "    f2(1, 3)  # Pass\n",
    "    f2(a=1, b=3)  # Error\n",
    "except TypeError as err:\n",
    "    print(f\"Error: {err}\")"
   ]
  },
  {
   "attachments": {},
   "cell_type": "markdown",
   "metadata": {},
   "source": [
    "### 4.7 Another way round -- Use \\* to expand a list and \\*\\* to expand a dict\n"
   ]
  },
  {
   "attachments": {},
   "cell_type": "markdown",
   "metadata": {},
   "source": [
    "Previously, we used `*` to create new tuple, list, dict from an existing one. We can use it to expand a tuple/list/dict to be the arguments of a function.\n"
   ]
  },
  {
   "cell_type": "code",
   "execution_count": 42,
   "metadata": {
    "execution": {
     "iopub.execute_input": "2024-02-27T13:11:20.921808Z",
     "iopub.status.busy": "2024-02-27T13:11:20.921808Z",
     "iopub.status.idle": "2024-02-27T13:11:20.927181Z",
     "shell.execute_reply": "2024-02-27T13:11:20.927181Z"
    }
   },
   "outputs": [
    {
     "name": "stdout",
     "output_type": "stream",
     "text": [
      "arg1: Geeks\n",
      "arg2: for\n",
      "arg3: Geeks\n",
      "arg1: Geeks\n",
      "arg2: for\n",
      "arg3: Geeks\n"
     ]
    },
    {
     "data": {
      "text/plain": [
       "{'apple': 3, 'orange': 6}"
      ]
     },
     "execution_count": 42,
     "metadata": {},
     "output_type": "execute_result"
    }
   ],
   "source": [
    "def myFun(arg1, arg2, arg3):\n",
    "    print(\"arg1:\", arg1)\n",
    "    print(\"arg2:\", arg2)\n",
    "    print(\"arg3:\", arg3)\n",
    "\n",
    "\n",
    "# Now we can use *args or **kwargs to\n",
    "# pass arguments to this function :\n",
    "args = (\"Geeks\", \"for\", \"Geeks\")\n",
    "myFun(*args)\n",
    "\n",
    "kwargs = {\"arg1\": \"Geeks\", \"arg2\": \"for\", \"arg3\": \"Geeks\"}\n",
    "myFun(**kwargs)\n",
    "\n",
    "# Use ** to expand a dictionary and then combine multiple of them.\n",
    "fruit_1 = {\"apple\": 3}\n",
    "fruit_2 = {\"orange\": 6}\n",
    "dict(**fruit_1, **fruit_2)"
   ]
  },
  {
   "attachments": {},
   "cell_type": "markdown",
   "metadata": {},
   "source": [
    "#### 4.8 Use `yield` to create customized generator function (Optional)\n",
    "\n",
    "`yield` is used to create a generator function. It is a special type of function that remembers its state and can resume from where it left off. This is how the `range()` function works.\n",
    "\n",
    "Below example re-creates the built-in `range()` function in Python.\n"
   ]
  },
  {
   "cell_type": "code",
   "execution_count": 43,
   "metadata": {
    "execution": {
     "iopub.execute_input": "2024-02-27T13:11:20.929698Z",
     "iopub.status.busy": "2024-02-27T13:11:20.928191Z",
     "iopub.status.idle": "2024-02-27T13:11:20.932737Z",
     "shell.execute_reply": "2024-02-27T13:11:20.932737Z"
    }
   },
   "outputs": [
    {
     "name": "stdout",
     "output_type": "stream",
     "text": [
      "<generator object range_own at 0x00000207043AC110>\n",
      "[0, 1, 2, 3, 4, 5, 6, 7, 8, 9]\n"
     ]
    }
   ],
   "source": [
    "def range_own(end):\n",
    "    start = 0\n",
    "    while start < end:\n",
    "        yield start\n",
    "        start += 1\n",
    "\n",
    "\n",
    "print(range_own(10))\n",
    "print(list(range_own(10)))"
   ]
  },
  {
   "attachments": {},
   "cell_type": "markdown",
   "metadata": {},
   "source": [
    "### 4.9 zip\n",
    "\n",
    "Zip operation can merge two equal-long list to a list of tuples.\n",
    "\n",
    "```\n",
    " a    b\n",
    "[ ]   [ ]\n",
    " |     |\n",
    "[ ]   [ ]\n",
    " |     |\n",
    "[ ]   [ ]\n",
    "```\n",
    "\n",
    "After zip(a, b),\n",
    "\n",
    "```\n",
    "[ [ ] - [ ]\n",
    "\n",
    "  [ ] - [ ]\n",
    "\n",
    "  [ ] - [ ] ]\n",
    "```\n"
   ]
  },
  {
   "cell_type": "code",
   "execution_count": 44,
   "metadata": {
    "execution": {
     "iopub.execute_input": "2024-02-27T13:11:20.934934Z",
     "iopub.status.busy": "2024-02-27T13:11:20.934934Z",
     "iopub.status.idle": "2024-02-27T13:11:20.938821Z",
     "shell.execute_reply": "2024-02-27T13:11:20.938821Z"
    }
   },
   "outputs": [
    {
     "data": {
      "text/plain": [
       "<zip at 0x2070436b340>"
      ]
     },
     "execution_count": 44,
     "metadata": {},
     "output_type": "execute_result"
    }
   ],
   "source": [
    "zip([1, 2, 3], [\"a\", \"b\", \"c\"])"
   ]
  },
  {
   "cell_type": "code",
   "execution_count": 45,
   "metadata": {
    "execution": {
     "iopub.execute_input": "2024-02-27T13:11:20.941353Z",
     "iopub.status.busy": "2024-02-27T13:11:20.940346Z",
     "iopub.status.idle": "2024-02-27T13:11:20.944785Z",
     "shell.execute_reply": "2024-02-27T13:11:20.944785Z"
    }
   },
   "outputs": [
    {
     "name": "stdout",
     "output_type": "stream",
     "text": [
      "[(1, 'a'), (2, 'b')]\n"
     ]
    },
    {
     "data": {
      "text/plain": [
       "[(1, 'a'), (2, 'b')]"
      ]
     },
     "execution_count": 45,
     "metadata": {},
     "output_type": "execute_result"
    }
   ],
   "source": [
    "print([x for x in zip([1, 2], [\"a\", \"b\", \"c\"])])\n",
    "\n",
    "# or, use list()\n",
    "list(zip([1, 2], [\"a\", \"b\", \"c\"]))"
   ]
  },
  {
   "cell_type": "markdown",
   "metadata": {},
   "source": [
    "zip also has a property: `zip(*zip(a, b)) == (a, b)`\n",
    "\n",
    "1. Melting/breaking zip(a,b) down with \\*\n",
    "\n",
    "```\n",
    "[ ] - [ ]\n",
    "\n",
    "[ ] - [ ]\n",
    "\n",
    "[ ] - [ ]\n",
    "```\n",
    "\n",
    "2. And put this list of three elements back to zip, it will restore the original input of a and b\n",
    "\n",
    "```\n",
    " a     b\n",
    "[ ]   [ ]\n",
    " |     |\n",
    "[ ]   [ ]\n",
    " |     |\n",
    "[ ]   [ ]\n",
    "```\n"
   ]
  },
  {
   "cell_type": "code",
   "execution_count": 46,
   "metadata": {
    "execution": {
     "iopub.execute_input": "2024-02-27T13:11:20.947306Z",
     "iopub.status.busy": "2024-02-27T13:11:20.946299Z",
     "iopub.status.idle": "2024-02-27T13:11:20.949863Z",
     "shell.execute_reply": "2024-02-27T13:11:20.949863Z"
    }
   },
   "outputs": [
    {
     "name": "stdout",
     "output_type": "stream",
     "text": [
      "(1, 2, 3) ('a', 'b', 'c')\n"
     ]
    }
   ],
   "source": [
    "# Restore a zip\n",
    "a, b = zip(*[x for x in zip([1, 2, 3], [\"a\", \"b\", \"c\"])])\n",
    "print(a, b)"
   ]
  },
  {
   "cell_type": "markdown",
   "metadata": {},
   "source": [
    "## 5. Class\n"
   ]
  },
  {
   "cell_type": "markdown",
   "metadata": {},
   "source": [
    "### 5.1 Define a class\n",
    "\n",
    "OOP brings good practice to organize the code. Although you will write most functions in this course, you could package them better with OOP.\n",
    "\n",
    "Python classes utilize special methods with names starting with double underscores \\_\\_, known as dunder methods (dunder = double underline). Understanding when these methods are called allows us to customize class behavior.\n",
    "\n",
    "-   `__init__`: The constructor method, called when an instance of the class is created.\n",
    "-   `__del__`: The destructor method, invoked when an instance is about to be destroyed. This is useful for cleaning up resources. Usually you do not need to define them as Python has garbage collection mechanism.\n",
    "\n",
    "All class methods should have `self` as their first argument. This refers to the instance of the class and is used to access other class members (variables and methods).\n",
    "\n",
    "However, methods decorated with `@staticmethod` don't require `self` and can be called directly from the class name.\n",
    "\n",
    "Example for `__init__` and `self`:\n",
    "\n",
    "```\n",
    "class FinancialInstrument:\n",
    "    def __init__(self, type='swap'):\n",
    "        self.type = type\n",
    "    def get_price(self):\n",
    "        return self.price\n",
    "    def set_price(self, price):\n",
    "        self.price = price\n",
    "```\n",
    "\n",
    "Example for `__del__`:\n",
    "\n",
    "```\n",
    "class AAA:\n",
    "    def __init__(self):\n",
    "        self.randoms = np.random.uniform(size=100000)\n",
    "    def __del__(self):\n",
    "        # manual deletion of the variable, if not, it will also be deleted by Python's garbage collection\n",
    "        del self.randoms\n",
    "        print(\"AAA\")\n",
    "\n",
    "a = AAA()\n",
    "a = 1 # __del__ is triggered to release the memory of instance a\n",
    ">> \"AAA\"\n",
    "```\n"
   ]
  },
  {
   "cell_type": "code",
   "execution_count": 47,
   "metadata": {
    "execution": {
     "iopub.execute_input": "2024-02-27T13:11:20.953412Z",
     "iopub.status.busy": "2024-02-27T13:11:20.952401Z",
     "iopub.status.idle": "2024-02-27T13:11:21.133264Z",
     "shell.execute_reply": "2024-02-27T13:11:21.133264Z"
    }
   },
   "outputs": [],
   "source": [
    "import numpy as np\n",
    "\n",
    "\n",
    "class AAA:\n",
    "    def __init__(self):\n",
    "        self.randoms = np.random.uniform(size=10)\n",
    "\n",
    "    def __del__(self):\n",
    "        del self.randoms\n",
    "        print(\"~AAA\")"
   ]
  },
  {
   "cell_type": "code",
   "execution_count": 48,
   "metadata": {
    "execution": {
     "iopub.execute_input": "2024-02-27T13:11:21.137301Z",
     "iopub.status.busy": "2024-02-27T13:11:21.136295Z",
     "iopub.status.idle": "2024-02-27T13:11:21.140925Z",
     "shell.execute_reply": "2024-02-27T13:11:21.140407Z"
    }
   },
   "outputs": [
    {
     "name": "stdout",
     "output_type": "stream",
     "text": [
      "~AAA\n"
     ]
    }
   ],
   "source": [
    "a = AAA()\n",
    "del a"
   ]
  },
  {
   "attachments": {},
   "cell_type": "markdown",
   "metadata": {},
   "source": [
    "### 5.2 More **dunder** methods\n",
    "\n",
    "Dunder methods allow us to emulate the behavior of built-in Python objects. Here are some commonly used ones:\n",
    "\n",
    "-   `__str__` or `__repr__` (if `__str__` is not defined) are invoked by `print()`.\n",
    "-   `__repr__` is used by `repr()`.\n",
    "-   `__eq__` is used for equality comparison (`==`).\n",
    "-   `__add__` and `__sub__` are used for addition (`+`) and subtraction (`-`), respectively.\n",
    "\n",
    "Implement these methods within your class to customize its interaction with built-in Python operations, similar to operator overloading in C++.\n",
    "\n",
    "Note:\n",
    "\n",
    "-   `__str__()` should return a user-friendly string representation of the object, while `__repr__()` should return a string that `eval()` can interpret.\n",
    "-   `__repr__()` is intended for developers, providing a detailed representation of the object.\n"
   ]
  },
  {
   "cell_type": "code",
   "execution_count": 49,
   "metadata": {
    "execution": {
     "iopub.execute_input": "2024-02-27T13:11:21.142437Z",
     "iopub.status.busy": "2024-02-27T13:11:21.142437Z",
     "iopub.status.idle": "2024-02-27T13:11:21.149343Z",
     "shell.execute_reply": "2024-02-27T13:11:21.149343Z"
    }
   },
   "outputs": [
    {
     "name": "stdout",
     "output_type": "stream",
     "text": [
      "b->a: 2.8284271247461903\n",
      "a->b: 2.8284271247461903\n",
      "b->b: 0.0\n",
      "--This is from class City\n",
      "City (1,2)\n",
      "--This is from class CityWithStr\n",
      "This city is at 2, 4.\n"
     ]
    },
    {
     "data": {
      "text/plain": [
       "City (1,2)"
      ]
     },
     "execution_count": 49,
     "metadata": {},
     "output_type": "execute_result"
    }
   ],
   "source": [
    "class City:\n",
    "    def __init__(self, x, y):\n",
    "        self.x = x\n",
    "        self.y = y\n",
    "\n",
    "    def distance(self, city):\n",
    "        xDis = abs(self.x - city.x)  # Pass\n",
    "        yDis = abs(self.y - city.y)\n",
    "        distance = np.sqrt((xDis**2) + (yDis**2))\n",
    "        return distance\n",
    "\n",
    "    def __eq__(self, city):\n",
    "        return self.x == city.x and self.y == city.y\n",
    "\n",
    "    def __repr__(self):\n",
    "        # This output a string like the command line of constructor. i.e. a = City(1,2)\n",
    "        return f\"City ({str(self.x)},{str(self.y)})\"\n",
    "\n",
    "    def __add__(self, city):\n",
    "        return self.__class__(self.x + city.x, self.y + city.y)\n",
    "\n",
    "\n",
    "class CityWithStr(City):\n",
    "    def __str__(self):\n",
    "        return f\"This city is at {self.x}, {self.y}.\"\n",
    "\n",
    "\n",
    "a_city = City(1, 2)\n",
    "b_city = City(3, 4)\n",
    "print(f\"b->a: {a_city.distance(b_city)}\")\n",
    "print(f\"a->b: {b_city.distance(a_city)}\")\n",
    "print(f\"b->b: {b_city.distance(b_city)}\")\n",
    "print(\"--This is from class City\")\n",
    "print(a_city)\n",
    "\n",
    "print(\"--This is from class CityWithStr\")\n",
    "c_city = CityWithStr(1, 2)\n",
    "print(c_city + c_city)\n",
    "\n",
    "# __repr__() shall return a string that eval() knows how to interpret.\n",
    "eval(repr(a_city))"
   ]
  },
  {
   "cell_type": "code",
   "execution_count": 50,
   "metadata": {
    "execution": {
     "iopub.execute_input": "2024-02-27T13:11:21.151354Z",
     "iopub.status.busy": "2024-02-27T13:11:21.151354Z",
     "iopub.status.idle": "2024-02-27T13:11:21.156924Z",
     "shell.execute_reply": "2024-02-27T13:11:21.156924Z"
    }
   },
   "outputs": [
    {
     "name": "stdout",
     "output_type": "stream",
     "text": [
      "0\n",
      "True\n"
     ]
    }
   ],
   "source": [
    "class Vector:\n",
    "    def __init__(self, x, y):\n",
    "        self.x = x\n",
    "        self.y = y\n",
    "\n",
    "    def __eq__(self, other):\n",
    "        return self.x == other.x and self.y == other.y\n",
    "\n",
    "    def __add__(self, other):\n",
    "        return Vector(self.x + other.x, self.y + other.y)\n",
    "\n",
    "    def __minus__(self, other):\n",
    "        return Vector(self.x - other.x, self.y - other.y)\n",
    "\n",
    "    def __str__(self):\n",
    "        return \"({0}, {1})\".format(self.x, self.y)\n",
    "\n",
    "    def __mul__(self, other):\n",
    "        return self.x * other.x + self.y * other.y\n",
    "\n",
    "\n",
    "v1 = Vector(3, 4)\n",
    "v2 = Vector(4, -3)\n",
    "print(v1 * v2)\n",
    "\n",
    "print(Vector(1, 2) == Vector(1, 2))"
   ]
  },
  {
   "cell_type": "markdown",
   "metadata": {},
   "source": [
    "### 5.4 Python internal methods, like **\\__dict_-**.\n",
    "\n",
    "-   Convert a `dict` to `object`: turning the keys to the object's attributes.\n",
    "\n",
    "```\n",
    "dict['a'] = 1 => dict.a = 1\n",
    "```\n"
   ]
  },
  {
   "cell_type": "code",
   "execution_count": 51,
   "metadata": {
    "execution": {
     "iopub.execute_input": "2024-02-27T13:11:21.159431Z",
     "iopub.status.busy": "2024-02-27T13:11:21.159431Z",
     "iopub.status.idle": "2024-02-27T13:11:21.162231Z",
     "shell.execute_reply": "2024-02-27T13:11:21.162231Z"
    }
   },
   "outputs": [
    {
     "name": "stdout",
     "output_type": "stream",
     "text": [
      "156\n",
      "Good morning\n"
     ]
    }
   ],
   "source": [
    "class Dict2Obj:\n",
    "    def __init__(self, entries):\n",
    "        self.__dict__.update({str(k): v for k, v in entries.items()})\n",
    "\n",
    "\n",
    "converted = Dict2Obj({\"an_int\": 156, \"b_string\": \"Good morning\"})\n",
    "print(converted.an_int)\n",
    "print(converted.b_string)"
   ]
  },
  {
   "attachments": {},
   "cell_type": "markdown",
   "metadata": {},
   "source": [
    "## 6. Handling Error Message in Python\n"
   ]
  },
  {
   "attachments": {},
   "cell_type": "markdown",
   "metadata": {},
   "source": [
    "### 6.1 Handling Error with `try...except...finally`\n",
    "\n",
    "Numerical code could raise exception due to invalid input or ineffective algorithm that result in division by zero, overflow or wrong input for the math functions.\n",
    "\n",
    "-   1 / 0\n",
    "-   np.log(-3)\n",
    "\n",
    "Handling error could help us to capture more information when the error happens to help us to avoid the problem.\n"
   ]
  },
  {
   "attachments": {},
   "cell_type": "markdown",
   "metadata": {},
   "source": [
    "We can find the specific type of error by trying the wrong input first.\n",
    "\n",
    "Example:\n",
    "\n",
    "Try below expression in Python\n",
    "\n",
    "```{python}\n",
    "1 / 0\n",
    "```\n",
    "\n",
    "You will see below message\n",
    "\n",
    "```\n",
    "Traceback (most recent call last):\n",
    "    File \"<stdin>\", line 1, in <module>\n",
    "ZeroDivisionError: division by zero\n",
    "```\n",
    "\n",
    "Note that in Jupyter notebook, it has slightly more information.\n",
    "\n",
    "```\n",
    "---------------------------------------------------------------------------\n",
    "ZeroDivisionError                         Traceback (most recent call last)\n",
    "Cell In[120], line 1\n",
    "----> 1 1/0\n",
    "\n",
    "ZeroDivisionError: division by zero\n",
    "```\n",
    "\n",
    "And\n",
    "\n",
    "```{python}\n",
    "import numpy as np\n",
    "np.seterr(all='raise')\n",
    "np.log(-10)\n",
    "\n",
    "---------------------------------------------------------------------------\n",
    "FloatingPointError                        Traceback (most recent call last)\n",
    "      1 import numpy as np\n",
    "      2 np.seterr(all='raise')\n",
    "----> 3 np.log(-10)\n",
    "\n",
    "FloatingPointError: invalid value encountered in log\n",
    "```\n"
   ]
  },
  {
   "cell_type": "markdown",
   "metadata": {},
   "source": [
    "We can create a try...except to capture different errors in a section of code.\n",
    "\n",
    "```{python}\n",
    "try:\n",
    "    v1 = 1 / alpha\n",
    "    v2 = np.log(v1 * beta)\n",
    "except ZeroDivisionError as err:\n",
    "    print((f'ZeroDivisionError', alpha, beta, err))\n",
    "    raise\n",
    "except FloatingPointError as err:\n",
    "    print((f'FloatingPointError', alpha, beta, err))\n",
    "    raise\n",
    "```\n",
    "\n",
    "The Python exception is similar to the `try...catch` in C++ or Java.\n",
    "\n",
    "-   `raise` is for `throw` in C++ or Java.\n",
    "-   `Exception` is the base class for all exceptions.\n",
    "-   After `except`, we shall follow up with a specific type of error to catch. Add `as err` to save the error as variable `err`, so we can print it out.\n"
   ]
  },
  {
   "attachments": {},
   "cell_type": "markdown",
   "metadata": {},
   "source": [
    "### 6.2 Read and interpret error messages\n",
    "\n",
    "If an error happens in Python, interpreter would print out a trace to tell what went wrong.\n"
   ]
  },
  {
   "attachments": {},
   "cell_type": "markdown",
   "metadata": {},
   "source": [
    "    Traceback (most recent call last):\n",
    "      File \"c:\\dev\\process_material.py\", line 127, in <module>\n",
    "        res_collect.append(process.process_run(cob_date, now_dt, k, v))\n",
    "      File \"c:\\dev\\process\\process_run.py\", line 26, in process_run\n",
    "        err = eval(f\"{k['process_run']}(cob_date, now_dt, rniv_process, k, out_k)\")\n",
    "      File \"<string>\", line 1, in <module>\n",
    "      File \"c:\\dev\\process\\run_basis.py\", line 23, in run_basis\n",
    "        tenor_mapping, ac_info, ac_total = load_mkt(cob_date, **subdict(k, ['process_class', 'cache_dir']), **k['load_cfg'])\n",
    "      File \"c:\\dev\\process\\process_load.py\", line 25, in load_mkt\n",
    "        tenor_mapping = pd.read_pickle(os.path.join(cache_dir, f\"tenor_mapping.pkl{ext}\"), compression=compression)\n",
    "      File \"C:\\ProgramData\\workspace\\m\\mini3\\lib\\site-packages\\pandas\\io\\pickle.py\", line 170, in read_pickle\n",
    "        f, fh = get_handle(fp_or_buf, \"rb\", compression=compression, is_text=False)\n",
    "      File \"C:\\ProgramData\\workspace\\m\\mini3\\lib\\site-packages\\pandas\\io\\common.py\", line 384, in get_handle\n",
    "        f = gzip.open(path_or_buf, mode)\n",
    "      File \"C:\\ProgramData\\workspace\\m\\mini3\\lib\\gzip.py\", line 53, in open\n",
    "        binary_file = GzipFile(filename, gz_mode, compresslevel)\n",
    "      File \"C:\\ProgramData\\workspace\\m\\mini3\\lib\\gzip.py\", line 163, in __init__\n",
    "        filets = self.myfileobj = builtins.open(filename, mode or 'rb')\n",
    "    FileNotFoundError: [Errno 2] No such file or directory: 'cache\\\\tenor_mapping.pkl.gz'\n"
   ]
  },
  {
   "cell_type": "markdown",
   "metadata": {},
   "source": [
    "#### Understanding Python Tracebacks\n",
    "\n",
    "When a Python program encounters an error, it generates a traceback. Here's how to interpret it:\n",
    "\n",
    "1. **Hierarchy of Function Calls**: A program is a collection of functions, with outer functions calling inner ones.\n",
    "\n",
    "2. **Error Propagation**: If an error occurs, Python passes it up the calling hierarchy until it finds an error handler (a try...except block). If no handler is found, the error reaches the top level and a traceback is printed. Each line beginning with 'File' represents a level in the calling hierarchy, with deeper levels lower in the traceback.\n",
    "\n",
    "3. **Identifying User Code**: Divide the traceback into sections representing your code and system library code. The last line of your code is usually a good indicator. For example:\n",
    "\n",
    "```\n",
    "File \"c:\\dev\\process\\process_load.py\", line 25, in load_mkt\n",
    "    tenor_mapping = pd.read_pickle(os.path.join(cache_dir, f\"tenor_mapping.pkl{ext}\"), compression=compression)\n",
    "```\n",
    "\n",
    "4. **Reading the Error Message**: The final line of the traceback is the error message. For example:\n",
    "\n",
    "```\n",
    "FileNotFoundError: [Errno 2] No such file or directory: 'cache\\\\tenor_mapping.pkl.gz'\n",
    "```\n",
    "\n",
    "5. **Interpreting the Error**: Combine steps 3 and 4 to understand the error. In this case, 'When my code tries to read the tenor_mapping.pkl file, the system can't find it.'\n",
    "\n",
    "Remember, don't panic when you see a traceback. Read it line by line to understand what went wrong.\n"
   ]
  },
  {
   "cell_type": "markdown",
   "metadata": {},
   "source": [
    "### 6.3 Use Error/Exception for your good\n",
    "\n",
    "Exception helps to stop the program if we have unexpected input.\n",
    "\n",
    "I use these two often: NotImplementedError, ValueError\n",
    "\n",
    "1.  NotImplementedError\n",
    "\n",
    "        if type == 'call':\n",
    "            ...\n",
    "        elif type == 'put':\n",
    "            ...\n",
    "        else:\n",
    "            raise NotImplementedError(\n",
    "                f\"Options {type} other than call/put is not implemented yet.\")\n",
    "\n",
    "2.  ValueError: General error. Use this when you just want to quit the program with a message.\n",
    "\n",
    "        if rf < 0:\n",
    "            raise ValueError('interest rate shall not be less than zero.')\n"
   ]
  },
  {
   "cell_type": "markdown",
   "metadata": {},
   "source": [
    "### 6.4 Measure running time\n"
   ]
  },
  {
   "cell_type": "markdown",
   "metadata": {},
   "source": [
    "#### 6.4.1 In a code file\n"
   ]
  },
  {
   "cell_type": "code",
   "execution_count": 52,
   "metadata": {
    "execution": {
     "iopub.execute_input": "2024-02-27T13:11:21.164236Z",
     "iopub.status.busy": "2024-02-27T13:11:21.164236Z",
     "iopub.status.idle": "2024-02-27T13:11:21.168033Z",
     "shell.execute_reply": "2024-02-27T13:11:21.168033Z"
    }
   },
   "outputs": [
    {
     "name": "stderr",
     "output_type": "stream",
     "text": [
      "2024-02-27 21:11:21,166 - root - INFO - Elapsed process time 0.0\n"
     ]
    }
   ],
   "source": [
    "# time the program\n",
    "import logging\n",
    "import time\n",
    "\n",
    "if __name__ == \"__main__\":\n",
    "    logging.basicConfig(\n",
    "        level=logging.INFO,\n",
    "        format=\"%(asctime)s - %(name)s - %(levelname)s - %(message)s\",\n",
    "    )\n",
    "    start = time.process_time()\n",
    "    end = time.process_time()\n",
    "    logging.info(\"Elapsed process time {}\".format(end - start))"
   ]
  },
  {
   "cell_type": "markdown",
   "metadata": {},
   "source": [
    "#### 6.4.2 In Jupyter notebook\n"
   ]
  },
  {
   "cell_type": "code",
   "execution_count": 53,
   "metadata": {
    "execution": {
     "iopub.execute_input": "2024-02-27T13:11:21.171700Z",
     "iopub.status.busy": "2024-02-27T13:11:21.170695Z",
     "iopub.status.idle": "2024-02-27T13:11:21.176390Z",
     "shell.execute_reply": "2024-02-27T13:11:21.175876Z"
    }
   },
   "outputs": [
    {
     "name": "stdout",
     "output_type": "stream",
     "text": [
      "2x3=6\n",
      "2x3=6\n",
      "2x3=6\n",
      "2x3=6\n",
      "2x3=6\n",
      "2x3=6\n",
      "The slowest run took 16.57 times longer than the fastest. This could mean that an intermediate result is being cached.\n",
      "26.3 µs ± 23.4 µs per loop (mean ± std. dev. of 2 runs, 3 loops each)\n",
      "133 ns ± 33.3 ns per loop (mean ± std. dev. of 2 runs, 3 loops each)\n"
     ]
    }
   ],
   "source": [
    "# timeit in Jupyter Notebook\n",
    "# -r: how many times to repeat, -n how many times to execute\n",
    "# Below example is to show how many times it runs.\n",
    "# Usually we avoid using print() because it slows things down other than the calculation.\n",
    "\n",
    "%timeit -r2 -n3 print('2x3=6')\n",
    "\n",
    "# Faster without print()\n",
    "%timeit -r2 -n3 ('2x3=6')"
   ]
  },
  {
   "cell_type": "markdown",
   "metadata": {},
   "source": [
    "### 6.5 Use `logging` module to print out information.\n",
    "\n",
    "```{python}\n",
    "import logging\n",
    "logging.basicConfig(level=logging.INFO, format='%(asctime)-15s %(levelname)-8s %(message)s')\n",
    "logging.info(f'[function name] {variable} is good')\n",
    "```\n"
   ]
  },
  {
   "attachments": {},
   "cell_type": "markdown",
   "metadata": {},
   "source": [
    "### 6.6 Use `__name__` in file\n",
    "\n",
    "When we write code in .py file (not in Jupyter notebook), we shall use `if __name__ == '__main__'` to put our code to be run. This is like C++'s `int main()`.\n"
   ]
  },
  {
   "attachments": {},
   "cell_type": "markdown",
   "metadata": {},
   "source": [
    "```{python}\n",
    "import os\n",
    "import numpy as numpy\n",
    "import logging\n",
    "\n",
    "def a_func():\n",
    "    pass\n",
    "\n",
    "if __name__ == '__main__':\n",
    "    # Place the logging setting here.\n",
    "    logging.basicConfig(level=logging.INFO, format='%(asctime)-15s %(levelname)-8s %(message)s')\n",
    "\n",
    "    \"\"\"\n",
    "    Start to put your own lines\n",
    "    \"\"\"\n",
    "    logging.info(f'[function name] {variable} is good')\n",
    "```\n",
    "\n",
    "BAD example\n",
    "\n",
    "```\n",
    "import os\n",
    "import numpy as numpy\n",
    "\n",
    "def a_func():\n",
    "    pass\n",
    "\n",
    "\"\"\"\n",
    "Start to put your own lines\n",
    "\"\"\"\n",
    "print(\"\")\n",
    "```\n"
   ]
  },
  {
   "attachments": {},
   "cell_type": "markdown",
   "metadata": {},
   "source": [
    "### 6.7 Making a module\n",
    "\n",
    "As soon as you start writing multiple Python source files, you can import and reuse your functions between - but beware of cyclic dependency. For example, if our solver function resides in a module file `decay.py`, another program may reuse of the function either by\n",
    "\n",
    "In decay.py file\n",
    "\n",
    "    # decay.py\n",
    "    def solver(I, a, T, dt, theta):\n",
    "        pass\n",
    "\n",
    "In use_decay.py file\n",
    "\n",
    "    # use_decay.py\n",
    "    from decay import solver\n",
    "    u, t = solver(I=1, a=2, T=4, dt=0.2, theta=0.5)\n",
    "\n",
    "First, create a directory, a folder is a module. All .py files under a directory belongs to the module.\n",
    "\n",
    "Second, you shall not have \"floating code\", i.e. code block not in a function or class, except for variable definition.\n",
    "\n",
    "Third, use `if __name__ == __main__` for where the program shall start running. Those code would not get to run when code is imported as a module.\n",
    "\n",
    "Fourth, avoid cyclic dependency, In `a.py`, you have `import b` while in `b.py`, you have `import a`.\n",
    "\n",
    "Note:\n",
    "\n",
    "1. When you import a module in Jupyter notebook, if you have any changes, you need to restart the kernel to re-import the module.\n",
    "\n",
    "2. You could use the autoreload magic from IPython to reload the module automatically. Reference [](https://ipython.org/ipython-doc/3/config/extensions/autoreload.html)\n",
    "\n",
    "```{python}\n",
    "In [1]: %load_ext autoreload\n",
    "In [2]: %autoreload 2\n",
    "```\n"
   ]
  },
  {
   "attachments": {},
   "cell_type": "markdown",
   "metadata": {},
   "source": [
    "## 7. Assignment\n",
    "\n",
    "### Exercise 1: Find crossing points of two graphs\n",
    "\n",
    "Consider two functions $f(x)=x$ and $g(x)=x^2$ on the interval $[−4,4]$.\n",
    "\n",
    "Write a program that, by trial and error, finds approximately for which values of x the two functions cross, i.e., $f(x)=g(x)$. Do this by considering `N` equally distributed points on the interval, at each point checking whether $\\left |f(x)−g(x) \\right| \\lt \\epsilon$, where $\\epsilon$ is some small number. Let $N$ and $\\epsilon$ be user input to the function and let the result be printed to screen. Run your function run with $N=400$ and $\\epsilon=0.01$. Explain the output from the function. Finally, try also other values of $N$, keeping the value of $\\epsilon$ fixed. Explain your observations.\n",
    "\n",
    "### Exercise 2: Count occurrences of a string in a string\n",
    "\n",
    "In the analysis of genes one encounters many problem settings involving searching for certain combinations of letters in a long string. For example, we may have a string like\n",
    "\n",
    "    gene = 'AGTCAATGGAATAGGCCAAGCGAATATTTGGGCTACCA'\n",
    "\n",
    "We may traverse this string, letter by letter, by _for loop_ for letter in gene. Use below code as the template\n",
    "\n",
    "    for g in gene:\n",
    "        ...\n",
    "\n",
    "The length of the string is given by `len(gene)`, so an alternative traversal over an index `i` is `for i in range(len(gene))`. Letter number `i` is reached through `gene[i]`, and a substring from index i up to, but not including j, is created by `gene[i:j]`.\n",
    "\n",
    "a) create a class Gene like a str to store the list of gene, with below expected behavior.\n",
    "\n",
    "g = Gene('ATGC')\n",
    "print(g) # 'ATGC'\n",
    "len(g) # 4\n",
    "\n",
    "b) Write a function `freq(self, letter, text)` that returns the frequency of the letter letter in the string text, i.e., the number of occurrences of letter divided by the length of text. Call the function to determine the frequency of C and G in the gene string above. Compute the frequency by hand too.\n",
    "\n",
    "c) Write a function `pairs(self, letter, text)` that counts how many times a pair of the letter letter (e.g., GG) occurs within the string text. Use the function to determine how many times the pair AA appears in the string gene above. Perform a manual counting too to check the answer. Note but that pair shall not overlap each other, AAA doesn't give count of 2 but 1.\n",
    "\n",
    "d) Write a function `mystruct(self, text)` that counts the number of a certain structure in the string text. The structure is defined as G followed by A or T until a double GG (inclusive of GG). Perform a manual search for the structure too to control the computations by `mystruct`. The identified structure will not have overlapping, or embedding.\n"
   ]
  },
  {
   "cell_type": "markdown",
   "metadata": {},
   "source": [
    "##### Appendix: timestamp\n"
   ]
  },
  {
   "cell_type": "code",
   "execution_count": 54,
   "metadata": {
    "execution": {
     "iopub.execute_input": "2024-02-27T13:11:21.178395Z",
     "iopub.status.busy": "2024-02-27T13:11:21.178395Z",
     "iopub.status.idle": "2024-02-27T13:11:21.180633Z",
     "shell.execute_reply": "2024-02-27T13:11:21.180633Z"
    }
   },
   "outputs": [
    {
     "name": "stdout",
     "output_type": "stream",
     "text": [
      "Generated on 2024-02-27 21:11:21.178395\n"
     ]
    }
   ],
   "source": [
    "from datetime import datetime\n",
    "\n",
    "print(f\"Generated on {datetime.now()}\")"
   ]
  }
 ],
 "metadata": {
  "kernelspec": {
   "display_name": "cmk310",
   "language": "python",
   "name": "python3"
  },
  "language_info": {
   "codemirror_mode": {
    "name": "ipython",
    "version": 3
   },
   "file_extension": ".py",
   "mimetype": "text/x-python",
   "name": "python",
   "nbconvert_exporter": "python",
   "pygments_lexer": "ipython3",
   "version": "3.9.18"
  },
  "vscode": {
   "interpreter": {
    "hash": "ef3060a66f05e685ce670116a67026aba95afdffb2461d829b3351d07ec51c58"
   }
  }
 },
 "nbformat": 4,
 "nbformat_minor": 4
}
