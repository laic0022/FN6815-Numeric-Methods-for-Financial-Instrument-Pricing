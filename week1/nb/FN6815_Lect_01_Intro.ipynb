{
 "cells": [
  {
   "cell_type": "markdown",
   "metadata": {
    "slideshow": {
     "slide_type": "slide"
    }
   },
   "source": [
    "# FN6815 Numerical Methods for Financial Instrument Pricing\n",
    "\n",
    "# Lecture 1: Foundations of Numerical Computations\n",
    "\n",
    "-   Dr. Yang Ye\n",
    "-   Email: yy@runchee.com\n",
    "-   2023/2024 Mini Term 5\n"
   ]
  },
  {
   "attachments": {},
   "cell_type": "markdown",
   "metadata": {},
   "source": [
    "## 1. Introduction\n",
    "\n",
    "### 1.1 Objective\n",
    "\n",
    "As you advance into the 5th mini term of the MFE program, you've accumulated a wealth of knowledge in finance, mathematics, and programming. Our objective is to consistently apply and broaden this knowledge in real-world scenarios.\n",
    "\n",
    "The transition from theoretical understanding to practical application is seamlessly achieved through proficient implementations. Within the financial sector, the pricing of financial instruments is a critical component of these systems, requiring both precision and efficiency.\n"
   ]
  },
  {
   "attachments": {},
   "cell_type": "markdown",
   "metadata": {},
   "source": [
    "#### Computation is at the core of finance\n",
    "\n",
    "For financial institutions, pricing is at the core to calculate risk, profit and loss, settlement.\n",
    "\n",
    "The ability to compute fast and accurately is the competitive edge between different banks / institutions. Those can quickly calculate the price of a financial instrument and manage the risk will have a competitive edge over slower competitors.\n",
    "\n",
    "The Quants or \"Strats\" (abbr. for \"quantitative Strategist\") combines the quantitative, programming and system building experience are to drive the development and delivery of efficient pricing and risk management systems.\n",
    "\n",
    "For instance, a Quant might use advanced mathematical models and high-performance computing to develop a system that can quickly price a wide range of financial instruments, thereby helping the institution respond rapidly to market changes.\n"
   ]
  },
  {
   "cell_type": "markdown",
   "metadata": {},
   "source": [
    "#### Numerical methods\n",
    "\n",
    "Numerical methods are computational strategies employed to solve mathematical problems that are challenging or impossible to solve analytically (using straightforward mathematical operations). They provide an approximate solution but with a precision that can be controlled by the user.\n",
    "\n",
    "In the context of financial instrument pricing models, which frequently involve stochastic differential equations (SDEs) or partial differential equations (PDEs), numerical methods serve as the principal tools for solving these complex equations.\n",
    "\n",
    "For example, the Black-Scholes model for pricing an option involves a partial differential equation. While an analytical solution is available for certain types of options, numerical methods are often used when the model is modified to more accurately reflect the complexities of financial markets, such as early exercise features or stochastic volatility.\n"
   ]
  },
  {
   "cell_type": "markdown",
   "metadata": {},
   "source": [
    "#### Objectives\n",
    "\n",
    "Our goal is to merge two fundamental areas of knowledge:\n",
    "\n",
    "-   Mathematical modeling of derivative pricing, culminating in the implementation of the model. This process involves the selection of appropriate methods, understanding the complexity of the model, ensuring its accuracy, and managing potential errors.\n",
    "\n",
    "-   Programming skills, which range from structured programming, functional programming and Object-Oriented Programming (OOP) to data analysis. These skills are essential in creating efficient and maintainable code.\n",
    "\n",
    "The expected outcomes of this integration are:\n",
    "\n",
    "-   The ability to solve complex problems with high accuracy and performance. This could mean accurately pricing a complex derivative within a short time frame, which can be crucial in fast-paced financial markets.\n",
    "\n",
    "-   The development of a system that is scalable and adaptable, capable of addressing a variety of similar problems. For instance, a well-designed derivative pricing system could be easily extended to handle new types of derivatives or updated to use new pricing models.\n",
    "\n",
    "This provides an exceptional opportunity for you to hone your coding abilities and enhance your system design capabilities, thereby preparing you for the challenges of the dynamic world of finance.\n"
   ]
  },
  {
   "attachments": {},
   "cell_type": "markdown",
   "metadata": {
    "tags": []
   },
   "source": [
    "### 1.1 Tools\n",
    "\n",
    "We will be utilizing Python for this course due to several reasons:\n",
    "\n",
    "-   Pros\n",
    "\n",
    "    1. Python boasts a clean, readable syntax, which makes it an excellent choice for beginners and experienced programmers alike.\n",
    "\n",
    "    2. It is highly flexible, supporting various programming paradigms including structured programming, Object-Oriented Programming (OOP) and functional programming.\n",
    "\n",
    "    3. While Python itself may not be the fastest language, it compensates with a plethora of fast and well-designed libraries such as `NumPy`, `SciPy`, `Matplotlib`, etc. These libraries provide powerful tools for numerical computation, scientific computing, data visualization respectively.\n",
    "\n",
    "    4. Python offers a user-friendly development environment. Tools like Jupyter Notebook and Visual Studio Code make coding, testing, and debugging Python code a breeze.\n",
    "\n",
    "-   Cons\n",
    "\n",
    "    1. Python may not be the most performant language for certain applications, but it is excellent for prototyping and testing ideas quickly.\n",
    "\n",
    "    2. Python is dynamically typed, which means type errors can only be caught at runtime. However, this also provides flexibility in writing code.\n",
    "\n",
    "    3. To use Python effectively, especially its libraries, it's beneficial to understand the underlying implementation from the libraries that are open sourced. This isn't necessarily a disadvantage, as it encourages a deeper understanding of the tools you're using.\n",
    "\n",
    "![Python Libraries](img/01/numpy_packages.png)\n"
   ]
  },
  {
   "cell_type": "markdown",
   "metadata": {},
   "source": [
    "### 1.2 Teaching Approach\n",
    "\n",
    "1. We will be using Jupyter notebooks, which combine documentation and runnable code in an interactive environment.\n",
    "\n",
    "2. I will use Jupyter notebooks to present the material, and you will use them to follow along and experiment.\n",
    "\n",
    "3. You will also be expected to complete your assignments in Jupyter notebooks.\n",
    "\n",
    "Please feel free to run, copy and paste the code snippets to experiment with them and understand how they work!\n",
    "\n",
    "![](img/01/copy_larry.png)\n",
    "\n",
    "Image: Larry Lester, father of Copy&Paste. RIP Feb 16th, 2020.\n"
   ]
  },
  {
   "attachments": {},
   "cell_type": "markdown",
   "metadata": {},
   "source": [
    "### 1.3 Assessment\n",
    "\n",
    "#### Components\n",
    "\n",
    "The course assessment will consist of the following components:\n",
    "\n",
    "-   6 weekly assignments: These assignments will be based on the topics covered during the week. The list of questions for each assignment will be provided after the respective lecture.\n",
    "\n",
    "-   One mid-term exercise: This will be a short, 20-30 minute in-class exercise conducted during either on Week 4 or 5. The format of this exercise will be similar to that of the final exam, providing you with a useful preview of what to expect.\n",
    "\n",
    "-   Final exam: The final exam will be an open-book format, with online submission of answers. The test format and requirement will be similar to my FN6806 OOP II.\n",
    "\n",
    "Specifically, the use of generative AI tools or search engines like Google to directly search for answers is not permitted. This is to ensure that the exam assesses your understanding and application of the course material, rather than your ability to find answers online.\n",
    "\n",
    "### Submission\n",
    "\n",
    "Here are the guidelines for organizing and submitting your assignments:\n",
    "\n",
    "-   Organization:\n",
    "\n",
    "    -   Create a directory and name it as \"FN6815-Your Name\".\n",
    "    -   Organize your assignments into separate directories within this main directory, named as A1, A2, ..., A6.\n",
    "    -   Write your solution code and explanation in a Jupyter notebook for each assignment.\n",
    "\n",
    "-   Submission by sharing:\n",
    "    -   Share the main directory with *yy@runchee.com* on Google Drive.\n",
    "    -   You only need to set up the sharing once. Subsequent assignments can be added to the respective directories in the shared folder.\n",
    "    -   The deadline for each assignment is 6pm every Wed of the following week.\n"
   ]
  },
  {
   "attachments": {},
   "cell_type": "markdown",
   "metadata": {
    "slideshow": {
     "slide_type": "slide"
    }
   },
   "source": [
    "### 1.4 Topics\n",
    "\n",
    "he course is divided into two main parts.\n",
    "\n",
    "-   Part 1:\n",
    "    -   Foundations of Numerical Computations\n",
    "    -   Python programming\n",
    "    -   NumPy programming\n",
    "    -   Solving Linear and Nonlinear Equations\n",
    "    -   Numerical Differentiation and Integration\n",
    "-   Part 2:\n",
    "    -   Solving ODE\n",
    "    -   Pricing with Numerical integration\n",
    "    -   Pricing with Monte Carlo simulation\n",
    "    -   Pricing with Finite Difference method\n"
   ]
  },
  {
   "cell_type": "markdown",
   "metadata": {},
   "source": [
    "## 2. Foundations\n"
   ]
  },
  {
   "attachments": {},
   "cell_type": "markdown",
   "metadata": {},
   "source": [
    "#### What does numerical algorithm do?\n",
    "\n",
    "-   A numerical algorithm is designed to solve mathematical problems and provide numerical results.\n",
    "-   The primary goal of these algorithms is to deliver solutions both accurately and quickly.\n",
    "\n",
    "#### Can everything be computed?\n",
    "\n",
    "The \"computing revolution\" over the past 30-40 years has shown that the scope of what can be computed continues to expand with the advent of more powerful computers and smarter algorithms.\n",
    "\n",
    "-   The evolution of computers: from human calculators, to mechanical and electronic devices, and now to advanced semiconductor-based systems. You can learn more about this evolution from the following resources:\n",
    "\n",
    "    -   [Human Computers](<https://en.wikipedia.org/wiki/Computer_(occupation)>)\n",
    "    -   [Difference Engine](https://en.wikipedia.org/wiki/Difference_engine)\n",
    "    -   [ENIAC](https://en.wikipedia.org/wiki/ENIAC)\n",
    "\n",
    "-   The development of smarter theorems and algorithms.\n",
    "\n",
    "The frontier of what can be computed has been pushed forward in several areas:\n",
    "\n",
    "-   **Precision problems**, such as calculating the values of Pi and e. The required precision depends on the application. For instance, finance might be satisfied with a precision of 1e-08, but space exploration would require much higher precision.\n",
    "-   \\*\\*Result-sensitive problems, such as predicting stock prices or weather. These predictions are only valid for a short period and need to be constantly updated. However, the data used for these predictions is often incomplete.\n",
    "-   **Efficiency problems**, such as training large models like AlphaGo or GPT. These models have billions of parameters and require significant computational resources.\n",
    "-   **Compute-hard problems**, such as cracking passwords. These problems can theoretically be solved by a computer but would take an impractically long time. This property is actually useful in cryptography, where we rely on the difficulty of these problems to secure our data.\n",
    "\n",
    "### Numerical problems in Pricing\n",
    "\n",
    "-   Financial pricing presents a combination of precision, result-sensitive, and efficiency problems. The task involves translating mathematical models with a small number of parameters into practical computations.\n",
    "\n",
    "-   The challenging part is often dealing with stochastic inputs. More sophisticated models tend to have more stochastic inputs, which means they are more computationally intensive due to the increased number of possibilities.\n",
    "\n",
    "-   Additionally, these models require more effort to update or \"calibrate\" their parameters.\n"
   ]
  },
  {
   "attachments": {},
   "cell_type": "markdown",
   "metadata": {},
   "source": [
    "### 2.1 What do numerical methods require?\n",
    "\n",
    "When we employ numerical methods with computers, there are certain assumptions and approximations at play, even if we may not be explicitly aware of them.\n",
    "\n",
    "1. Assumptions:\n",
    "\n",
    "-   The general ones:\n",
    "\n",
    "    -   Equations are **solvable** within the supported number range. In the context of quantitative finance, this typically means having roots within the real number range.\n",
    "    -   There is **convergence** in our results. In other words, we expect the results to converge to an acceptable range with a narrow standard deviation.\n",
    "\n",
    "-   There are also problem-specific assumptions that need to be considered.\n",
    "\n",
    "2. Approximations:\n",
    "\n",
    "-   The general ones:\n",
    "\n",
    "    -   **Rounding errors** occur due to the inherent limitation of computers in representing real numbers exactly. This is a result of the finite precision of the computer's numerical representation.\n",
    "\n",
    "    -   **Truncation errors** arise from the simplification of the mathematical model. Examples include truncating an infinite series, replacing a derivative with a finite difference, or discretizing a continuous variable.\n",
    "\n",
    "-   There are also problem-specific approximations that need to be considered.\n"
   ]
  },
  {
   "cell_type": "markdown",
   "metadata": {},
   "source": [
    "<div class=\"alert alert-block alert-success\">Question: What are examples for approximation?</div>\n",
    "\n",
    "1. `sqrt(2)`\n",
    "2. Harmonic series `1 + 1/2 + 1/3 + ... + 1/n`\n"
   ]
  },
  {
   "attachments": {},
   "cell_type": "markdown",
   "metadata": {},
   "source": [
    "### 2.2 Approximation: Understanding Computational Limits\n",
    "\n",
    "Our code executes on digital semiconductor chips. Despite their widespread use and capabilities, these chips have inherent limitations.\n",
    "\n",
    "A key limitation is the representation of floating-point numbers. Due to memory constraints, only a finite number of digits can be stored after the decimal point.\n"
   ]
  },
  {
   "cell_type": "markdown",
   "metadata": {},
   "source": [
    "-   `e` is the largest number that makes `x + e = x` for all `x` of floating point numbers.\n",
    "-   `mach_e` is the gap between the number 1 and the next largest floating point number. Any number lower than it will be round-off.\n"
   ]
  },
  {
   "cell_type": "code",
   "execution_count": 2,
   "metadata": {
    "execution": {
     "iopub.execute_input": "2024-02-27T13:11:09.160841Z",
     "iopub.status.busy": "2024-02-27T13:11:09.160841Z",
     "iopub.status.idle": "2024-02-27T13:11:09.247142Z",
     "shell.execute_reply": "2024-02-27T13:11:09.247142Z"
    }
   },
   "outputs": [
    {
     "data": {
      "text/plain": [
       "(2.220446049250313e-16, 2.220446049250313e-16)"
      ]
     },
     "execution_count": 2,
     "metadata": {},
     "output_type": "execute_result"
    }
   ],
   "source": [
    "import numpy as np\n",
    "\n",
    "# for mach_e\n",
    "(np.finfo(np.float64).eps, np.finfo(float).eps)"
   ]
  },
  {
   "cell_type": "code",
   "execution_count": 5,
   "metadata": {},
   "outputs": [
    {
     "data": {
      "text/plain": [
       "True"
      ]
     },
     "execution_count": 5,
     "metadata": {},
     "output_type": "execute_result"
    }
   ],
   "source": [
    "1+2.220446049250313e-16/2 == 1"
   ]
  },
  {
   "cell_type": "code",
   "execution_count": 6,
   "metadata": {
    "execution": {
     "iopub.execute_input": "2024-02-27T13:11:09.274806Z",
     "iopub.status.busy": "2024-02-27T13:11:09.274806Z",
     "iopub.status.idle": "2024-02-27T13:11:09.296616Z",
     "shell.execute_reply": "2024-02-27T13:11:09.296616Z"
    }
   },
   "outputs": [
    {
     "name": "stdout",
     "output_type": "stream",
     "text": [
      "e: 1.1102230246251565e-16\n",
      "mach_e: 2.220446049250313e-16\n",
      "('((100 + e) + e) + e == 100', True)\n",
      "('(1 + (e + e)) > 1', True)\n"
     ]
    }
   ],
   "source": [
    "e = 1\n",
    "while 1 + e > 1:\n",
    "    e = e / 2\n",
    "\n",
    "# e is the largest number that make 1+e ~= 1\n",
    "print(\"e:\", e)\n",
    "\n",
    "# mach_e is the smallest number that make 1+mach_e > 1.\n",
    "# mach_e = e*2 because all number is binary number in compute.as_integer_ratio\n",
    "mach_e = 2 * e\n",
    "print(\"mach_e:\", mach_e)\n",
    "\n",
    "# Behavior with e\n",
    "# Add single e won't change the value\n",
    "print((\"((100 + e) + e) + e == 100\", ((100 + e) + e) + e == 100))\n",
    "# Add double e will change the value\n",
    "print((\"(1 + (e + e)) > 1\", (1 + (e + e)) > 1))"
   ]
  },
  {
   "cell_type": "markdown",
   "metadata": {},
   "source": [
    "#### What does this tiny number (e) affect us?\n",
    "\n",
    "The sum of the series $\\frac{1}{n}$ from $n=1$ to $\\infty$ is divergent, meaning it tends towards infinity.\n",
    "\n",
    "$$\n",
    "\\sum_{n=1}^{\\infty} \\frac {1} {n} = \\infty\n",
    "$$\n",
    "\n",
    "This can be approximated by the integral of $\\frac{1}{x}$ from 1 to $n$, which equals $\\log n$.\n",
    "\n",
    "$$\n",
    "\\sum_{n=1}^n \\frac{1}{n} \\approx \\int_{1}^n \\frac{dx}{x} = \\log n\n",
    "$$\n",
    "\n",
    "We can code this formula, but the computation is slow and never reaches even 100. This serves as a counter-intuitive example to the notion that \"more time yields better results\".\n",
    "\n",
    "In below code, `harmonic_series(n)` computes the sum of the series, while `log_approximation(n)` computes the logarithmic approximation. Despite increasing `n`, the harmonic series never reaches even `100`.\n"
   ]
  },
  {
   "cell_type": "code",
   "execution_count": 9,
   "metadata": {
    "execution": {
     "iopub.execute_input": "2024-02-27T13:11:09.299690Z",
     "iopub.status.busy": "2024-02-27T13:11:09.298684Z",
     "iopub.status.idle": "2024-02-27T13:11:09.684058Z",
     "shell.execute_reply": "2024-02-27T13:11:09.684058Z"
    }
   },
   "outputs": [
    {
     "name": "stdout",
     "output_type": "stream",
     "text": [
      "16.69531126585727 16.11809565095832\n"
     ]
    }
   ],
   "source": [
    "import math\n",
    "\n",
    "\n",
    "def harmonic_series(n):\n",
    "    # use list comprehension - we will cover later.\n",
    "    # return sum(1.0/i for i in range(1, n+1))\n",
    "\n",
    "    # use for loop\n",
    "    ss = 0\n",
    "    for i in range(1, n):\n",
    "        ss += 1 / i\n",
    "    return ss\n",
    "\n",
    "\n",
    "def log_approximation(n):\n",
    "    return math.log(n)\n",
    "\n",
    "\n",
    "print(harmonic_series(int(1e7)), log_approximation(int(1e7)))"
   ]
  },
  {
   "cell_type": "markdown",
   "metadata": {},
   "source": [
    "We can calculate the maximum value of the harmonic series that we can reach by computation using the machine epsilon.\n"
   ]
  },
  {
   "cell_type": "code",
   "execution_count": 4,
   "metadata": {
    "execution": {
     "iopub.execute_input": "2024-02-27T13:11:09.686568Z",
     "iopub.status.busy": "2024-02-27T13:11:09.686568Z",
     "iopub.status.idle": "2024-02-27T13:11:09.691087Z",
     "shell.execute_reply": "2024-02-27T13:11:09.691087Z"
    }
   },
   "outputs": [
    {
     "name": "stdout",
     "output_type": "stream",
     "text": [
      "limit: 4503599627370496.0\n",
      "sum: 36.04365338911715\n"
     ]
    }
   ],
   "source": [
    "import numpy as np\n",
    "\n",
    "mach_e = np.finfo(np.float64).eps\n",
    "# When we reach the 1 / mach_e, 1 / (1 / mach_e) ~ mach_e has no impact to the sum.\n",
    "# this number is\n",
    "limit = 1 / mach_e\n",
    "print(f\"limit: {limit}\")\n",
    "\n",
    "# the limit to the limit is\n",
    "sum_limit = np.log(int(1 / mach_e))\n",
    "print(f\"sum: {sum_limit}\")"
   ]
  },
  {
   "cell_type": "markdown",
   "metadata": {},
   "source": [
    "In summary, we shall be aware of the inherent limitations of the computer's numerical representation.\n",
    "\n",
    "-   We shall be aware of the any calculation that may involve very large or very small numbers, as they cause **rounding errors**.\n",
    "-   We shall be also aware of **truncation error** that we use finite for the infinite, or discretize the continuous variable.\n"
   ]
  },
  {
   "attachments": {},
   "cell_type": "markdown",
   "metadata": {},
   "source": [
    "### 2.3 Stability and Convergence\n",
    "\n",
    "Effective numerical algorithms should meet the following criteria:\n",
    "\n",
    "-   Stability: They should handle diverse inputs consistently.\n",
    "-   Convergence: The solution shall reach a better result with more efforts (e.g. more iterations). And we should reach a solution with required precision in a reasonable number of iterations.\n",
    "\n",
    "For instance,\n",
    "\n",
    "-   an unstable iterative algorithm might produce increasingly large numbers, eventually approaching infinity.\n",
    "-   If an algorithm assumes all inputs are positive integers, it may yield incorrect results for negative or decimal inputs.\n",
    "-   Conversely, a stable algorithm will converge to a finite solution with minimal variation upon further iterations. These three characteristics—convergence, finiteness, and minimal variation—are hallmarks of a robust algorithm.\n",
    "\n",
    "<img src=\"img/01/melted_pc.jpg\" width=\"300\">\n"
   ]
  },
  {
   "attachments": {},
   "cell_type": "markdown",
   "metadata": {},
   "source": [
    "#### 2.3.1 Numerical Instability\n",
    "\n",
    "Despite the logic flow of an algorithm can cause instability, there is an inherent instability with how computer handles the numbers.\n",
    "\n",
    "Numerical stability refers to the accuracy of an algorithm can damp out the small fluctuations (errors) in the input data, not magnifying it.\n",
    "\n",
    "Following two situations are common\n",
    "\n",
    "-   Errors are amplified by the algorithm\n",
    "-   Small perturbations of data generate large changes in the solution $\\rightarrow$ ill conditioned problem\n",
    "\n",
    "Numerical stability is crucial in algorithm design. It refers to an algorithm's ability to suppress small fluctuations (errors) in the input data, rather than amplifying them.\n",
    "\n",
    "Two common scenarios that can compromise numerical stability are:\n",
    "\n",
    "-   The algorithm amplifies errors.\n",
    "-   Small perturbations in data cause large changes in the solution, indicating an ill-conditioned problem.\n",
    "\n",
    "For instance, consider the subtraction of two nearly equal numbers in Python:\n",
    "\n",
    "This operation is unstable due to the loss of significant digits, leading to a larger error in the result.\n"
   ]
  },
  {
   "cell_type": "code",
   "execution_count": 5,
   "metadata": {
    "execution": {
     "iopub.execute_input": "2024-02-27T13:11:09.694094Z",
     "iopub.status.busy": "2024-02-27T13:11:09.694094Z",
     "iopub.status.idle": "2024-02-27T13:11:09.697898Z",
     "shell.execute_reply": "2024-02-27T13:11:09.697898Z"
    }
   },
   "outputs": [
    {
     "data": {
      "text/plain": [
       "True"
      ]
     },
     "execution_count": 5,
     "metadata": {},
     "output_type": "execute_result"
    }
   ],
   "source": [
    "a = 1.0\n",
    "b = 1.0 + 1e-10\n",
    "b - a > 1e-10"
   ]
  },
  {
   "attachments": {},
   "cell_type": "markdown",
   "metadata": {},
   "source": [
    "##### Example: Numerically instability\n"
   ]
  },
  {
   "cell_type": "markdown",
   "metadata": {},
   "source": [
    "`f()` and `g()` are equivalent mathematically, but might not numerically.\n"
   ]
  },
  {
   "cell_type": "markdown",
   "metadata": {},
   "source": [
    "$$ f = { {\\sin{x} ^ 2} \\over {x ^ 2} } $$\n",
    "$$ g = { {1 - \\cos{x} ^ 2} \\over {x ^ 2} } $$\n"
   ]
  },
  {
   "cell_type": "code",
   "execution_count": 10,
   "metadata": {
    "execution": {
     "iopub.execute_input": "2024-02-27T13:11:09.700597Z",
     "iopub.status.busy": "2024-02-27T13:11:09.700597Z",
     "iopub.status.idle": "2024-02-27T13:11:09.703997Z",
     "shell.execute_reply": "2024-02-27T13:11:09.703997Z"
    }
   },
   "outputs": [
    {
     "name": "stdout",
     "output_type": "stream",
     "text": [
      "(0.99999999875, 4.999999997916667e-05, 1.0)\n"
     ]
    }
   ],
   "source": [
    "import math\n",
    "\n",
    "print((math.cos(5e-5), math.sin(5e-5), math.cos(5e-5) ** 2 + math.sin(5e-5) ** 2))"
   ]
  },
  {
   "attachments": {},
   "cell_type": "markdown",
   "metadata": {},
   "source": [
    "If we have accidentally round one-side\n"
   ]
  },
  {
   "cell_type": "code",
   "execution_count": 11,
   "metadata": {
    "execution": {
     "iopub.execute_input": "2024-02-27T13:11:09.707357Z",
     "iopub.status.busy": "2024-02-27T13:11:09.706347Z",
     "iopub.status.idle": "2024-02-27T13:11:09.711814Z",
     "shell.execute_reply": "2024-02-27T13:11:09.711814Z"
    },
    "tags": []
   },
   "outputs": [
    {
     "name": "stdout",
     "output_type": "stream",
     "text": [
      "a=2.499979166736832e-05, b=2.5e-05\n",
      "(0.9999916666944443, 0.9999916666947328)\n",
      "a=2.4999999848063226e-09, b=2.5e-09\n",
      "(0.9999999991666668, 0.999999993922529)\n",
      "a=1.000000082740371e-10, b=1.0000000000000002e-10\n",
      "(0.9999999999666666, 1.0000000827403708)\n"
     ]
    }
   ],
   "source": [
    "import math\n",
    "\n",
    "\n",
    "def f(x: float) -> float:\n",
    "    return math.sin(x) ** 2 / x**2\n",
    "\n",
    "\n",
    "def g2(x: float) -> float:\n",
    "    a, b = (1 - math.cos(x) ** 2), x**2\n",
    "    print(f\"{a=}, {b=}\")\n",
    "    return a / b\n",
    "\n",
    "\n",
    "# almost the same\n",
    "print((f(5e-3), g2(5e-3)))\n",
    "# g2 > f2\n",
    "print((f(5e-5), g2(5e-5)))\n",
    "# g2 > 1 > f2\n",
    "print((f(1e-5), g2(1e-5)))"
   ]
  },
  {
   "attachments": {},
   "cell_type": "markdown",
   "metadata": {},
   "source": [
    "<div class=\"alert alert-block alert-success\">\n",
    "\n",
    "This is called cancellation error. Cancellation occurs when we subtract two numbers that are almost equal. The result is a loss of significant digits, leading to a larger error in the result.\n",
    "\n",
    "</div>\n"
   ]
  },
  {
   "attachments": {},
   "cell_type": "markdown",
   "metadata": {},
   "source": [
    "#### 2.3.2 Ill Condition Problem\n",
    "\n",
    "For a small change in the inputs (the independent variables or the right-hand-side of an equation), there is a large change in the answer or dependent variable. This means that the correct solution/answer to the equation becomes hard to find.\n",
    "\n",
    "$$\n",
    "Ax = b\n",
    "$$\n"
   ]
  },
  {
   "cell_type": "code",
   "execution_count": 12,
   "metadata": {
    "execution": {
     "iopub.execute_input": "2024-02-27T13:11:09.714383Z",
     "iopub.status.busy": "2024-02-27T13:11:09.714383Z",
     "iopub.status.idle": "2024-02-27T13:11:09.719714Z",
     "shell.execute_reply": "2024-02-27T13:11:09.719714Z"
    },
    "tags": []
   },
   "outputs": [
    {
     "name": "stdout",
     "output_type": "stream",
     "text": [
      "Solution of Ax = b: [ 1. -1.]\n",
      "Solution of (A+err)x = b: [-5.          7.30851064]\n"
     ]
    }
   ],
   "source": [
    "import numpy as np\n",
    "\n",
    "A = np.array([[0.780, 0.5630], [0.913, 0.659]])\n",
    "b = np.array([0.217, 0.254])\n",
    "\n",
    "solve_a_b = np.linalg.solve(A, b)\n",
    "print(f\"Solution of Ax = b: {solve_a_b}\")\n",
    "\n",
    "# Different result with small addition of E\n",
    "err = np.array([[0.001, 0.001], [-0.002, -0.001]])\n",
    "solve_Aerr_b = np.linalg.solve(A + err, b)\n",
    "print(f\"Solution of (A+err)x = b: {solve_Aerr_b}\")"
   ]
  },
  {
   "attachments": {},
   "cell_type": "markdown",
   "metadata": {},
   "source": [
    "#### Explanation\n",
    "\n",
    "The stability of a linear solver, which requires matrix inversion, can be compromised by precision loss during arithmetic operations. This is quantified by the \"condition number\" of a matrix:\n",
    "\n",
    "$$\\kappa(A) = \\left \\| A^{-1} \\right \\| \\left \\| A \\right \\|$$\n",
    "\n",
    "The condition number $cond(A)$ helps identify ill-conditioned matrices:\n",
    "\n",
    "-   If $cond(A) \\approx 1$, the matrix is well-conditioned.\n",
    "-   If $cond(A) > 1$, the matrix is ill-conditioned.\n",
    "    Approximately log10(k) digits are lost when solving a linear system with a condition number k.\n",
    "\n",
    "Approximately $\\log_{10} k$ digits are lost when solving a linear system with a condition number k.\n",
    "\n",
    "https://math.stackexchange.com/questions/2392992/matrix-condition-number-and-loss-of-accuracy\n"
   ]
  },
  {
   "cell_type": "code",
   "execution_count": 9,
   "metadata": {
    "execution": {
     "iopub.execute_input": "2024-02-27T13:11:09.722231Z",
     "iopub.status.busy": "2024-02-27T13:11:09.722231Z",
     "iopub.status.idle": "2024-02-27T13:11:09.726243Z",
     "shell.execute_reply": "2024-02-27T13:11:09.726243Z"
    }
   },
   "outputs": [
    {
     "name": "stdout",
     "output_type": "stream",
     "text": [
      "eps: 2.220446049250313e-16\n",
      "max condition: 67108864.0\n"
     ]
    }
   ],
   "source": [
    "# Machine accuracy limit\n",
    "eps = np.finfo(float).eps\n",
    "print(\"eps:\", eps)\n",
    "\n",
    "# When we multiple two float number, the accuracy for each number is up to sqrt(eps) to reach result at accuracy of eps.\n",
    "print(\"max condition:\", 1 / np.sqrt(eps))"
   ]
  },
  {
   "cell_type": "code",
   "execution_count": 10,
   "metadata": {
    "execution": {
     "iopub.execute_input": "2024-02-27T13:11:09.728495Z",
     "iopub.status.busy": "2024-02-27T13:11:09.728495Z",
     "iopub.status.idle": "2024-02-27T13:11:09.732639Z",
     "shell.execute_reply": "2024-02-27T13:11:09.732639Z"
    },
    "tags": []
   },
   "outputs": [
    {
     "name": "stdout",
     "output_type": "stream",
     "text": [
      "2193218.99965077 6\n"
     ]
    }
   ],
   "source": [
    "cond_A = np.linalg.cond(A)\n",
    "print(cond_A, int(np.log10(cond_A)))"
   ]
  },
  {
   "attachments": {},
   "cell_type": "markdown",
   "metadata": {},
   "source": [
    "A matrix is nearly singular (its determinant is close to zero) if its condition number is very large. Such a matrix is not invertible, and computations involving its inverse or the solution of a related system of linear equations are susceptible to significant numerical errors.\n"
   ]
  },
  {
   "cell_type": "code",
   "execution_count": 11,
   "metadata": {
    "execution": {
     "iopub.execute_input": "2024-02-27T13:11:09.736275Z",
     "iopub.status.busy": "2024-02-27T13:11:09.734768Z",
     "iopub.status.idle": "2024-02-27T13:11:09.740414Z",
     "shell.execute_reply": "2024-02-27T13:11:09.739896Z"
    }
   },
   "outputs": [
    {
     "data": {
      "text/plain": [
       "(1.000000000122681e-06, 999999.9998539208)"
      ]
     },
     "execution_count": 11,
     "metadata": {},
     "output_type": "execute_result"
    }
   ],
   "source": [
    "np.linalg.det(A), np.linalg.det(np.linalg.inv(A))"
   ]
  },
  {
   "cell_type": "markdown",
   "metadata": {},
   "source": [
    "Another example of ill-conditioned problem\n"
   ]
  },
  {
   "cell_type": "code",
   "execution_count": 12,
   "metadata": {
    "execution": {
     "iopub.execute_input": "2024-02-27T13:11:09.742930Z",
     "iopub.status.busy": "2024-02-27T13:11:09.742930Z",
     "iopub.status.idle": "2024-02-27T13:11:09.747445Z",
     "shell.execute_reply": "2024-02-27T13:11:09.747445Z"
    }
   },
   "outputs": [
    {
     "name": "stdout",
     "output_type": "stream",
     "text": [
      "[1. 1.]\n",
      "[-8. 10.]\n"
     ]
    }
   ],
   "source": [
    "import numpy as np\n",
    "\n",
    "A = np.array([[1.0, 1.0], [1.0, 1.0001]])\n",
    "b = np.array([2.0, 2.0001])\n",
    "\n",
    "x = np.linalg.solve(A, b)\n",
    "print(x)  # Small changes in 'b' can lead to large changes in 'x'\n",
    "\n",
    "b = np.array([2.0, 2.001])\n",
    "\n",
    "x = np.linalg.solve(A, b)\n",
    "print(x)"
   ]
  },
  {
   "attachments": {},
   "cell_type": "markdown",
   "metadata": {},
   "source": [
    "#### 2.3.3 (Optional) Chaos\n",
    "\n",
    "Chaos refers to systems that, while governed by deterministic laws, exhibit apparent randomness due to high sensitivity to initial conditions. This makes future states difficult to predict, resulting in _neither stability nor convergence_.\n",
    "\n",
    "Examples include:\n",
    "\n",
    "-   N-body problem: Predicting the individual motions of a group of celestial objects interacting with each other gravitationally is notoriously difficult due to the system's chaotic nature.\n",
    "\n",
    "-   Lorenz attractor: This set of differential equations is known for its chaotic solutions, which exhibit sensitive dependence on initial conditions.\n",
    "\n",
    "Ref to https://matplotlib.org/3.1.0/gallery/mplot3d/lorenz_attractor.html\n",
    "\n",
    "![chaos: lorenz.png](./img/01/lorenz.png)\n"
   ]
  },
  {
   "cell_type": "markdown",
   "metadata": {},
   "source": [
    "In this code, `lorenz(state, t)` defines the Lorenz system. The function `odeint` from `scipy.integrate` is used to solve this system over the time array `t`, starting from the initial state state0. The resulting states array holds the solution at each time point, demonstrating the system's chaotic behavior.\n"
   ]
  },
  {
   "cell_type": "code",
   "execution_count": 16,
   "metadata": {
    "execution": {
     "iopub.execute_input": "2024-02-27T13:11:09.749959Z",
     "iopub.status.busy": "2024-02-27T13:11:09.749959Z",
     "iopub.status.idle": "2024-02-27T13:11:10.439877Z",
     "shell.execute_reply": "2024-02-27T13:11:10.439877Z"
    }
   },
   "outputs": [
    {
     "data": {
      "text/plain": [
       "<Figure size 640x480 with 0 Axes>"
      ]
     },
     "metadata": {},
     "output_type": "display_data"
    },
    {
     "data": {
      "image/png": "[encoded data removed]",
      "text/plain": [
       "<Figure size 640x480 with 1 Axes>"
      ]
     },
     "metadata": {},
     "output_type": "display_data"
    }
   ],
   "source": [
    "import matplotlib.pyplot as plt\n",
    "import numpy as np\n",
    "from scipy.integrate import odeint\n",
    "\n",
    "\n",
    "def lorenz(state, t):\n",
    "    x, y, z = state  # Unpack the state vector\n",
    "    sigma, beta, rho = 10, 2.667, 28  # Lorenz system parameters\n",
    "    return sigma * (y - x), x * (rho - z) - y, x * y - beta * z  # Derivatives\n",
    "\n",
    "\n",
    "state0 = [1.0, 1.0, 1.0]\n",
    "t = np.arange(0.0, 40.0, 0.01)\n",
    "\n",
    "states = odeint(lorenz, state0, t)\n",
    "\n",
    "# states now holds the solution to the Lorenz system for each time in 't'\n",
    "fig = plt.figure()\n",
    "ax = plt.figure().add_subplot(projection=\"3d\")\n",
    "ax.plot(states[:, 0], states[:, 1], states[:, 2])\n",
    "plt.show()"
   ]
  },
  {
   "attachments": {},
   "cell_type": "markdown",
   "metadata": {},
   "source": [
    "### 2.4 Summary: What makes a good numeric solution\n",
    "\n",
    "1. Method:\n",
    "    - It's grounded in mathematical or statistical principles.\n",
    "    - It's stable, i.e., not significantly affected by small input deviations.\n",
    "    - It's convergent, i.e., it reaches a solution within a reasonable time and resource usage.\n",
    "2. Implementation\n",
    "    - The program is designed to correctly feed inputs to the core algorithm.\n",
    "    - The code is stable (e.g., loops are finite).\n",
    "    - There are no coding errors in the core algorithm.\n",
    "    - It runs on robust hardware with ample memory, potentially leveraging parallel processing.\n",
    "3. Test and analysis\n",
    "    - The solution's precision and limitations are thoroughly understood through rigorous testing and analysis.\n"
   ]
  },
  {
   "cell_type": "markdown",
   "metadata": {},
   "source": [
    "### 3. Assignment\n",
    "\n",
    "To check wether a number is a prime number? Do you think below algorithm is stable and convergent? Please explain why.\n",
    "Update the code to speed it up.\n"
   ]
  },
  {
   "cell_type": "code",
   "execution_count": 1,
   "metadata": {
    "execution": {
     "iopub.execute_input": "2024-02-27T13:11:10.442744Z",
     "iopub.status.busy": "2024-02-27T13:11:10.442744Z",
     "iopub.status.idle": "2024-02-27T13:11:10.445995Z",
     "shell.execute_reply": "2024-02-27T13:11:10.445995Z"
    }
   },
   "outputs": [],
   "source": [
    "# Example prime number code in Python\n",
    "def is_prime(I):\n",
    "    if I % 2 == 0:\n",
    "        return False\n",
    "    for i in range(3, int(I**0.5) + 1, 2):\n",
    "        if I % i == 0:\n",
    "            return False\n",
    "    return True"
   ]
  },
  {
   "cell_type": "markdown",
   "metadata": {},
   "source": [
    "The algorithm provided for checking whether a number is a prime number is indeed stable and convergent, but let's clarify these terms in the context of this problem:\n",
    "\n",
    "\n",
    "Stable: Typically, stability is a term used in numerical algorithms to describe if small changes in input lead to small changes in output. In the context of a prime-checking algorithm, stability isn't quite the right term since we're dealing with discrete, not continuous, inputs and outputs. However, if we interpret stability as producing consistent results for a given input, then yes, the algorithm is \"stable\" because it will always return the same result for any given integer input.\n",
    "\n",
    "\n",
    "Convergent: In the context of iterative algorithms, convergence refers to the algorithm's ability to approach a specific value or condition. Since this algorithm is deterministic and finite (it stops when it has checked all necessary divisors), the concept of convergence per se doesn't apply as it would in iterative algorithms for approximation. However, it does always reach a correct conclusion (prime or not prime) for any input, so in a broad sense, it \"converges\" to a correct answer.\n",
    "\n",
    "\n",
    "The algorithm is efficient because it implements two key optimizations:\n",
    "\n",
    "\n",
    "1. Early exit for even numbers: It immediately returns False for even numbers larger than 2, which are not prime by definition.\n",
    "\n",
    "2. Checking up to the square root: It only checks divisors up to the square root of the input number. This is because if a number n is divisible by some number a that is greater than its square root, then it must also be divisible by some number b that is less than the square root (since a*b=n and if both a and b were greater than the square root, their product would be greater than n).\n",
    "\n",
    "\n",
    "Proposed Speed Improvements\n",
    "\n",
    "\n",
    "The provided algorithm is already quite efficient for a basic prime checking function. "
   ]
  },
  {
   "cell_type": "markdown",
   "metadata": {},
   "source": [
    "##### Appendix: timestamp\n"
   ]
  },
  {
   "cell_type": "code",
   "execution_count": 2,
   "metadata": {
    "execution": {
     "iopub.execute_input": "2024-02-27T13:11:10.448180Z",
     "iopub.status.busy": "2024-02-27T13:11:10.448180Z",
     "iopub.status.idle": "2024-02-27T13:11:10.451365Z",
     "shell.execute_reply": "2024-02-27T13:11:10.451365Z"
    },
    "tags": []
   },
   "outputs": [
    {
     "name": "stdout",
     "output_type": "stream",
     "text": [
      "Generated on 2024-03-06 19:05:56.368132\n"
     ]
    }
   ],
   "source": [
    "from datetime import datetime\n",
    "\n",
    "print(f\"Generated on {datetime.now()}\")\n"
   ]
  },
  {
   "cell_type": "code",
   "execution_count": 4,
   "metadata": {},
   "outputs": [
    {
     "data": {
      "text/plain": [
       "False"
      ]
     },
     "execution_count": 4,
     "metadata": {},
     "output_type": "execute_result"
    }
   ],
   "source": [
    "is_prime(119)"
   ]
  },
  {
   "cell_type": "code",
   "execution_count": null,
   "metadata": {},
   "outputs": [],
   "source": []
  }
 ],
 "metadata": {
  "kernelspec": {
   "display_name": "py39",
   "language": "python",
   "name": "python3"
  },
  "language_info": {
   "codemirror_mode": {
    "name": "ipython",
    "version": 3
   },
   "file_extension": ".py",
   "mimetype": "text/x-python",
   "name": "python",
   "nbconvert_exporter": "python",
   "pygments_lexer": "ipython3",
   "version": "3.9.18"
  },
  "vscode": {
   "interpreter": {
    "hash": "9d1eebe0e4970e1a51c9be4f1862f16aa57c987426633b935545bc29a1135e2b"
   }
  }
 },
 "nbformat": 4,
 "nbformat_minor": 4
}
